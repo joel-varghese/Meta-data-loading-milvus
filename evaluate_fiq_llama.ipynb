{
 "cells": [
  {
   "cell_type": "code",
   "execution_count": null,
   "id": "b75973a4",
   "metadata": {},
   "outputs": [],
   "source": [
    "# Code is from \n",
    "# https://github.com/milvus-io/bootcamp/blob/master/bootcamp/Evaluation/eval_ragas.ipynb\n",
    "# Joel J Varghese"
   ]
  },
  {
   "cell_type": "code",
   "execution_count": null,
   "id": "782acf89",
   "metadata": {},
   "outputs": [],
   "source": [
    "import pandas as pd\n",
    "import numpy as np\n",
    "import os\n",
    "\n"
   ]
  },
  {
   "cell_type": "code",
   "execution_count": null,
   "id": "28b8b793",
   "metadata": {},
   "outputs": [],
   "source": []
  }
 ],
 "metadata": {
  "language_info": {
   "name": "python"
  }
 },
 "nbformat": 4,
 "nbformat_minor": 5
}

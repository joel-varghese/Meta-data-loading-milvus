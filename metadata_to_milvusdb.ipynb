{
 "cells": [
  {
   "cell_type": "code",
   "execution_count": 31,
   "id": "e5baadac",
   "metadata": {},
   "outputs": [],
   "source": [
    "import sys, os, time, pprint\n",
    "import numpy as np\n",
    "import pandas as pd\n",
    "\n",
    "sys.path.append(\"..\")\n",
    "import milvus_utilities as _utils"
   ]
  },
  {
   "cell_type": "code",
   "execution_count": 11,
   "id": "dd96ffcf",
   "metadata": {},
   "outputs": [
    {
     "name": "stdout",
     "output_type": "stream",
     "text": [
      "100\n",
      "62\n",
      "Example text length: 6556\n",
      "('Example text: Sallie Gardner at a Gallop Sallie Gardner at a Gallop is a '\n",
      " 'short starring Gilbert Domm and Sallie Gardner. The clip shows a jockey, '\n",
      " 'Domm, riding a horse, Sally Gardner. The clip is not filmed but instead '\n",
      " 'consists of 24 individual photographs shot in rapid... Sometimes ascribed as '\n",
      " '\"The Father of the Motion Picture\", Eadweard Muybridge undeniably '\n",
      " 'accomplished exploiting and sometimes introducing a means of instantaneous '\n",
      " 'and serial images to analyze and synthesize animal locomotion. In part, the '\n",
      " \"reasons for and the claims made of his work support Virgilio Tosi's thesis \"\n",
      " 'that cinema was invented out of the needs of scientific research. '\n",
      " \"Conversely, they're informed by Muybridge's background as an artistic \"\n",
      " 'location photographer and, as Phillip Prodger suggests, in book sales and '\n",
      " 'more useful to art than to science, as Marta Braun has demonstrated (see '\n",
      " 'sources at bottom). Additionally, Muybridge quickly exploited their '\n",
      " 'entertainment value via projection to audiences across the U.S. and Europe. '\n",
      " 'Muybridge pursued both of these paths of invention: the path taken by Jules '\n",
      " 'Janssen, Étienne-Jules Marey and others for science and the path taken by '\n",
      " 'Ottomar Anschütz, Thomas Edison, the Lumiére brothers and others for fame '\n",
      " 'and profit.\\n'\n",
      " '\\n'\n",
      " 'Muybridge began taking instantaneous single photographs of multi-millionaire '\n",
      " \"railroad magnate Leland Stanford's horses in motion in 1872. It was disputed \"\n",
      " \"at the time whether all four of a horse's legs were off the ground \"\n",
      " 'simultaneously at any time while running. Although no surviving photographs '\n",
      " 'prove it, contemporary lithographs and paintings likely based on the '\n",
      " 'photographs, indeed, show the moment of \"unsupported transit\". In between '\n",
      " 'and interrupting these experiments, Muybridge was found not guilty of the '\n",
      " \"admittedly premeditated fatal shooting of his wife's lover and possibly her \"\n",
      " \"son's father.\\n\"\n",
      " '\\n'\n",
      " \"Publication of Marey's graphic measurements of a horse's movements reignited \"\n",
      " \"Stanford's interest in the gait of horses. In turn, Marey was convinced to \"\n",
      " \"switch to photography in his motion studies after witnessing Muybridge's \"\n",
      " 'work (see \"Falling Cat\" (1894)). This work in \"automatic '\n",
      " 'electro-photographs\" began in 1878 at Stanford\\'s Palo Alto Stock Farm. '\n",
      " 'Multiple cameras were stored in a shed parallel to a track. A series of '\n",
      " 'closing boards serving as shutters were triggered by tripped threads and '\n",
      " 'electrical means. The wet collodion process of the time, reportedly, could '\n",
      " 'need up to half a minute for an exposure. For the split-second shutter '\n",
      " 'speeds required here, a white canvas background and powdered lime on the '\n",
      " 'track provided more contrast to compensate for less light getting to the '\n",
      " \"glass plates. Employees of Stanford's Central Pacific Railroad and others \"\n",
      " 'helped in constructing this \"set\" and camera equipment.\\n'\n",
      " '\\n'\n",
      " 'Contrary to unattributed claims on the web, this so-called \"Sallie Gardner '\n",
      " 'at a Gallop\" wasn\\'t the first series photographed by Muybridge. Six series '\n",
      " 'of Muybridge\\'s first subjects were published on cards entitled \"The Horse '\n",
      " 'in Motion\". The first is of the horse Abe Edgington trotting on 11 June '\n",
      " '1878. Reporters were invited for the next two series on June 15th, and, as '\n",
      " 'they reported, again, Abe went first—trotting and pulling the driver behind '\n",
      " 'in a sulky, which is what tripped the threads. The second subject that day '\n",
      " 'was Sallie Gardner running and, thus, the mare had to trip the threads. '\n",
      " 'Reporters noted how this spooked her and how that was reflected in the '\n",
      " 'negatives developed on the spot. As one article said, she \"gave a wild bound '\n",
      " 'in the air, breaking the saddle girth as she left the ground.\" Based on such '\n",
      " \"descriptions, it doesn't seem that this series exists anymore. The \"\n",
      " 'animations on the web that are actually of Sallie are dated June 19th on '\n",
      " '\"The Horse in Motion\" card. Many animations claimed to be Sallie on YouTube, '\n",
      " 'Wikipedia and elsewhere, as of this date, are actually of a mare named Annie '\n",
      " \"G. and were part of Muybridge's University of Pennsylvania work published in \"\n",
      " '1887, as the Library of Congress and other reliable sources have made clear. '\n",
      " \"The early Palo Alto photographs aren't as detailed and are closer to \"\n",
      " \"silhouettes. The 12 images of Gardner also include one where she's \"\n",
      " \"stationary. The Morse's Gallery pictures are entirely in silhouette, while \"\n",
      " 'the La Nature engravings of these same images show the rider in a white '\n",
      " 'shirt.\\n'\n",
      " '\\n'\n",
      " 'The shot of the horse stationary, as Braun points out, was added later and '\n",
      " 'is indicative of the artistic and un-scientific assemblages Muybridge made '\n",
      " 'of his images—with the intent of publication, including in his own books. '\n",
      " 'This was especially prominent in his Pennsylvania work, which included many '\n",
      " 'nude models that were surely useful for art. Muybridge influenced artists '\n",
      " 'from Realists like Thomas Eakins and Meissonier, Impressionists like Edgar '\n",
      " 'Degas and Frederick Remington, to the more abstract works of Francis Bacon. '\n",
      " 'His precedence has also been cited in the photography of Steven Pippin and '\n",
      " 'Hollis Frampton, as well as the bullet-time effects in \"The Matrix\" (1999).\\n'\n",
      " '\\n'\n",
      " 'Muybridge lectured on this relationship with art when touring with his '\n",
      " 'Zoöpraxiscope, which was a combination of the magic lantern and '\n",
      " 'phenakistoscope. With it, he projected, from glass disks, facsimiles of his '\n",
      " 'photographs hand-painted by Erwin Faber. Without intermittent movement, the '\n",
      " 'Zoöpraxiscope compressed the images, so elongated drawings were used instead '\n",
      " 'of photographs. Muybridge and others also used his images for '\n",
      " 'phenakistoscopes and zoetropes. The first demonstration of the Zoöpraxiscope '\n",
      " 'was to Stanford and friends in the autumn of 1879. A public demonstration '\n",
      " 'was given on 4 May 1880 for the San Francisco art association, and Muybridge '\n",
      " 'continued these lectures for years—personally touring the U.S. and Europe. '\n",
      " 'Although there were predecessors in animated projections as far back as 1847 '\n",
      " 'by Leopold Ludwig Döbler, in 1853 by Franz von Uchatius, and with posed '\n",
      " 'photographs by Henry Heyl in 1870, the chronophotographic and artistic basis '\n",
      " \"offered some novelty for Muybridge's presentations. They also led him to \"\n",
      " 'meet Edison and Marey and inspire the likes of Anschütz and others—those who '\n",
      " 'took the next steps in the invention of movies.\\n'\n",
      " '\\n'\n",
      " '(Main Sources: \"The Inventor and the Tycoon\" by Edward Ball. \"Eadweard '\n",
      " 'Muybridge\" and \"Picturing Time\" by Marta Braun. \"The Man Who Stopped Time\" '\n",
      " 'by Brian Clegg. \"Man in Motion\" by Robert Bartlett Haas. \"The Father of the '\n",
      " 'Motion Picture\" by Gordon Hendricks. \"The Stanford Years, 1872-1882\" edited '\n",
      " 'by Anita Ventura Mozley. \"Time Stands Still\" by Phillip Prodger. \"Cinema '\n",
      " 'Before Cinema\" by Virgilio Tosi.)')\n",
      "id               int64\n",
      "url             object\n",
      "Name            object\n",
      "PosterLink      object\n",
      "Genres          object\n",
      "Actors          object\n",
      "Director        object\n",
      "Keywords        object\n",
      "RatingValue    float32\n",
      "text            object\n",
      "MovieYear        int64\n",
      "dtype: object\n"
     ]
    },
    {
     "data": {
      "text/html": [
       "<div>\n",
       "<style scoped>\n",
       "    .dataframe tbody tr th:only-of-type {\n",
       "        vertical-align: middle;\n",
       "    }\n",
       "\n",
       "    .dataframe tbody tr th {\n",
       "        vertical-align: top;\n",
       "    }\n",
       "\n",
       "    .dataframe thead th {\n",
       "        text-align: right;\n",
       "    }\n",
       "</style>\n",
       "<table border=\"1\" class=\"dataframe\">\n",
       "  <thead>\n",
       "    <tr style=\"text-align: right;\">\n",
       "      <th></th>\n",
       "      <th>id</th>\n",
       "      <th>url</th>\n",
       "      <th>Name</th>\n",
       "      <th>PosterLink</th>\n",
       "      <th>Genres</th>\n",
       "      <th>Actors</th>\n",
       "      <th>Director</th>\n",
       "      <th>Keywords</th>\n",
       "      <th>RatingValue</th>\n",
       "      <th>text</th>\n",
       "      <th>MovieYear</th>\n",
       "    </tr>\n",
       "  </thead>\n",
       "  <tbody>\n",
       "    <tr>\n",
       "      <th>0</th>\n",
       "      <td>0</td>\n",
       "      <td>https://www.imdb.com/title/tt2221420/</td>\n",
       "      <td>Sallie Gardner at a Gallop</td>\n",
       "      <td>https://m.media-amazon.com/images/M/MV5BMjk0Mz...</td>\n",
       "      <td>[Documentary, Short]</td>\n",
       "      <td>[Gilbert Domm, Sallie Gardner]</td>\n",
       "      <td>Eadweard Muybridge</td>\n",
       "      <td>[19th century, 1870s, nature, horse, horse rid...</td>\n",
       "      <td>7.4</td>\n",
       "      <td>Sallie Gardner at a Gallop Sallie Gardner at a...</td>\n",
       "      <td>1878</td>\n",
       "    </tr>\n",
       "    <tr>\n",
       "      <th>3</th>\n",
       "      <td>3</td>\n",
       "      <td>https://www.imdb.com/title/tt0343112/</td>\n",
       "      <td>Traffic Crossing Leeds Bridge</td>\n",
       "      <td>https://m.media-amazon.com/images/M/MV5BYjZhZj...</td>\n",
       "      <td>[Documentary, Short]</td>\n",
       "      <td>[Cj Pallister]</td>\n",
       "      <td>Louis Aimé Augustin Le Prince</td>\n",
       "      <td>[bridge, street life, 1880s, traffic, horse]</td>\n",
       "      <td>6.7</td>\n",
       "      <td>Traffic Crossing Leeds Bridge Traffic Crossing...</td>\n",
       "      <td>-1</td>\n",
       "    </tr>\n",
       "  </tbody>\n",
       "</table>\n",
       "</div>"
      ],
      "text/plain": [
       "   id                                    url                           Name  \\\n",
       "0   0  https://www.imdb.com/title/tt2221420/     Sallie Gardner at a Gallop   \n",
       "3   3  https://www.imdb.com/title/tt0343112/  Traffic Crossing Leeds Bridge   \n",
       "\n",
       "                                          PosterLink                Genres  \\\n",
       "0  https://m.media-amazon.com/images/M/MV5BMjk0Mz...  [Documentary, Short]   \n",
       "3  https://m.media-amazon.com/images/M/MV5BYjZhZj...  [Documentary, Short]   \n",
       "\n",
       "                           Actors                       Director  \\\n",
       "0  [Gilbert Domm, Sallie Gardner]             Eadweard Muybridge   \n",
       "3                  [Cj Pallister]  Louis Aimé Augustin Le Prince   \n",
       "\n",
       "                                            Keywords  RatingValue  \\\n",
       "0  [19th century, 1870s, nature, horse, horse rid...          7.4   \n",
       "3       [bridge, street life, 1880s, traffic, horse]          6.7   \n",
       "\n",
       "                                                text  MovieYear  \n",
       "0  Sallie Gardner at a Gallop Sallie Gardner at a...       1878  \n",
       "3  Traffic Crossing Leeds Bridge Traffic Crossing...         -1  "
      ]
     },
     "metadata": {},
     "output_type": "display_data"
    }
   ],
   "source": [
    "df = pd.read_csv(\"data/process.csv\")\n",
    "\n",
    "df['text'] = df['Name'] + ' ' + df['Description'] + ' ' + df['ReviewBody']\n",
    "\n",
    "print(df.shape[0])\n",
    "df = df.dropna(subset=['text'])\n",
    "print(df.shape[0])\n",
    "\n",
    "df['Genres'] = df['Genres'].str.split(',')\n",
    "df['Genres'] = df['Genres'].apply(lambda d: d if isinstance(d, list) else [\"\"])\n",
    "\n",
    "df['Actors'] = df['Actors'].str.split(',')\n",
    "df['Actors'] = df['Actors'].apply(lambda d: d if isinstance(d, list) else [\"\"])\n",
    "\n",
    "df['Keywords'] = df['Keywords'].str.split(',')\n",
    "df['Keywords'] = df['Keywords'].apply(lambda d: d if isinstance(d, list) else [\"\"])\n",
    "\n",
    "def extract_year(movie_date):\n",
    "    try:\n",
    "        return int(movie_date.split('-')[0])\n",
    "    except Exception:\n",
    "        return -1\n",
    "df['MovieYear'] = df.DatePublished.apply(extract_year)\n",
    "\n",
    "df['RatingValue'] = pd.to_numeric(df['RatingValue'], errors='coerce')\n",
    "df['RatingValue'] = df['RatingValue'].fillna(-1).astype('float32')\n",
    "\n",
    "df.drop(columns=['RatingCount', 'BestRating', 'WorstRating',\n",
    "                 'ReviewAurthor', 'ReviewDate', 'ReviewBody',\n",
    "                 'Description', 'duration', 'DatePublished'], inplace=True)\n",
    "\n",
    "print(f\"Example text length: {len(df.text[0])}\")\n",
    "pprint.pprint(f\"Example text: {df.text[0]}\")\n",
    "\n",
    "df = df.tail(250).copy()\n",
    "\n",
    "print(df.dtypes)\n",
    "display(df.head(2))"
   ]
  },
  {
   "cell_type": "code",
   "execution_count": 12,
   "id": "9de20396",
   "metadata": {},
   "outputs": [
    {
     "name": "stdout",
     "output_type": "stream",
     "text": [
      "pymilvus: 2.6.2\n"
     ]
    }
   ],
   "source": [
    "import pymilvus\n",
    "from pymilvus import MilvusClient\n",
    "\n",
    "print(f\"pymilvus: {pymilvus.__version__}\")\n",
    "mc = MilvusClient(uri=\"http://localhost:19530\")"
   ]
  },
  {
   "cell_type": "code",
   "execution_count": 13,
   "id": "cd740bf4",
   "metadata": {},
   "outputs": [
    {
     "name": "stdout",
     "output_type": "stream",
     "text": [
      "model_name: BAAI/bge-large-en-v1.5\n",
      "embedding_dim: 1024\n",
      "max_seq_length: 512\n"
     ]
    }
   ],
   "source": [
    "import torch \n",
    "from sentence_transformers import SentenceTransformer\n",
    "\n",
    "torch.backends.cudnn.deterministic = True\n",
    "DEVICE = torch.device('cuda:3' if torch.cuda.is_available() else 'cpu')\n",
    "\n",
    "model_name = \"BAAI/bge-large-en-v1.5\"\n",
    "encoder = SentenceTransformer(model_name, device=DEVICE)\n",
    "\n",
    "EMBEDDING_DIM = encoder.get_sentence_embedding_dimension()\n",
    "MAX_SEQ_LENGTH_IN_TOKENS = encoder.get_max_seq_length()\n",
    "\n",
    "MAX_SEQ_LENGTH = MAX_SEQ_LENGTH_IN_TOKENS * 3\n",
    "EOS_TOKEN_LENGTH = 1 * 3\n",
    "\n",
    "MAX_SEQ_LENGTH = MAX_SEQ_LENGTH_IN_TOKENS\n",
    "EOS_TOKEN_LENGTH = 1\n",
    "\n",
    "print(f\"model_name: {model_name}\")\n",
    "print(f\"embedding_dim: {EMBEDDING_DIM}\")\n",
    "print(f\"max_seq_length: {MAX_SEQ_LENGTH}\")"
   ]
  },
  {
   "cell_type": "code",
   "execution_count": 9,
   "id": "a78b5f3a",
   "metadata": {},
   "outputs": [
    {
     "name": "stdout",
     "output_type": "stream",
     "text": [
      "Successfully dropped collection: `Imdb_metadata`\n",
      "Successfully created collection: `Imdb_metadata`\n"
     ]
    }
   ],
   "source": [
    "# Finishing up\n",
    "\n",
    "COLLECTION_NAME = \"Imdb_metadata\"\n",
    "\n",
    "if mc.has_collection(COLLECTION_NAME):\n",
    "    mc.drop_collection(COLLECTION_NAME)\n",
    "    print(f\"Successfully dropped collection: `{COLLECTION_NAME}`\")\n",
    "\n",
    "\n",
    "mc.create_collection(COLLECTION_NAME,\n",
    "                     EMBEDDING_DIM,\n",
    "                     consistency_level=\"Eventually\",\n",
    "                     auto_id=True,\n",
    "                     metric_type=\"IP\",\n",
    "                     overwrite=True,\n",
    "                     )\n",
    "print(f\"Successfully created collection: `{COLLECTION_NAME}`\")"
   ]
  },
  {
   "cell_type": "code",
   "execution_count": 15,
   "id": "59d23352",
   "metadata": {},
   "outputs": [],
   "source": [
    "from langchain.text_splitter import RecursiveCharacterTextSplitter\n",
    "\n",
    "def recursive_splitter_wrapper(text, chunk_size):\n",
    "    chunk_overlap = np.round(chunk_size * 0.10, 0)\n",
    "    text_splitter = RecursiveCharacterTextSplitter(\n",
    "        chunk_size=chunk_size,\n",
    "        chunk_overlap=chunk_overlap,\n",
    "        length_function=len,\n",
    "    )\n",
    "    chunks = text_splitter.split_text(text)\n",
    "\n",
    "    chunks = [text.replace(\"<br /><br />\", \" \") for text in chunks]\n",
    "\n",
    "    return chunks\n",
    "\n",
    "def imdb_chunk_text(batch_size, df, chunk_size):\n",
    "    batch = df.head(batch_size).copy()\n",
    "    print(f\"chunk size: {chunk_size}\")\n",
    "    print(f\"original shape: {batch.shape}\")\n",
    "\n",
    "    print(f\"Also batch size may differ from {batch_size} to {len(df)}\")\n",
    "    \n",
    "    start_time = time.time()\n",
    "\n",
    "    batch['chunk'] = batch['text'].apply(recursive_splitter_wrapper, chunk_size=chunk_size)\n",
    "    batch = batch.explode('chunk', ignore_index=True)\n",
    "    print(f\"new shape: {batch.shape}\")\n",
    "\n",
    "    embeddings = torch.tensor(encoder.encode(batch['chunk']))\n",
    "    embeddings = np.array(embeddings / np.linalg.norm(embeddings))\n",
    "\n",
    "    converted_values = list(map(np.float32, embeddings))\n",
    "    batch['vector'] = converted_values\n",
    "\n",
    "    end_time = time.time()\n",
    "    print(f\"Chunking + embedding time for {batch_size} docs: {end_time - start_time} sec\")\n",
    "\n",
    "    assert len(batch.chunk[0]) <= MAX_SEQ_LENGTH-1\n",
    "    assert len(batch.vector[0] == EMBEDDING_DIM)\n",
    "    print(f\"type embeddings: {type(batch.vector)} of {type(batch.vector[0])}\")\n",
    "    print(f\"of numbers: {type(batch.vector[0][0])}\")\n",
    "\n",
    "    return batch"
   ]
  },
  {
   "cell_type": "code",
   "execution_count": 16,
   "id": "f012f243",
   "metadata": {},
   "outputs": [
    {
     "name": "stdout",
     "output_type": "stream",
     "text": [
      "chunk size: 512\n",
      "original shape: (62, 11)\n",
      "Also batch size may differ from 800 to 62\n",
      "new shape: (254, 12)\n",
      "Chunking + embedding time for 800 docs: 72.01066589355469 sec\n",
      "type embeddings: <class 'pandas.core.series.Series'> of <class 'numpy.ndarray'>\n",
      "of numbers: <class 'numpy.float32'>\n"
     ]
    },
    {
     "name": "stderr",
     "output_type": "stream",
     "text": [
      "/var/folders/r4/dp3q02rx14lcf4mg7lgqtnp80000gn/T/ipykernel_98274/986418545.py:30: DeprecationWarning: __array__ implementation doesn't accept a copy keyword, so passing copy=False failed. __array__ must implement 'dtype' and 'copy' keyword arguments. To learn more, see the migration guide https://numpy.org/devdocs/numpy_2_0_migration_guide.html#adapting-to-changes-in-the-copy-keyword\n",
      "  embeddings = np.array(embeddings / np.linalg.norm(embeddings))\n"
     ]
    },
    {
     "data": {
      "text/html": [
       "<div>\n",
       "<style scoped>\n",
       "    .dataframe tbody tr th:only-of-type {\n",
       "        vertical-align: middle;\n",
       "    }\n",
       "\n",
       "    .dataframe tbody tr th {\n",
       "        vertical-align: top;\n",
       "    }\n",
       "\n",
       "    .dataframe thead th {\n",
       "        text-align: right;\n",
       "    }\n",
       "</style>\n",
       "<table border=\"1\" class=\"dataframe\">\n",
       "  <thead>\n",
       "    <tr style=\"text-align: right;\">\n",
       "      <th></th>\n",
       "      <th>id</th>\n",
       "      <th>url</th>\n",
       "      <th>Name</th>\n",
       "      <th>PosterLink</th>\n",
       "      <th>Genres</th>\n",
       "      <th>Actors</th>\n",
       "      <th>Director</th>\n",
       "      <th>Keywords</th>\n",
       "      <th>RatingValue</th>\n",
       "      <th>text</th>\n",
       "      <th>MovieYear</th>\n",
       "      <th>chunk</th>\n",
       "      <th>vector</th>\n",
       "    </tr>\n",
       "  </thead>\n",
       "  <tbody>\n",
       "    <tr>\n",
       "      <th>0</th>\n",
       "      <td>0</td>\n",
       "      <td>https://www.imdb.com/title/tt2221420/</td>\n",
       "      <td>Sallie Gardner at a Gallop</td>\n",
       "      <td>https://m.media-amazon.com/images/M/MV5BMjk0Mz...</td>\n",
       "      <td>[Documentary, Short]</td>\n",
       "      <td>[Gilbert Domm, Sallie Gardner]</td>\n",
       "      <td>Eadweard Muybridge</td>\n",
       "      <td>[19th century, 1870s, nature, horse, horse rid...</td>\n",
       "      <td>7.4</td>\n",
       "      <td>Sallie Gardner at a Gallop Sallie Gardner at a...</td>\n",
       "      <td>1878</td>\n",
       "      <td>Sallie Gardner at a Gallop Sallie Gardner at a...</td>\n",
       "      <td>[0.0017392188, 0.00088550965, 0.0044410275, -0...</td>\n",
       "    </tr>\n",
       "    <tr>\n",
       "      <th>1</th>\n",
       "      <td>0</td>\n",
       "      <td>https://www.imdb.com/title/tt2221420/</td>\n",
       "      <td>Sallie Gardner at a Gallop</td>\n",
       "      <td>https://m.media-amazon.com/images/M/MV5BMjk0Mz...</td>\n",
       "      <td>[Documentary, Short]</td>\n",
       "      <td>[Gilbert Domm, Sallie Gardner]</td>\n",
       "      <td>Eadweard Muybridge</td>\n",
       "      <td>[19th century, 1870s, nature, horse, horse rid...</td>\n",
       "      <td>7.4</td>\n",
       "      <td>Sallie Gardner at a Gallop Sallie Gardner at a...</td>\n",
       "      <td>1878</td>\n",
       "      <td>animal locomotion. In part, the reasons for an...</td>\n",
       "      <td>[0.0013205261, -7.3755305e-05, 0.0027188999, -...</td>\n",
       "    </tr>\n",
       "  </tbody>\n",
       "</table>\n",
       "</div>"
      ],
      "text/plain": [
       "   id                                    url                        Name  \\\n",
       "0   0  https://www.imdb.com/title/tt2221420/  Sallie Gardner at a Gallop   \n",
       "1   0  https://www.imdb.com/title/tt2221420/  Sallie Gardner at a Gallop   \n",
       "\n",
       "                                          PosterLink                Genres  \\\n",
       "0  https://m.media-amazon.com/images/M/MV5BMjk0Mz...  [Documentary, Short]   \n",
       "1  https://m.media-amazon.com/images/M/MV5BMjk0Mz...  [Documentary, Short]   \n",
       "\n",
       "                           Actors            Director  \\\n",
       "0  [Gilbert Domm, Sallie Gardner]  Eadweard Muybridge   \n",
       "1  [Gilbert Domm, Sallie Gardner]  Eadweard Muybridge   \n",
       "\n",
       "                                            Keywords  RatingValue  \\\n",
       "0  [19th century, 1870s, nature, horse, horse rid...          7.4   \n",
       "1  [19th century, 1870s, nature, horse, horse rid...          7.4   \n",
       "\n",
       "                                                text  MovieYear  \\\n",
       "0  Sallie Gardner at a Gallop Sallie Gardner at a...       1878   \n",
       "1  Sallie Gardner at a Gallop Sallie Gardner at a...       1878   \n",
       "\n",
       "                                               chunk  \\\n",
       "0  Sallie Gardner at a Gallop Sallie Gardner at a...   \n",
       "1  animal locomotion. In part, the reasons for an...   \n",
       "\n",
       "                                              vector  \n",
       "0  [0.0017392188, 0.00088550965, 0.0044410275, -0...  \n",
       "1  [0.0013205261, -7.3755305e-05, 0.0027188999, -...  "
      ]
     },
     "metadata": {},
     "output_type": "display_data"
    }
   ],
   "source": [
    "chunk_size =512\n",
    "chunk_overlap = np.round(chunk_size * 0.10, 0)\n",
    "\n",
    "BATCH_SIZE = 800\n",
    "batch = imdb_chunk_text(BATCH_SIZE, df, chunk_size)\n",
    "display(batch.head(2))\n",
    "\n",
    "batch.drop(columns=['id', 'text'], axis=1, inplace=True)"
   ]
  },
  {
   "cell_type": "code",
   "execution_count": 20,
   "id": "5681a99c",
   "metadata": {},
   "outputs": [
    {
     "name": "stdout",
     "output_type": "stream",
     "text": [
      "url            0\n",
      "Name           0\n",
      "PosterLink     0\n",
      "Genres         0\n",
      "Actors         0\n",
      "Director       6\n",
      "Keywords       0\n",
      "RatingValue    0\n",
      "MovieYear      0\n",
      "chunk          0\n",
      "vector         0\n",
      "dtype: int64\n"
     ]
    }
   ],
   "source": [
    "print(batch.isnull().sum())\n",
    "\n",
    "batch_clean = batch.fillna('')"
   ]
  },
  {
   "cell_type": "code",
   "execution_count": 21,
   "id": "cd98b8df",
   "metadata": {},
   "outputs": [
    {
     "name": "stdout",
     "output_type": "stream",
     "text": [
      "Start inserting entities\n",
      "Milvus Client insert time for 254 vectors: 0.13849186897277832 seconds\n"
     ]
    }
   ],
   "source": [
    "dict_list = batch_clean.to_dict(orient='records')\n",
    "\n",
    "print(\"Start inserting entities\")\n",
    "start_time = time.time()\n",
    "insert_result = mc.insert(\n",
    "    COLLECTION_NAME,\n",
    "    data=dict_list,\n",
    "    progress_bar=True\n",
    ")\n",
    "end_time = time.time()\n",
    "print(f\"Milvus Client insert time for {batch.shape[0]} vectors: {end_time - start_time} seconds\")"
   ]
  },
  {
   "cell_type": "code",
   "execution_count": 22,
   "id": "ec084c1c",
   "metadata": {},
   "outputs": [
    {
     "name": "stdout",
     "output_type": "stream",
     "text": [
      "254\n",
      "<class 'dict'> 11\n",
      "{'Actors': ['Gilbert Domm', 'Sallie Gardner'],\n",
      " 'Director': 'Eadweard Muybridge',\n",
      " 'Genres': ['Documentary', 'Short'],\n",
      " 'Keywords': ['19th century', '1870s', 'nature', 'horse', 'horse riding'],\n",
      " 'MovieYear': 1878,\n",
      " 'Name': 'Sallie Gardner at a Gallop',\n",
      " 'PosterLink': 'https://m.media-amazon.com/images/M/MV5BMjk0MzM1NDUtMTIyNi00Y2Y3LWEwNzEtMDQ1NmU4YzgzYWU2XkEyXkFqcGdeQXVyMjM3NTU0NTQ@._V1_.jpg',\n",
      " 'RatingValue': 7.400000095367432,\n",
      " 'chunk': 'Sallie Gardner at a Gallop Sallie Gardner at a Gallop is a short '\n",
      "          'starring Gilbert Domm and Sallie Gardner. The clip shows a jockey, '\n",
      "          'Domm, riding a horse, Sally Gardner. The clip is not filmed but '\n",
      "          'instead consists of 24 individual photographs shot in rapid... '\n",
      "          'Sometimes ascribed as \"The Father of the Motion Picture\", Eadweard '\n",
      "          'Muybridge undeniably accomplished exploiting and sometimes '\n",
      "          'introducing a means of instantaneous and serial images to analyze '\n",
      "          'and synthesize animal locomotion. In part, the reasons for',\n",
      " 'url': 'https://www.imdb.com/title/tt2221420/',\n",
      " 'vector': array([ 0.00173922,  0.00088551,  0.00444103, ..., -0.00069028,\n",
      "        0.00055595, -0.00027699], shape=(1024,), dtype=float32)}\n"
     ]
    }
   ],
   "source": [
    "print(len(dict_list))\n",
    "print(type(dict_list[0]), len(dict_list[0]))\n",
    "pprint.pprint(dict_list[0])"
   ]
  },
  {
   "cell_type": "code",
   "execution_count": 23,
   "id": "652c74a3",
   "metadata": {},
   "outputs": [
    {
     "name": "stdout",
     "output_type": "stream",
     "text": [
      "['url', 'Name', 'PosterLink', 'Genres', 'Actors', 'Director', 'Keywords', 'RatingValue', 'MovieYear', 'chunk']\n"
     ]
    }
   ],
   "source": [
    "OUTPUT_FIELDS = list(dict_list[0].keys())\n",
    "OUTPUT_FIELDS.remove('vector')\n",
    "print(OUTPUT_FIELDS)"
   ]
  },
  {
   "cell_type": "code",
   "execution_count": 24,
   "id": "2c422da2",
   "metadata": {},
   "outputs": [
    {
     "name": "stdout",
     "output_type": "stream",
     "text": [
      "['Drama', 'History', 'Family', 'Comedy', 'Action', 'Sport', 'Sci-Fi', 'Crime', 'Fantasy', 'Biography', 'Music', 'Documentary', 'Romance', 'Horror', 'Short']\n"
     ]
    }
   ],
   "source": [
    "GENRES = list(set([genre for genres in df['Genres'] for genre in genres]))\n",
    "print(GENRES)"
   ]
  },
  {
   "cell_type": "code",
   "execution_count": 26,
   "id": "8053e836",
   "metadata": {},
   "outputs": [
    {
     "data": {
      "text/plain": [
       "<Axes: >"
      ]
     },
     "execution_count": 26,
     "metadata": {},
     "output_type": "execute_result"
    },
    {
     "data": {
      "image/png": "[encoded data removed]",
      "text/plain": [
       "<Figure size 400x200 with 1 Axes>"
      ]
     },
     "metadata": {},
     "output_type": "display_data"
    }
   ],
   "source": [
    "import matplotlib.pyplot as plt\n",
    "plt.figure(figsize=(4,2))\n",
    "df['RatingValue'].hist()"
   ]
  },
  {
   "cell_type": "code",
   "execution_count": 35,
   "id": "6e221cc1",
   "metadata": {},
   "outputs": [],
   "source": [
    "SAMPLE_QUESTION = \"Dystopia science fiction with a robot.\""
   ]
  },
  {
   "cell_type": "code",
   "execution_count": 27,
   "id": "5ac28115",
   "metadata": {},
   "outputs": [],
   "source": [
    "def mc_run_search(question, filter_expression, top_k):\n",
    "    query_embeddings = _utils.embed_query(encoder, [question])\n",
    "\n",
    "    results = mc.search(\n",
    "        COLLECTION_NAME,\n",
    "        data=query_embeddings,\n",
    "        output_fields=OUTPUT_FIELDS,\n",
    "        filter=filter_expression,\n",
    "        limit=top_k,\n",
    "        consistency_level=\"Eventually\"\n",
    "    )\n",
    "\n",
    "    METADATA_FIELDS = [f for f in OUTPUT_FIELDS if f != 'chunk']\n",
    "    formatted_results, context, context_metadata = _utils.client_assemble_retrieved_context(\n",
    "        results, metadata_fields=METADATA_FIELDS, num_shot_answers=TOP_K\n",
    "    )\n",
    "\n",
    "    return formatted_results, context, context_metadata"
   ]
  },
  {
   "cell_type": "code",
   "execution_count": 37,
   "id": "fafa870e",
   "metadata": {},
   "outputs": [
    {
     "name": "stdout",
     "output_type": "stream",
     "text": [
      "filter: rating >= 6.5 && (genres[0] like \"Sci-Fi%\" || genres[1] like \"Sci-Fi%\" || genres[2] == \"Sci-Fi\")\n"
     ]
    },
    {
     "name": "stderr",
     "output_type": "stream",
     "text": [
      "2025-09-20 14:51:34,705 [ERROR][handler]: RPC error: [search], <MilvusException: (code=Unsupported field type: 0, message=)>, <Time:{'RPC start': '2025-09-20 14:51:34.541412', 'RPC error': '2025-09-20 14:51:34.705157'}> (decorators.py:140)\n",
      "2025-09-20 14:51:34,708 [ERROR][search]: Failed to search collection: Imdb_metadata (milvus_client.py:425)\n"
     ]
    },
    {
     "ename": "MilvusException",
     "evalue": "<MilvusException: (code=Unsupported field type: 0, message=)>",
     "output_type": "error",
     "traceback": [
      "\u001b[31m---------------------------------------------------------------------------\u001b[39m",
      "\u001b[31mMilvusException\u001b[39m                           Traceback (most recent call last)",
      "    \u001b[31m[... skipping hidden 1 frame]\u001b[39m\n",
      "\u001b[36mCell\u001b[39m\u001b[36m \u001b[39m\u001b[32mIn[37]\u001b[39m\u001b[32m, line 11\u001b[39m\n\u001b[32m      9\u001b[39m start_time = time.time()\n\u001b[32m     10\u001b[39m formatted_results, contexts, context_metadata = \\\n\u001b[32m---> \u001b[39m\u001b[32m11\u001b[39m     \u001b[43mmc_run_search\u001b[49m\u001b[43m(\u001b[49m\u001b[43mSAMPLE_QUESTION\u001b[49m\u001b[43m,\u001b[49m\u001b[43m \u001b[49m\u001b[43mexpression\u001b[49m\u001b[43m,\u001b[49m\u001b[43m \u001b[49m\u001b[43mTOP_K\u001b[49m\u001b[43m)\u001b[49m\n\u001b[32m     12\u001b[39m elapsed_time = time.time() - start_time\n",
      "\u001b[36mCell\u001b[39m\u001b[36m \u001b[39m\u001b[32mIn[27]\u001b[39m\u001b[32m, line 4\u001b[39m, in \u001b[36mmc_run_search\u001b[39m\u001b[34m(question, filter_expression, top_k)\u001b[39m\n\u001b[32m      2\u001b[39m query_embeddings = _utils.embed_query(encoder, [question])\n\u001b[32m----> \u001b[39m\u001b[32m4\u001b[39m results = \u001b[43mmc\u001b[49m\u001b[43m.\u001b[49m\u001b[43msearch\u001b[49m\u001b[43m(\u001b[49m\n\u001b[32m      5\u001b[39m \u001b[43m    \u001b[49m\u001b[43mCOLLECTION_NAME\u001b[49m\u001b[43m,\u001b[49m\n\u001b[32m      6\u001b[39m \u001b[43m    \u001b[49m\u001b[43mdata\u001b[49m\u001b[43m=\u001b[49m\u001b[43mquery_embeddings\u001b[49m\u001b[43m,\u001b[49m\n\u001b[32m      7\u001b[39m \u001b[43m    \u001b[49m\u001b[43moutput_fields\u001b[49m\u001b[43m=\u001b[49m\u001b[43mOUTPUT_FIELDS\u001b[49m\u001b[43m,\u001b[49m\n\u001b[32m      8\u001b[39m \u001b[43m    \u001b[49m\u001b[38;5;28;43mfilter\u001b[39;49m\u001b[43m=\u001b[49m\u001b[43mfilter_expression\u001b[49m\u001b[43m,\u001b[49m\n\u001b[32m      9\u001b[39m \u001b[43m    \u001b[49m\u001b[43mlimit\u001b[49m\u001b[43m=\u001b[49m\u001b[43mtop_k\u001b[49m\u001b[43m,\u001b[49m\n\u001b[32m     10\u001b[39m \u001b[43m    \u001b[49m\u001b[43mconsistency_level\u001b[49m\u001b[43m=\u001b[49m\u001b[33;43m\"\u001b[39;49m\u001b[33;43mEventually\u001b[39;49m\u001b[33;43m\"\u001b[39;49m\n\u001b[32m     11\u001b[39m \u001b[43m\u001b[49m\u001b[43m)\u001b[49m\n\u001b[32m     13\u001b[39m METADATA_FIELDS = [f \u001b[38;5;28;01mfor\u001b[39;00m f \u001b[38;5;129;01min\u001b[39;00m OUTPUT_FIELDS \u001b[38;5;28;01mif\u001b[39;00m f != \u001b[33m'\u001b[39m\u001b[33mchunk\u001b[39m\u001b[33m'\u001b[39m]\n",
      "\u001b[36mFile \u001b[39m\u001b[32m~/Documents/Workspace/Milvus_ollama_trial/.venv/lib/python3.12/site-packages/pymilvus/milvus_client/milvus_client.py:426\u001b[39m, in \u001b[36mMilvusClient.search\u001b[39m\u001b[34m(self, collection_name, data, filter, limit, output_fields, search_params, timeout, partition_names, anns_field, ranker, **kwargs)\u001b[39m\n\u001b[32m    425\u001b[39m     logger.error(\u001b[33m\"\u001b[39m\u001b[33mFailed to search collection: \u001b[39m\u001b[38;5;132;01m%s\u001b[39;00m\u001b[33m\"\u001b[39m, collection_name)\n\u001b[32m--> \u001b[39m\u001b[32m426\u001b[39m     \u001b[38;5;28;01mraise\u001b[39;00m ex \u001b[38;5;28;01mfrom\u001b[39;00m\u001b[38;5;250m \u001b[39m\u001b[34;01mex\u001b[39;00m\n\u001b[32m    428\u001b[39m \u001b[38;5;28;01mreturn\u001b[39;00m res\n",
      "\u001b[36mFile \u001b[39m\u001b[32m~/Documents/Workspace/Milvus_ollama_trial/.venv/lib/python3.12/site-packages/pymilvus/milvus_client/milvus_client.py:410\u001b[39m, in \u001b[36mMilvusClient.search\u001b[39m\u001b[34m(self, collection_name, data, filter, limit, output_fields, search_params, timeout, partition_names, anns_field, ranker, **kwargs)\u001b[39m\n\u001b[32m    409\u001b[39m \u001b[38;5;28;01mtry\u001b[39;00m:\n\u001b[32m--> \u001b[39m\u001b[32m410\u001b[39m     res = \u001b[43mconn\u001b[49m\u001b[43m.\u001b[49m\u001b[43msearch\u001b[49m\u001b[43m(\u001b[49m\n\u001b[32m    411\u001b[39m \u001b[43m        \u001b[49m\u001b[43mcollection_name\u001b[49m\u001b[43m,\u001b[49m\n\u001b[32m    412\u001b[39m \u001b[43m        \u001b[49m\u001b[43mdata\u001b[49m\u001b[43m,\u001b[49m\n\u001b[32m    413\u001b[39m \u001b[43m        \u001b[49m\u001b[43manns_field\u001b[49m\u001b[43m \u001b[49m\u001b[38;5;129;43;01mor\u001b[39;49;00m\u001b[43m \u001b[49m\u001b[33;43m\"\u001b[39;49m\u001b[33;43m\"\u001b[39;49m\u001b[43m,\u001b[49m\n\u001b[32m    414\u001b[39m \u001b[43m        \u001b[49m\u001b[43msearch_params\u001b[49m\u001b[43m \u001b[49m\u001b[38;5;129;43;01mor\u001b[39;49;00m\u001b[43m \u001b[49m\u001b[43m{\u001b[49m\u001b[43m}\u001b[49m\u001b[43m,\u001b[49m\n\u001b[32m    415\u001b[39m \u001b[43m        \u001b[49m\u001b[43mexpression\u001b[49m\u001b[43m=\u001b[49m\u001b[38;5;28;43mfilter\u001b[39;49m\u001b[43m,\u001b[49m\n\u001b[32m    416\u001b[39m \u001b[43m        \u001b[49m\u001b[43mlimit\u001b[49m\u001b[43m=\u001b[49m\u001b[43mlimit\u001b[49m\u001b[43m,\u001b[49m\n\u001b[32m    417\u001b[39m \u001b[43m        \u001b[49m\u001b[43moutput_fields\u001b[49m\u001b[43m=\u001b[49m\u001b[43moutput_fields\u001b[49m\u001b[43m,\u001b[49m\n\u001b[32m    418\u001b[39m \u001b[43m        \u001b[49m\u001b[43mpartition_names\u001b[49m\u001b[43m=\u001b[49m\u001b[43mpartition_names\u001b[49m\u001b[43m,\u001b[49m\n\u001b[32m    419\u001b[39m \u001b[43m        \u001b[49m\u001b[43mexpr_params\u001b[49m\u001b[43m=\u001b[49m\u001b[43mkwargs\u001b[49m\u001b[43m.\u001b[49m\u001b[43mpop\u001b[49m\u001b[43m(\u001b[49m\u001b[33;43m\"\u001b[39;49m\u001b[33;43mfilter_params\u001b[39;49m\u001b[33;43m\"\u001b[39;49m\u001b[43m,\u001b[49m\u001b[43m \u001b[49m\u001b[43m{\u001b[49m\u001b[43m}\u001b[49m\u001b[43m)\u001b[49m\u001b[43m,\u001b[49m\n\u001b[32m    420\u001b[39m \u001b[43m        \u001b[49m\u001b[43mtimeout\u001b[49m\u001b[43m=\u001b[49m\u001b[43mtimeout\u001b[49m\u001b[43m,\u001b[49m\n\u001b[32m    421\u001b[39m \u001b[43m        \u001b[49m\u001b[43mranker\u001b[49m\u001b[43m=\u001b[49m\u001b[43mranker\u001b[49m\u001b[43m,\u001b[49m\n\u001b[32m    422\u001b[39m \u001b[43m        \u001b[49m\u001b[43m*\u001b[49m\u001b[43m*\u001b[49m\u001b[43mkwargs\u001b[49m\u001b[43m,\u001b[49m\n\u001b[32m    423\u001b[39m \u001b[43m    \u001b[49m\u001b[43m)\u001b[49m\n\u001b[32m    424\u001b[39m \u001b[38;5;28;01mexcept\u001b[39;00m \u001b[38;5;167;01mException\u001b[39;00m \u001b[38;5;28;01mas\u001b[39;00m ex:\n",
      "\u001b[36mFile \u001b[39m\u001b[32m~/Documents/Workspace/Milvus_ollama_trial/.venv/lib/python3.12/site-packages/pymilvus/decorators.py:141\u001b[39m, in \u001b[36merror_handler.<locals>.wrapper.<locals>.handler\u001b[39m\u001b[34m(*args, **kwargs)\u001b[39m\n\u001b[32m    140\u001b[39m     LOGGER.error(\u001b[33mf\u001b[39m\u001b[33m\"\u001b[39m\u001b[33mRPC error: [\u001b[39m\u001b[38;5;132;01m{\u001b[39;00minner_name\u001b[38;5;132;01m}\u001b[39;00m\u001b[33m], \u001b[39m\u001b[38;5;132;01m{\u001b[39;00me\u001b[38;5;132;01m}\u001b[39;00m\u001b[33m, <Time:\u001b[39m\u001b[38;5;132;01m{\u001b[39;00mrecord_dict\u001b[38;5;132;01m}\u001b[39;00m\u001b[33m>\u001b[39m\u001b[33m\"\u001b[39m)\n\u001b[32m--> \u001b[39m\u001b[32m141\u001b[39m     \u001b[38;5;28;01mraise\u001b[39;00m e \u001b[38;5;28;01mfrom\u001b[39;00m\u001b[38;5;250m \u001b[39m\u001b[34;01me\u001b[39;00m\n\u001b[32m    142\u001b[39m \u001b[38;5;28;01mexcept\u001b[39;00m grpc.FutureTimeoutError \u001b[38;5;28;01mas\u001b[39;00m e:\n",
      "\u001b[36mFile \u001b[39m\u001b[32m~/Documents/Workspace/Milvus_ollama_trial/.venv/lib/python3.12/site-packages/pymilvus/decorators.py:137\u001b[39m, in \u001b[36merror_handler.<locals>.wrapper.<locals>.handler\u001b[39m\u001b[34m(*args, **kwargs)\u001b[39m\n\u001b[32m    136\u001b[39m     record_dict[\u001b[33m\"\u001b[39m\u001b[33mRPC start\u001b[39m\u001b[33m\"\u001b[39m] = \u001b[38;5;28mstr\u001b[39m(datetime.datetime.now())\n\u001b[32m--> \u001b[39m\u001b[32m137\u001b[39m     \u001b[38;5;28;01mreturn\u001b[39;00m \u001b[43mfunc\u001b[49m\u001b[43m(\u001b[49m\u001b[43m*\u001b[49m\u001b[43margs\u001b[49m\u001b[43m,\u001b[49m\u001b[43m \u001b[49m\u001b[43m*\u001b[49m\u001b[43m*\u001b[49m\u001b[43mkwargs\u001b[49m\u001b[43m)\u001b[49m\n\u001b[32m    138\u001b[39m \u001b[38;5;28;01mexcept\u001b[39;00m MilvusException \u001b[38;5;28;01mas\u001b[39;00m e:\n",
      "\u001b[36mFile \u001b[39m\u001b[32m~/Documents/Workspace/Milvus_ollama_trial/.venv/lib/python3.12/site-packages/pymilvus/decorators.py:173\u001b[39m, in \u001b[36mtracing_request.<locals>.wrapper.<locals>.handler\u001b[39m\u001b[34m(self, *args, **kwargs)\u001b[39m\n\u001b[32m    172\u001b[39m     \u001b[38;5;28mself\u001b[39m.set_onetime_loglevel(level)\n\u001b[32m--> \u001b[39m\u001b[32m173\u001b[39m \u001b[38;5;28;01mreturn\u001b[39;00m \u001b[43mfunc\u001b[49m\u001b[43m(\u001b[49m\u001b[38;5;28;43mself\u001b[39;49m\u001b[43m,\u001b[49m\u001b[43m \u001b[49m\u001b[43m*\u001b[49m\u001b[43margs\u001b[49m\u001b[43m,\u001b[49m\u001b[43m \u001b[49m\u001b[43m*\u001b[49m\u001b[43m*\u001b[49m\u001b[43mkwargs\u001b[49m\u001b[43m)\u001b[49m\n",
      "\u001b[36mFile \u001b[39m\u001b[32m~/Documents/Workspace/Milvus_ollama_trial/.venv/lib/python3.12/site-packages/pymilvus/decorators.py:116\u001b[39m, in \u001b[36mretry_on_rpc_failure.<locals>.wrapper.<locals>.handler\u001b[39m\u001b[34m(*args, **kwargs)\u001b[39m\n\u001b[32m    115\u001b[39m     \u001b[38;5;28;01melse\u001b[39;00m:\n\u001b[32m--> \u001b[39m\u001b[32m116\u001b[39m         \u001b[38;5;28;01mraise\u001b[39;00m e \u001b[38;5;28;01mfrom\u001b[39;00m\u001b[38;5;250m \u001b[39m\u001b[34;01me\u001b[39;00m\n\u001b[32m    117\u001b[39m \u001b[38;5;28;01mexcept\u001b[39;00m \u001b[38;5;167;01mException\u001b[39;00m \u001b[38;5;28;01mas\u001b[39;00m e:\n",
      "\u001b[36mFile \u001b[39m\u001b[32m~/Documents/Workspace/Milvus_ollama_trial/.venv/lib/python3.12/site-packages/pymilvus/decorators.py:86\u001b[39m, in \u001b[36mretry_on_rpc_failure.<locals>.wrapper.<locals>.handler\u001b[39m\u001b[34m(*args, **kwargs)\u001b[39m\n\u001b[32m     85\u001b[39m \u001b[38;5;28;01mtry\u001b[39;00m:\n\u001b[32m---> \u001b[39m\u001b[32m86\u001b[39m     \u001b[38;5;28;01mreturn\u001b[39;00m \u001b[43mfunc\u001b[49m\u001b[43m(\u001b[49m\u001b[43m*\u001b[49m\u001b[43margs\u001b[49m\u001b[43m,\u001b[49m\u001b[43m \u001b[49m\u001b[43m*\u001b[49m\u001b[43m*\u001b[49m\u001b[43mkwargs\u001b[49m\u001b[43m)\u001b[49m\n\u001b[32m     87\u001b[39m \u001b[38;5;28;01mexcept\u001b[39;00m grpc.RpcError \u001b[38;5;28;01mas\u001b[39;00m e:\n\u001b[32m     88\u001b[39m     \u001b[38;5;66;03m# Do not retry on these codes\u001b[39;00m\n",
      "\u001b[36mFile \u001b[39m\u001b[32m~/Documents/Workspace/Milvus_ollama_trial/.venv/lib/python3.12/site-packages/pymilvus/client/grpc_handler.py:970\u001b[39m, in \u001b[36mGrpcHandler.search\u001b[39m\u001b[34m(self, collection_name, data, anns_field, param, limit, expression, partition_names, output_fields, round_decimal, timeout, ranker, **kwargs)\u001b[39m\n\u001b[32m    957\u001b[39m request = Prepare.search_requests_with_expr(\n\u001b[32m    958\u001b[39m     collection_name,\n\u001b[32m    959\u001b[39m     data,\n\u001b[32m   (...)\u001b[39m\u001b[32m    968\u001b[39m     **kwargs,\n\u001b[32m    969\u001b[39m )\n\u001b[32m--> \u001b[39m\u001b[32m970\u001b[39m \u001b[38;5;28;01mreturn\u001b[39;00m \u001b[38;5;28;43mself\u001b[39;49m\u001b[43m.\u001b[49m\u001b[43m_execute_search\u001b[49m\u001b[43m(\u001b[49m\u001b[43mrequest\u001b[49m\u001b[43m,\u001b[49m\u001b[43m \u001b[49m\u001b[43mtimeout\u001b[49m\u001b[43m,\u001b[49m\u001b[43m \u001b[49m\u001b[43mround_decimal\u001b[49m\u001b[43m=\u001b[49m\u001b[43mround_decimal\u001b[49m\u001b[43m,\u001b[49m\u001b[43m \u001b[49m\u001b[43m*\u001b[49m\u001b[43m*\u001b[49m\u001b[43mkwargs\u001b[49m\u001b[43m)\u001b[49m\n",
      "\u001b[36mFile \u001b[39m\u001b[32m~/Documents/Workspace/Milvus_ollama_trial/.venv/lib/python3.12/site-packages/pymilvus/client/grpc_handler.py:905\u001b[39m, in \u001b[36mGrpcHandler._execute_search\u001b[39m\u001b[34m(self, request, timeout, **kwargs)\u001b[39m\n\u001b[32m    904\u001b[39m     \u001b[38;5;28;01mreturn\u001b[39;00m SearchFuture(\u001b[38;5;28;01mNone\u001b[39;00m, \u001b[38;5;28;01mNone\u001b[39;00m, e)\n\u001b[32m--> \u001b[39m\u001b[32m905\u001b[39m \u001b[38;5;28;01mraise\u001b[39;00m e \u001b[38;5;28;01mfrom\u001b[39;00m\u001b[38;5;250m \u001b[39m\u001b[34;01me\u001b[39;00m\n",
      "\u001b[36mFile \u001b[39m\u001b[32m~/Documents/Workspace/Milvus_ollama_trial/.venv/lib/python3.12/site-packages/pymilvus/client/grpc_handler.py:896\u001b[39m, in \u001b[36mGrpcHandler._execute_search\u001b[39m\u001b[34m(self, request, timeout, **kwargs)\u001b[39m\n\u001b[32m    895\u001b[39m     round_decimal = kwargs.get(\u001b[33m\"\u001b[39m\u001b[33mround_decimal\u001b[39m\u001b[33m\"\u001b[39m, -\u001b[32m1\u001b[39m)\n\u001b[32m--> \u001b[39m\u001b[32m896\u001b[39m     \u001b[38;5;28;01mreturn\u001b[39;00m \u001b[43mSearchResult\u001b[49m\u001b[43m(\u001b[49m\n\u001b[32m    897\u001b[39m \u001b[43m        \u001b[49m\u001b[43mresponse\u001b[49m\u001b[43m.\u001b[49m\u001b[43mresults\u001b[49m\u001b[43m,\u001b[49m\n\u001b[32m    898\u001b[39m \u001b[43m        \u001b[49m\u001b[43mround_decimal\u001b[49m\u001b[43m,\u001b[49m\n\u001b[32m    899\u001b[39m \u001b[43m        \u001b[49m\u001b[43mstatus\u001b[49m\u001b[43m=\u001b[49m\u001b[43mresponse\u001b[49m\u001b[43m.\u001b[49m\u001b[43mstatus\u001b[49m\u001b[43m,\u001b[49m\n\u001b[32m    900\u001b[39m \u001b[43m        \u001b[49m\u001b[43msession_ts\u001b[49m\u001b[43m=\u001b[49m\u001b[43mresponse\u001b[49m\u001b[43m.\u001b[49m\u001b[43msession_ts\u001b[49m\u001b[43m,\u001b[49m\n\u001b[32m    901\u001b[39m \u001b[43m    \u001b[49m\u001b[43m)\u001b[49m\n\u001b[32m    902\u001b[39m \u001b[38;5;28;01mexcept\u001b[39;00m \u001b[38;5;167;01mException\u001b[39;00m \u001b[38;5;28;01mas\u001b[39;00m e:\n",
      "\u001b[36mFile \u001b[39m\u001b[32m~/Documents/Workspace/Milvus_ollama_trial/.venv/lib/python3.12/site-packages/pymilvus/client/search_result.py:215\u001b[39m, in \u001b[36mSearchResult.__init__\u001b[39m\u001b[34m(self, res, round_decimal, status, session_ts)\u001b[39m\n\u001b[32m    208\u001b[39m \u001b[38;5;28;01mdef\u001b[39;00m\u001b[38;5;250m \u001b[39m\u001b[34m__init__\u001b[39m(\n\u001b[32m    209\u001b[39m     \u001b[38;5;28mself\u001b[39m,\n\u001b[32m    210\u001b[39m     res: schema_pb2.SearchResultData,\n\u001b[32m   (...)\u001b[39m\u001b[32m    213\u001b[39m     session_ts: Optional[\u001b[38;5;28mint\u001b[39m] = \u001b[32m0\u001b[39m,\n\u001b[32m    214\u001b[39m ):\n\u001b[32m--> \u001b[39m\u001b[32m215\u001b[39m     _data = \u001b[38;5;28;43mself\u001b[39;49m\u001b[43m.\u001b[49m\u001b[43m_parse_search_result_data\u001b[49m\u001b[43m(\u001b[49m\u001b[43mres\u001b[49m\u001b[43m,\u001b[49m\u001b[43m \u001b[49m\u001b[43mround_decimal\u001b[49m\u001b[43m)\u001b[49m\n\u001b[32m    216\u001b[39m     \u001b[38;5;28msuper\u001b[39m().\u001b[34m__init__\u001b[39m(_data)\n",
      "\u001b[36mFile \u001b[39m\u001b[32m~/Documents/Workspace/Milvus_ollama_trial/.venv/lib/python3.12/site-packages/pymilvus/client/search_result.py:271\u001b[39m, in \u001b[36mSearchResult._parse_search_result_data\u001b[39m\u001b[34m(self, res, round_decimal)\u001b[39m\n\u001b[32m    269\u001b[39m start, end = nq_thres, nq_thres + topk\n\u001b[32m    270\u001b[39m data.append(\n\u001b[32m--> \u001b[39m\u001b[32m271\u001b[39m     \u001b[43mHybridHits\u001b[49m\u001b[43m(\u001b[49m\n\u001b[32m    272\u001b[39m \u001b[43m        \u001b[49m\u001b[43mstart\u001b[49m\u001b[43m,\u001b[49m\n\u001b[32m    273\u001b[39m \u001b[43m        \u001b[49m\u001b[43mend\u001b[49m\u001b[43m,\u001b[49m\n\u001b[32m    274\u001b[39m \u001b[43m        \u001b[49m\u001b[43mall_pks\u001b[49m\u001b[43m,\u001b[49m\n\u001b[32m    275\u001b[39m \u001b[43m        \u001b[49m\u001b[43mall_scores\u001b[49m\u001b[43m,\u001b[49m\n\u001b[32m    276\u001b[39m \u001b[43m        \u001b[49m\u001b[43mres\u001b[49m\u001b[43m.\u001b[49m\u001b[43mfields_data\u001b[49m\u001b[43m,\u001b[49m\n\u001b[32m    277\u001b[39m \u001b[43m        \u001b[49m\u001b[43mres\u001b[49m\u001b[43m.\u001b[49m\u001b[43moutput_fields\u001b[49m\u001b[43m,\u001b[49m\n\u001b[32m    278\u001b[39m \u001b[43m        \u001b[49m\u001b[43m_pk_name\u001b[49m\u001b[43m,\u001b[49m\n\u001b[32m    279\u001b[39m \u001b[43m    \u001b[49m\u001b[43m)\u001b[49m\n\u001b[32m    280\u001b[39m )\n\u001b[32m    281\u001b[39m nq_thres += topk\n",
      "\u001b[36mFile \u001b[39m\u001b[32m~/Documents/Workspace/Milvus_ollama_trial/.venv/lib/python3.12/site-packages/pymilvus/client/search_result.py:47\u001b[39m, in \u001b[36mHybridHits.__init__\u001b[39m\u001b[34m(self, start, end, all_pks, all_scores, fields_data, output_fields, pk_name)\u001b[39m\n\u001b[32m     46\u001b[39m \u001b[38;5;28;01mfor\u001b[39;00m field_data \u001b[38;5;129;01min\u001b[39;00m fields_data:\n\u001b[32m---> \u001b[39m\u001b[32m47\u001b[39m     data = \u001b[43mget_field_data\u001b[49m\u001b[43m(\u001b[49m\u001b[43mfield_data\u001b[49m\u001b[43m)\u001b[49m\n\u001b[32m     48\u001b[39m     has_valid = \u001b[38;5;28mlen\u001b[39m(field_data.valid_data) > \u001b[32m0\u001b[39m\n",
      "\u001b[36mFile \u001b[39m\u001b[32m~/Documents/Workspace/Milvus_ollama_trial/.venv/lib/python3.12/site-packages/pymilvus/client/search_result.py:473\u001b[39m, in \u001b[36mget_field_data\u001b[39m\u001b[34m(field_data)\u001b[39m\n\u001b[32m    472\u001b[39m msg = \u001b[33mf\u001b[39m\u001b[33m\"\u001b[39m\u001b[33mUnsupported field type: \u001b[39m\u001b[38;5;132;01m{\u001b[39;00mfield_data.type\u001b[38;5;132;01m}\u001b[39;00m\u001b[33m\"\u001b[39m\n\u001b[32m--> \u001b[39m\u001b[32m473\u001b[39m \u001b[38;5;28;01mraise\u001b[39;00m MilvusException(msg)\n",
      "\u001b[31mMilvusException\u001b[39m: <MilvusException: (code=Unsupported field type: 0, message=)>",
      "\nThe above exception was the direct cause of the following exception:\n",
      "\u001b[31mMilvusException\u001b[39m                           Traceback (most recent call last)",
      "    \u001b[31m[... skipping hidden 1 frame]\u001b[39m\n",
      "\u001b[36mCell\u001b[39m\u001b[36m \u001b[39m\u001b[32mIn[37]\u001b[39m\u001b[32m, line 11\u001b[39m\n\u001b[32m      9\u001b[39m start_time = time.time()\n\u001b[32m     10\u001b[39m formatted_results, contexts, context_metadata = \\\n\u001b[32m---> \u001b[39m\u001b[32m11\u001b[39m     \u001b[43mmc_run_search\u001b[49m\u001b[43m(\u001b[49m\u001b[43mSAMPLE_QUESTION\u001b[49m\u001b[43m,\u001b[49m\u001b[43m \u001b[49m\u001b[43mexpression\u001b[49m\u001b[43m,\u001b[49m\u001b[43m \u001b[49m\u001b[43mTOP_K\u001b[49m\u001b[43m)\u001b[49m\n\u001b[32m     12\u001b[39m elapsed_time = time.time() - start_time\n",
      "\u001b[36mCell\u001b[39m\u001b[36m \u001b[39m\u001b[32mIn[27]\u001b[39m\u001b[32m, line 4\u001b[39m, in \u001b[36mmc_run_search\u001b[39m\u001b[34m(question, filter_expression, top_k)\u001b[39m\n\u001b[32m      2\u001b[39m query_embeddings = _utils.embed_query(encoder, [question])\n\u001b[32m----> \u001b[39m\u001b[32m4\u001b[39m results = \u001b[43mmc\u001b[49m\u001b[43m.\u001b[49m\u001b[43msearch\u001b[49m\u001b[43m(\u001b[49m\n\u001b[32m      5\u001b[39m \u001b[43m    \u001b[49m\u001b[43mCOLLECTION_NAME\u001b[49m\u001b[43m,\u001b[49m\n\u001b[32m      6\u001b[39m \u001b[43m    \u001b[49m\u001b[43mdata\u001b[49m\u001b[43m=\u001b[49m\u001b[43mquery_embeddings\u001b[49m\u001b[43m,\u001b[49m\n\u001b[32m      7\u001b[39m \u001b[43m    \u001b[49m\u001b[43moutput_fields\u001b[49m\u001b[43m=\u001b[49m\u001b[43mOUTPUT_FIELDS\u001b[49m\u001b[43m,\u001b[49m\n\u001b[32m      8\u001b[39m \u001b[43m    \u001b[49m\u001b[38;5;28;43mfilter\u001b[39;49m\u001b[43m=\u001b[49m\u001b[43mfilter_expression\u001b[49m\u001b[43m,\u001b[49m\n\u001b[32m      9\u001b[39m \u001b[43m    \u001b[49m\u001b[43mlimit\u001b[49m\u001b[43m=\u001b[49m\u001b[43mtop_k\u001b[49m\u001b[43m,\u001b[49m\n\u001b[32m     10\u001b[39m \u001b[43m    \u001b[49m\u001b[43mconsistency_level\u001b[49m\u001b[43m=\u001b[49m\u001b[33;43m\"\u001b[39;49m\u001b[33;43mEventually\u001b[39;49m\u001b[33;43m\"\u001b[39;49m\n\u001b[32m     11\u001b[39m \u001b[43m\u001b[49m\u001b[43m)\u001b[49m\n\u001b[32m     13\u001b[39m METADATA_FIELDS = [f \u001b[38;5;28;01mfor\u001b[39;00m f \u001b[38;5;129;01min\u001b[39;00m OUTPUT_FIELDS \u001b[38;5;28;01mif\u001b[39;00m f != \u001b[33m'\u001b[39m\u001b[33mchunk\u001b[39m\u001b[33m'\u001b[39m]\n",
      "\u001b[36mFile \u001b[39m\u001b[32m~/Documents/Workspace/Milvus_ollama_trial/.venv/lib/python3.12/site-packages/pymilvus/milvus_client/milvus_client.py:426\u001b[39m, in \u001b[36mMilvusClient.search\u001b[39m\u001b[34m(self, collection_name, data, filter, limit, output_fields, search_params, timeout, partition_names, anns_field, ranker, **kwargs)\u001b[39m\n\u001b[32m    425\u001b[39m     logger.error(\u001b[33m\"\u001b[39m\u001b[33mFailed to search collection: \u001b[39m\u001b[38;5;132;01m%s\u001b[39;00m\u001b[33m\"\u001b[39m, collection_name)\n\u001b[32m--> \u001b[39m\u001b[32m426\u001b[39m     \u001b[38;5;28;01mraise\u001b[39;00m ex \u001b[38;5;28;01mfrom\u001b[39;00m\u001b[38;5;250m \u001b[39m\u001b[34;01mex\u001b[39;00m\n\u001b[32m    428\u001b[39m \u001b[38;5;28;01mreturn\u001b[39;00m res\n",
      "\u001b[36mFile \u001b[39m\u001b[32m~/Documents/Workspace/Milvus_ollama_trial/.venv/lib/python3.12/site-packages/pymilvus/milvus_client/milvus_client.py:410\u001b[39m, in \u001b[36mMilvusClient.search\u001b[39m\u001b[34m(self, collection_name, data, filter, limit, output_fields, search_params, timeout, partition_names, anns_field, ranker, **kwargs)\u001b[39m\n\u001b[32m    409\u001b[39m \u001b[38;5;28;01mtry\u001b[39;00m:\n\u001b[32m--> \u001b[39m\u001b[32m410\u001b[39m     res = \u001b[43mconn\u001b[49m\u001b[43m.\u001b[49m\u001b[43msearch\u001b[49m\u001b[43m(\u001b[49m\n\u001b[32m    411\u001b[39m \u001b[43m        \u001b[49m\u001b[43mcollection_name\u001b[49m\u001b[43m,\u001b[49m\n\u001b[32m    412\u001b[39m \u001b[43m        \u001b[49m\u001b[43mdata\u001b[49m\u001b[43m,\u001b[49m\n\u001b[32m    413\u001b[39m \u001b[43m        \u001b[49m\u001b[43manns_field\u001b[49m\u001b[43m \u001b[49m\u001b[38;5;129;43;01mor\u001b[39;49;00m\u001b[43m \u001b[49m\u001b[33;43m\"\u001b[39;49m\u001b[33;43m\"\u001b[39;49m\u001b[43m,\u001b[49m\n\u001b[32m    414\u001b[39m \u001b[43m        \u001b[49m\u001b[43msearch_params\u001b[49m\u001b[43m \u001b[49m\u001b[38;5;129;43;01mor\u001b[39;49;00m\u001b[43m \u001b[49m\u001b[43m{\u001b[49m\u001b[43m}\u001b[49m\u001b[43m,\u001b[49m\n\u001b[32m    415\u001b[39m \u001b[43m        \u001b[49m\u001b[43mexpression\u001b[49m\u001b[43m=\u001b[49m\u001b[38;5;28;43mfilter\u001b[39;49m\u001b[43m,\u001b[49m\n\u001b[32m    416\u001b[39m \u001b[43m        \u001b[49m\u001b[43mlimit\u001b[49m\u001b[43m=\u001b[49m\u001b[43mlimit\u001b[49m\u001b[43m,\u001b[49m\n\u001b[32m    417\u001b[39m \u001b[43m        \u001b[49m\u001b[43moutput_fields\u001b[49m\u001b[43m=\u001b[49m\u001b[43moutput_fields\u001b[49m\u001b[43m,\u001b[49m\n\u001b[32m    418\u001b[39m \u001b[43m        \u001b[49m\u001b[43mpartition_names\u001b[49m\u001b[43m=\u001b[49m\u001b[43mpartition_names\u001b[49m\u001b[43m,\u001b[49m\n\u001b[32m    419\u001b[39m \u001b[43m        \u001b[49m\u001b[43mexpr_params\u001b[49m\u001b[43m=\u001b[49m\u001b[43mkwargs\u001b[49m\u001b[43m.\u001b[49m\u001b[43mpop\u001b[49m\u001b[43m(\u001b[49m\u001b[33;43m\"\u001b[39;49m\u001b[33;43mfilter_params\u001b[39;49m\u001b[33;43m\"\u001b[39;49m\u001b[43m,\u001b[49m\u001b[43m \u001b[49m\u001b[43m{\u001b[49m\u001b[43m}\u001b[49m\u001b[43m)\u001b[49m\u001b[43m,\u001b[49m\n\u001b[32m    420\u001b[39m \u001b[43m        \u001b[49m\u001b[43mtimeout\u001b[49m\u001b[43m=\u001b[49m\u001b[43mtimeout\u001b[49m\u001b[43m,\u001b[49m\n\u001b[32m    421\u001b[39m \u001b[43m        \u001b[49m\u001b[43mranker\u001b[49m\u001b[43m=\u001b[49m\u001b[43mranker\u001b[49m\u001b[43m,\u001b[49m\n\u001b[32m    422\u001b[39m \u001b[43m        \u001b[49m\u001b[43m*\u001b[49m\u001b[43m*\u001b[49m\u001b[43mkwargs\u001b[49m\u001b[43m,\u001b[49m\n\u001b[32m    423\u001b[39m \u001b[43m    \u001b[49m\u001b[43m)\u001b[49m\n\u001b[32m    424\u001b[39m \u001b[38;5;28;01mexcept\u001b[39;00m \u001b[38;5;167;01mException\u001b[39;00m \u001b[38;5;28;01mas\u001b[39;00m ex:\n",
      "\u001b[36mFile \u001b[39m\u001b[32m~/Documents/Workspace/Milvus_ollama_trial/.venv/lib/python3.12/site-packages/pymilvus/decorators.py:141\u001b[39m, in \u001b[36merror_handler.<locals>.wrapper.<locals>.handler\u001b[39m\u001b[34m(*args, **kwargs)\u001b[39m\n\u001b[32m    140\u001b[39m     LOGGER.error(\u001b[33mf\u001b[39m\u001b[33m\"\u001b[39m\u001b[33mRPC error: [\u001b[39m\u001b[38;5;132;01m{\u001b[39;00minner_name\u001b[38;5;132;01m}\u001b[39;00m\u001b[33m], \u001b[39m\u001b[38;5;132;01m{\u001b[39;00me\u001b[38;5;132;01m}\u001b[39;00m\u001b[33m, <Time:\u001b[39m\u001b[38;5;132;01m{\u001b[39;00mrecord_dict\u001b[38;5;132;01m}\u001b[39;00m\u001b[33m>\u001b[39m\u001b[33m\"\u001b[39m)\n\u001b[32m--> \u001b[39m\u001b[32m141\u001b[39m     \u001b[38;5;28;01mraise\u001b[39;00m e \u001b[38;5;28;01mfrom\u001b[39;00m\u001b[38;5;250m \u001b[39m\u001b[34;01me\u001b[39;00m\n\u001b[32m    142\u001b[39m \u001b[38;5;28;01mexcept\u001b[39;00m grpc.FutureTimeoutError \u001b[38;5;28;01mas\u001b[39;00m e:\n",
      "\u001b[36mFile \u001b[39m\u001b[32m~/Documents/Workspace/Milvus_ollama_trial/.venv/lib/python3.12/site-packages/pymilvus/decorators.py:137\u001b[39m, in \u001b[36merror_handler.<locals>.wrapper.<locals>.handler\u001b[39m\u001b[34m(*args, **kwargs)\u001b[39m\n\u001b[32m    136\u001b[39m     record_dict[\u001b[33m\"\u001b[39m\u001b[33mRPC start\u001b[39m\u001b[33m\"\u001b[39m] = \u001b[38;5;28mstr\u001b[39m(datetime.datetime.now())\n\u001b[32m--> \u001b[39m\u001b[32m137\u001b[39m     \u001b[38;5;28;01mreturn\u001b[39;00m \u001b[43mfunc\u001b[49m\u001b[43m(\u001b[49m\u001b[43m*\u001b[49m\u001b[43margs\u001b[49m\u001b[43m,\u001b[49m\u001b[43m \u001b[49m\u001b[43m*\u001b[49m\u001b[43m*\u001b[49m\u001b[43mkwargs\u001b[49m\u001b[43m)\u001b[49m\n\u001b[32m    138\u001b[39m \u001b[38;5;28;01mexcept\u001b[39;00m MilvusException \u001b[38;5;28;01mas\u001b[39;00m e:\n",
      "\u001b[36mFile \u001b[39m\u001b[32m~/Documents/Workspace/Milvus_ollama_trial/.venv/lib/python3.12/site-packages/pymilvus/decorators.py:173\u001b[39m, in \u001b[36mtracing_request.<locals>.wrapper.<locals>.handler\u001b[39m\u001b[34m(self, *args, **kwargs)\u001b[39m\n\u001b[32m    172\u001b[39m     \u001b[38;5;28mself\u001b[39m.set_onetime_loglevel(level)\n\u001b[32m--> \u001b[39m\u001b[32m173\u001b[39m \u001b[38;5;28;01mreturn\u001b[39;00m \u001b[43mfunc\u001b[49m\u001b[43m(\u001b[49m\u001b[38;5;28;43mself\u001b[39;49m\u001b[43m,\u001b[49m\u001b[43m \u001b[49m\u001b[43m*\u001b[49m\u001b[43margs\u001b[49m\u001b[43m,\u001b[49m\u001b[43m \u001b[49m\u001b[43m*\u001b[49m\u001b[43m*\u001b[49m\u001b[43mkwargs\u001b[49m\u001b[43m)\u001b[49m\n",
      "\u001b[36mFile \u001b[39m\u001b[32m~/Documents/Workspace/Milvus_ollama_trial/.venv/lib/python3.12/site-packages/pymilvus/decorators.py:116\u001b[39m, in \u001b[36mretry_on_rpc_failure.<locals>.wrapper.<locals>.handler\u001b[39m\u001b[34m(*args, **kwargs)\u001b[39m\n\u001b[32m    115\u001b[39m     \u001b[38;5;28;01melse\u001b[39;00m:\n\u001b[32m--> \u001b[39m\u001b[32m116\u001b[39m         \u001b[38;5;28;01mraise\u001b[39;00m e \u001b[38;5;28;01mfrom\u001b[39;00m\u001b[38;5;250m \u001b[39m\u001b[34;01me\u001b[39;00m\n\u001b[32m    117\u001b[39m \u001b[38;5;28;01mexcept\u001b[39;00m \u001b[38;5;167;01mException\u001b[39;00m \u001b[38;5;28;01mas\u001b[39;00m e:\n",
      "\u001b[36mFile \u001b[39m\u001b[32m~/Documents/Workspace/Milvus_ollama_trial/.venv/lib/python3.12/site-packages/pymilvus/decorators.py:86\u001b[39m, in \u001b[36mretry_on_rpc_failure.<locals>.wrapper.<locals>.handler\u001b[39m\u001b[34m(*args, **kwargs)\u001b[39m\n\u001b[32m     85\u001b[39m \u001b[38;5;28;01mtry\u001b[39;00m:\n\u001b[32m---> \u001b[39m\u001b[32m86\u001b[39m     \u001b[38;5;28;01mreturn\u001b[39;00m \u001b[43mfunc\u001b[49m\u001b[43m(\u001b[49m\u001b[43m*\u001b[49m\u001b[43margs\u001b[49m\u001b[43m,\u001b[49m\u001b[43m \u001b[49m\u001b[43m*\u001b[49m\u001b[43m*\u001b[49m\u001b[43mkwargs\u001b[49m\u001b[43m)\u001b[49m\n\u001b[32m     87\u001b[39m \u001b[38;5;28;01mexcept\u001b[39;00m grpc.RpcError \u001b[38;5;28;01mas\u001b[39;00m e:\n\u001b[32m     88\u001b[39m     \u001b[38;5;66;03m# Do not retry on these codes\u001b[39;00m\n",
      "\u001b[36mFile \u001b[39m\u001b[32m~/Documents/Workspace/Milvus_ollama_trial/.venv/lib/python3.12/site-packages/pymilvus/client/grpc_handler.py:970\u001b[39m, in \u001b[36mGrpcHandler.search\u001b[39m\u001b[34m(self, collection_name, data, anns_field, param, limit, expression, partition_names, output_fields, round_decimal, timeout, ranker, **kwargs)\u001b[39m\n\u001b[32m    957\u001b[39m request = Prepare.search_requests_with_expr(\n\u001b[32m    958\u001b[39m     collection_name,\n\u001b[32m    959\u001b[39m     data,\n\u001b[32m   (...)\u001b[39m\u001b[32m    968\u001b[39m     **kwargs,\n\u001b[32m    969\u001b[39m )\n\u001b[32m--> \u001b[39m\u001b[32m970\u001b[39m \u001b[38;5;28;01mreturn\u001b[39;00m \u001b[38;5;28;43mself\u001b[39;49m\u001b[43m.\u001b[49m\u001b[43m_execute_search\u001b[49m\u001b[43m(\u001b[49m\u001b[43mrequest\u001b[49m\u001b[43m,\u001b[49m\u001b[43m \u001b[49m\u001b[43mtimeout\u001b[49m\u001b[43m,\u001b[49m\u001b[43m \u001b[49m\u001b[43mround_decimal\u001b[49m\u001b[43m=\u001b[49m\u001b[43mround_decimal\u001b[49m\u001b[43m,\u001b[49m\u001b[43m \u001b[49m\u001b[43m*\u001b[49m\u001b[43m*\u001b[49m\u001b[43mkwargs\u001b[49m\u001b[43m)\u001b[49m\n",
      "\u001b[36mFile \u001b[39m\u001b[32m~/Documents/Workspace/Milvus_ollama_trial/.venv/lib/python3.12/site-packages/pymilvus/client/grpc_handler.py:905\u001b[39m, in \u001b[36mGrpcHandler._execute_search\u001b[39m\u001b[34m(self, request, timeout, **kwargs)\u001b[39m\n\u001b[32m    904\u001b[39m     \u001b[38;5;28;01mreturn\u001b[39;00m SearchFuture(\u001b[38;5;28;01mNone\u001b[39;00m, \u001b[38;5;28;01mNone\u001b[39;00m, e)\n\u001b[32m--> \u001b[39m\u001b[32m905\u001b[39m \u001b[38;5;28;01mraise\u001b[39;00m e \u001b[38;5;28;01mfrom\u001b[39;00m\u001b[38;5;250m \u001b[39m\u001b[34;01me\u001b[39;00m\n",
      "\u001b[36mFile \u001b[39m\u001b[32m~/Documents/Workspace/Milvus_ollama_trial/.venv/lib/python3.12/site-packages/pymilvus/client/grpc_handler.py:896\u001b[39m, in \u001b[36mGrpcHandler._execute_search\u001b[39m\u001b[34m(self, request, timeout, **kwargs)\u001b[39m\n\u001b[32m    895\u001b[39m     round_decimal = kwargs.get(\u001b[33m\"\u001b[39m\u001b[33mround_decimal\u001b[39m\u001b[33m\"\u001b[39m, -\u001b[32m1\u001b[39m)\n\u001b[32m--> \u001b[39m\u001b[32m896\u001b[39m     \u001b[38;5;28;01mreturn\u001b[39;00m \u001b[43mSearchResult\u001b[49m\u001b[43m(\u001b[49m\n\u001b[32m    897\u001b[39m \u001b[43m        \u001b[49m\u001b[43mresponse\u001b[49m\u001b[43m.\u001b[49m\u001b[43mresults\u001b[49m\u001b[43m,\u001b[49m\n\u001b[32m    898\u001b[39m \u001b[43m        \u001b[49m\u001b[43mround_decimal\u001b[49m\u001b[43m,\u001b[49m\n\u001b[32m    899\u001b[39m \u001b[43m        \u001b[49m\u001b[43mstatus\u001b[49m\u001b[43m=\u001b[49m\u001b[43mresponse\u001b[49m\u001b[43m.\u001b[49m\u001b[43mstatus\u001b[49m\u001b[43m,\u001b[49m\n\u001b[32m    900\u001b[39m \u001b[43m        \u001b[49m\u001b[43msession_ts\u001b[49m\u001b[43m=\u001b[49m\u001b[43mresponse\u001b[49m\u001b[43m.\u001b[49m\u001b[43msession_ts\u001b[49m\u001b[43m,\u001b[49m\n\u001b[32m    901\u001b[39m \u001b[43m    \u001b[49m\u001b[43m)\u001b[49m\n\u001b[32m    902\u001b[39m \u001b[38;5;28;01mexcept\u001b[39;00m \u001b[38;5;167;01mException\u001b[39;00m \u001b[38;5;28;01mas\u001b[39;00m e:\n",
      "\u001b[36mFile \u001b[39m\u001b[32m~/Documents/Workspace/Milvus_ollama_trial/.venv/lib/python3.12/site-packages/pymilvus/client/search_result.py:215\u001b[39m, in \u001b[36mSearchResult.__init__\u001b[39m\u001b[34m(self, res, round_decimal, status, session_ts)\u001b[39m\n\u001b[32m    208\u001b[39m \u001b[38;5;28;01mdef\u001b[39;00m\u001b[38;5;250m \u001b[39m\u001b[34m__init__\u001b[39m(\n\u001b[32m    209\u001b[39m     \u001b[38;5;28mself\u001b[39m,\n\u001b[32m    210\u001b[39m     res: schema_pb2.SearchResultData,\n\u001b[32m   (...)\u001b[39m\u001b[32m    213\u001b[39m     session_ts: Optional[\u001b[38;5;28mint\u001b[39m] = \u001b[32m0\u001b[39m,\n\u001b[32m    214\u001b[39m ):\n\u001b[32m--> \u001b[39m\u001b[32m215\u001b[39m     _data = \u001b[38;5;28;43mself\u001b[39;49m\u001b[43m.\u001b[49m\u001b[43m_parse_search_result_data\u001b[49m\u001b[43m(\u001b[49m\u001b[43mres\u001b[49m\u001b[43m,\u001b[49m\u001b[43m \u001b[49m\u001b[43mround_decimal\u001b[49m\u001b[43m)\u001b[49m\n\u001b[32m    216\u001b[39m     \u001b[38;5;28msuper\u001b[39m().\u001b[34m__init__\u001b[39m(_data)\n",
      "\u001b[36mFile \u001b[39m\u001b[32m~/Documents/Workspace/Milvus_ollama_trial/.venv/lib/python3.12/site-packages/pymilvus/client/search_result.py:271\u001b[39m, in \u001b[36mSearchResult._parse_search_result_data\u001b[39m\u001b[34m(self, res, round_decimal)\u001b[39m\n\u001b[32m    269\u001b[39m start, end = nq_thres, nq_thres + topk\n\u001b[32m    270\u001b[39m data.append(\n\u001b[32m--> \u001b[39m\u001b[32m271\u001b[39m     \u001b[43mHybridHits\u001b[49m\u001b[43m(\u001b[49m\n\u001b[32m    272\u001b[39m \u001b[43m        \u001b[49m\u001b[43mstart\u001b[49m\u001b[43m,\u001b[49m\n\u001b[32m    273\u001b[39m \u001b[43m        \u001b[49m\u001b[43mend\u001b[49m\u001b[43m,\u001b[49m\n\u001b[32m    274\u001b[39m \u001b[43m        \u001b[49m\u001b[43mall_pks\u001b[49m\u001b[43m,\u001b[49m\n\u001b[32m    275\u001b[39m \u001b[43m        \u001b[49m\u001b[43mall_scores\u001b[49m\u001b[43m,\u001b[49m\n\u001b[32m    276\u001b[39m \u001b[43m        \u001b[49m\u001b[43mres\u001b[49m\u001b[43m.\u001b[49m\u001b[43mfields_data\u001b[49m\u001b[43m,\u001b[49m\n\u001b[32m    277\u001b[39m \u001b[43m        \u001b[49m\u001b[43mres\u001b[49m\u001b[43m.\u001b[49m\u001b[43moutput_fields\u001b[49m\u001b[43m,\u001b[49m\n\u001b[32m    278\u001b[39m \u001b[43m        \u001b[49m\u001b[43m_pk_name\u001b[49m\u001b[43m,\u001b[49m\n\u001b[32m    279\u001b[39m \u001b[43m    \u001b[49m\u001b[43m)\u001b[49m\n\u001b[32m    280\u001b[39m )\n\u001b[32m    281\u001b[39m nq_thres += topk\n",
      "\u001b[36mFile \u001b[39m\u001b[32m~/Documents/Workspace/Milvus_ollama_trial/.venv/lib/python3.12/site-packages/pymilvus/client/search_result.py:47\u001b[39m, in \u001b[36mHybridHits.__init__\u001b[39m\u001b[34m(self, start, end, all_pks, all_scores, fields_data, output_fields, pk_name)\u001b[39m\n\u001b[32m     46\u001b[39m \u001b[38;5;28;01mfor\u001b[39;00m field_data \u001b[38;5;129;01min\u001b[39;00m fields_data:\n\u001b[32m---> \u001b[39m\u001b[32m47\u001b[39m     data = \u001b[43mget_field_data\u001b[49m\u001b[43m(\u001b[49m\u001b[43mfield_data\u001b[49m\u001b[43m)\u001b[49m\n\u001b[32m     48\u001b[39m     has_valid = \u001b[38;5;28mlen\u001b[39m(field_data.valid_data) > \u001b[32m0\u001b[39m\n",
      "\u001b[36mFile \u001b[39m\u001b[32m~/Documents/Workspace/Milvus_ollama_trial/.venv/lib/python3.12/site-packages/pymilvus/client/search_result.py:473\u001b[39m, in \u001b[36mget_field_data\u001b[39m\u001b[34m(field_data)\u001b[39m\n\u001b[32m    472\u001b[39m msg = \u001b[33mf\u001b[39m\u001b[33m\"\u001b[39m\u001b[33mUnsupported field type: \u001b[39m\u001b[38;5;132;01m{\u001b[39;00mfield_data.type\u001b[38;5;132;01m}\u001b[39;00m\u001b[33m\"\u001b[39m\n\u001b[32m--> \u001b[39m\u001b[32m473\u001b[39m \u001b[38;5;28;01mraise\u001b[39;00m MilvusException(msg)\n",
      "\u001b[31mMilvusException\u001b[39m: <MilvusException: (code=Unsupported field type: 0, message=)>",
      "\nThe above exception was the direct cause of the following exception:\n",
      "\u001b[31mMilvusException\u001b[39m                           Traceback (most recent call last)",
      "\u001b[36mCell\u001b[39m\u001b[36m \u001b[39m\u001b[32mIn[37]\u001b[39m\u001b[32m, line 11\u001b[39m\n\u001b[32m      7\u001b[39m \u001b[38;5;28mprint\u001b[39m(\u001b[33mf\u001b[39m\u001b[33m\"\u001b[39m\u001b[33mfilter: \u001b[39m\u001b[38;5;132;01m{\u001b[39;00mexpression\u001b[38;5;132;01m}\u001b[39;00m\u001b[33m\"\u001b[39m)\n\u001b[32m      9\u001b[39m start_time = time.time()\n\u001b[32m     10\u001b[39m formatted_results, contexts, context_metadata = \\\n\u001b[32m---> \u001b[39m\u001b[32m11\u001b[39m     \u001b[43mmc_run_search\u001b[49m\u001b[43m(\u001b[49m\u001b[43mSAMPLE_QUESTION\u001b[49m\u001b[43m,\u001b[49m\u001b[43m \u001b[49m\u001b[43mexpression\u001b[49m\u001b[43m,\u001b[49m\u001b[43m \u001b[49m\u001b[43mTOP_K\u001b[49m\u001b[43m)\u001b[49m\n\u001b[32m     12\u001b[39m elapsed_time = time.time() - start_time\n\u001b[32m     13\u001b[39m \u001b[38;5;28mprint\u001b[39m(\u001b[33mf\u001b[39m\u001b[33m\"\u001b[39m\u001b[33mMilvus Client search time for \u001b[39m\u001b[38;5;132;01m{\u001b[39;00m\u001b[38;5;28mlen\u001b[39m(dict_list)\u001b[38;5;132;01m}\u001b[39;00m\u001b[33m vectors: \u001b[39m\u001b[38;5;132;01m{\u001b[39;00melapsed_time\u001b[38;5;132;01m}\u001b[39;00m\u001b[33m seconds\u001b[39m\u001b[33m\"\u001b[39m)\n",
      "\u001b[36mCell\u001b[39m\u001b[36m \u001b[39m\u001b[32mIn[27]\u001b[39m\u001b[32m, line 4\u001b[39m, in \u001b[36mmc_run_search\u001b[39m\u001b[34m(question, filter_expression, top_k)\u001b[39m\n\u001b[32m      1\u001b[39m \u001b[38;5;28;01mdef\u001b[39;00m\u001b[38;5;250m \u001b[39m\u001b[34mmc_run_search\u001b[39m(question, filter_expression, top_k):\n\u001b[32m      2\u001b[39m     query_embeddings = _utils.embed_query(encoder, [question])\n\u001b[32m----> \u001b[39m\u001b[32m4\u001b[39m     results = \u001b[43mmc\u001b[49m\u001b[43m.\u001b[49m\u001b[43msearch\u001b[49m\u001b[43m(\u001b[49m\n\u001b[32m      5\u001b[39m \u001b[43m        \u001b[49m\u001b[43mCOLLECTION_NAME\u001b[49m\u001b[43m,\u001b[49m\n\u001b[32m      6\u001b[39m \u001b[43m        \u001b[49m\u001b[43mdata\u001b[49m\u001b[43m=\u001b[49m\u001b[43mquery_embeddings\u001b[49m\u001b[43m,\u001b[49m\n\u001b[32m      7\u001b[39m \u001b[43m        \u001b[49m\u001b[43moutput_fields\u001b[49m\u001b[43m=\u001b[49m\u001b[43mOUTPUT_FIELDS\u001b[49m\u001b[43m,\u001b[49m\n\u001b[32m      8\u001b[39m \u001b[43m        \u001b[49m\u001b[38;5;28;43mfilter\u001b[39;49m\u001b[43m=\u001b[49m\u001b[43mfilter_expression\u001b[49m\u001b[43m,\u001b[49m\n\u001b[32m      9\u001b[39m \u001b[43m        \u001b[49m\u001b[43mlimit\u001b[49m\u001b[43m=\u001b[49m\u001b[43mtop_k\u001b[49m\u001b[43m,\u001b[49m\n\u001b[32m     10\u001b[39m \u001b[43m        \u001b[49m\u001b[43mconsistency_level\u001b[49m\u001b[43m=\u001b[49m\u001b[33;43m\"\u001b[39;49m\u001b[33;43mEventually\u001b[39;49m\u001b[33;43m\"\u001b[39;49m\n\u001b[32m     11\u001b[39m \u001b[43m    \u001b[49m\u001b[43m)\u001b[49m\n\u001b[32m     13\u001b[39m     METADATA_FIELDS = [f \u001b[38;5;28;01mfor\u001b[39;00m f \u001b[38;5;129;01min\u001b[39;00m OUTPUT_FIELDS \u001b[38;5;28;01mif\u001b[39;00m f != \u001b[33m'\u001b[39m\u001b[33mchunk\u001b[39m\u001b[33m'\u001b[39m]\n\u001b[32m     14\u001b[39m     formatted_results, context, context_metadata = _utils.client_assemble_retrieved_context(\n\u001b[32m     15\u001b[39m         results, metadata_fields=METADATA_FIELDS, num_shot_answers=TOP_K\n\u001b[32m     16\u001b[39m     )\n",
      "\u001b[36mFile \u001b[39m\u001b[32m~/Documents/Workspace/Milvus_ollama_trial/.venv/lib/python3.12/site-packages/pymilvus/milvus_client/milvus_client.py:426\u001b[39m, in \u001b[36mMilvusClient.search\u001b[39m\u001b[34m(self, collection_name, data, filter, limit, output_fields, search_params, timeout, partition_names, anns_field, ranker, **kwargs)\u001b[39m\n\u001b[32m    424\u001b[39m \u001b[38;5;28;01mexcept\u001b[39;00m \u001b[38;5;167;01mException\u001b[39;00m \u001b[38;5;28;01mas\u001b[39;00m ex:\n\u001b[32m    425\u001b[39m     logger.error(\u001b[33m\"\u001b[39m\u001b[33mFailed to search collection: \u001b[39m\u001b[38;5;132;01m%s\u001b[39;00m\u001b[33m\"\u001b[39m, collection_name)\n\u001b[32m--> \u001b[39m\u001b[32m426\u001b[39m     \u001b[38;5;28;01mraise\u001b[39;00m ex \u001b[38;5;28;01mfrom\u001b[39;00m\u001b[38;5;250m \u001b[39m\u001b[34;01mex\u001b[39;00m\n\u001b[32m    428\u001b[39m \u001b[38;5;28;01mreturn\u001b[39;00m res\n",
      "\u001b[36mFile \u001b[39m\u001b[32m~/Documents/Workspace/Milvus_ollama_trial/.venv/lib/python3.12/site-packages/pymilvus/milvus_client/milvus_client.py:410\u001b[39m, in \u001b[36mMilvusClient.search\u001b[39m\u001b[34m(self, collection_name, data, filter, limit, output_fields, search_params, timeout, partition_names, anns_field, ranker, **kwargs)\u001b[39m\n\u001b[32m    408\u001b[39m conn = \u001b[38;5;28mself\u001b[39m._get_connection()\n\u001b[32m    409\u001b[39m \u001b[38;5;28;01mtry\u001b[39;00m:\n\u001b[32m--> \u001b[39m\u001b[32m410\u001b[39m     res = \u001b[43mconn\u001b[49m\u001b[43m.\u001b[49m\u001b[43msearch\u001b[49m\u001b[43m(\u001b[49m\n\u001b[32m    411\u001b[39m \u001b[43m        \u001b[49m\u001b[43mcollection_name\u001b[49m\u001b[43m,\u001b[49m\n\u001b[32m    412\u001b[39m \u001b[43m        \u001b[49m\u001b[43mdata\u001b[49m\u001b[43m,\u001b[49m\n\u001b[32m    413\u001b[39m \u001b[43m        \u001b[49m\u001b[43manns_field\u001b[49m\u001b[43m \u001b[49m\u001b[38;5;129;43;01mor\u001b[39;49;00m\u001b[43m \u001b[49m\u001b[33;43m\"\u001b[39;49m\u001b[33;43m\"\u001b[39;49m\u001b[43m,\u001b[49m\n\u001b[32m    414\u001b[39m \u001b[43m        \u001b[49m\u001b[43msearch_params\u001b[49m\u001b[43m \u001b[49m\u001b[38;5;129;43;01mor\u001b[39;49;00m\u001b[43m \u001b[49m\u001b[43m{\u001b[49m\u001b[43m}\u001b[49m\u001b[43m,\u001b[49m\n\u001b[32m    415\u001b[39m \u001b[43m        \u001b[49m\u001b[43mexpression\u001b[49m\u001b[43m=\u001b[49m\u001b[38;5;28;43mfilter\u001b[39;49m\u001b[43m,\u001b[49m\n\u001b[32m    416\u001b[39m \u001b[43m        \u001b[49m\u001b[43mlimit\u001b[49m\u001b[43m=\u001b[49m\u001b[43mlimit\u001b[49m\u001b[43m,\u001b[49m\n\u001b[32m    417\u001b[39m \u001b[43m        \u001b[49m\u001b[43moutput_fields\u001b[49m\u001b[43m=\u001b[49m\u001b[43moutput_fields\u001b[49m\u001b[43m,\u001b[49m\n\u001b[32m    418\u001b[39m \u001b[43m        \u001b[49m\u001b[43mpartition_names\u001b[49m\u001b[43m=\u001b[49m\u001b[43mpartition_names\u001b[49m\u001b[43m,\u001b[49m\n\u001b[32m    419\u001b[39m \u001b[43m        \u001b[49m\u001b[43mexpr_params\u001b[49m\u001b[43m=\u001b[49m\u001b[43mkwargs\u001b[49m\u001b[43m.\u001b[49m\u001b[43mpop\u001b[49m\u001b[43m(\u001b[49m\u001b[33;43m\"\u001b[39;49m\u001b[33;43mfilter_params\u001b[39;49m\u001b[33;43m\"\u001b[39;49m\u001b[43m,\u001b[49m\u001b[43m \u001b[49m\u001b[43m{\u001b[49m\u001b[43m}\u001b[49m\u001b[43m)\u001b[49m\u001b[43m,\u001b[49m\n\u001b[32m    420\u001b[39m \u001b[43m        \u001b[49m\u001b[43mtimeout\u001b[49m\u001b[43m=\u001b[49m\u001b[43mtimeout\u001b[49m\u001b[43m,\u001b[49m\n\u001b[32m    421\u001b[39m \u001b[43m        \u001b[49m\u001b[43mranker\u001b[49m\u001b[43m=\u001b[49m\u001b[43mranker\u001b[49m\u001b[43m,\u001b[49m\n\u001b[32m    422\u001b[39m \u001b[43m        \u001b[49m\u001b[43m*\u001b[49m\u001b[43m*\u001b[49m\u001b[43mkwargs\u001b[49m\u001b[43m,\u001b[49m\n\u001b[32m    423\u001b[39m \u001b[43m    \u001b[49m\u001b[43m)\u001b[49m\n\u001b[32m    424\u001b[39m \u001b[38;5;28;01mexcept\u001b[39;00m \u001b[38;5;167;01mException\u001b[39;00m \u001b[38;5;28;01mas\u001b[39;00m ex:\n\u001b[32m    425\u001b[39m     logger.error(\u001b[33m\"\u001b[39m\u001b[33mFailed to search collection: \u001b[39m\u001b[38;5;132;01m%s\u001b[39;00m\u001b[33m\"\u001b[39m, collection_name)\n",
      "\u001b[36mFile \u001b[39m\u001b[32m~/Documents/Workspace/Milvus_ollama_trial/.venv/lib/python3.12/site-packages/pymilvus/decorators.py:141\u001b[39m, in \u001b[36merror_handler.<locals>.wrapper.<locals>.handler\u001b[39m\u001b[34m(*args, **kwargs)\u001b[39m\n\u001b[32m    139\u001b[39m     record_dict[\u001b[33m\"\u001b[39m\u001b[33mRPC error\u001b[39m\u001b[33m\"\u001b[39m] = \u001b[38;5;28mstr\u001b[39m(datetime.datetime.now())\n\u001b[32m    140\u001b[39m     LOGGER.error(\u001b[33mf\u001b[39m\u001b[33m\"\u001b[39m\u001b[33mRPC error: [\u001b[39m\u001b[38;5;132;01m{\u001b[39;00minner_name\u001b[38;5;132;01m}\u001b[39;00m\u001b[33m], \u001b[39m\u001b[38;5;132;01m{\u001b[39;00me\u001b[38;5;132;01m}\u001b[39;00m\u001b[33m, <Time:\u001b[39m\u001b[38;5;132;01m{\u001b[39;00mrecord_dict\u001b[38;5;132;01m}\u001b[39;00m\u001b[33m>\u001b[39m\u001b[33m\"\u001b[39m)\n\u001b[32m--> \u001b[39m\u001b[32m141\u001b[39m     \u001b[38;5;28;01mraise\u001b[39;00m e \u001b[38;5;28;01mfrom\u001b[39;00m\u001b[38;5;250m \u001b[39m\u001b[34;01me\u001b[39;00m\n\u001b[32m    142\u001b[39m \u001b[38;5;28;01mexcept\u001b[39;00m grpc.FutureTimeoutError \u001b[38;5;28;01mas\u001b[39;00m e:\n\u001b[32m    143\u001b[39m     record_dict[\u001b[33m\"\u001b[39m\u001b[33mgRPC timeout\u001b[39m\u001b[33m\"\u001b[39m] = \u001b[38;5;28mstr\u001b[39m(datetime.datetime.now())\n",
      "\u001b[36mFile \u001b[39m\u001b[32m~/Documents/Workspace/Milvus_ollama_trial/.venv/lib/python3.12/site-packages/pymilvus/decorators.py:137\u001b[39m, in \u001b[36merror_handler.<locals>.wrapper.<locals>.handler\u001b[39m\u001b[34m(*args, **kwargs)\u001b[39m\n\u001b[32m    135\u001b[39m \u001b[38;5;28;01mtry\u001b[39;00m:\n\u001b[32m    136\u001b[39m     record_dict[\u001b[33m\"\u001b[39m\u001b[33mRPC start\u001b[39m\u001b[33m\"\u001b[39m] = \u001b[38;5;28mstr\u001b[39m(datetime.datetime.now())\n\u001b[32m--> \u001b[39m\u001b[32m137\u001b[39m     \u001b[38;5;28;01mreturn\u001b[39;00m \u001b[43mfunc\u001b[49m\u001b[43m(\u001b[49m\u001b[43m*\u001b[49m\u001b[43margs\u001b[49m\u001b[43m,\u001b[49m\u001b[43m \u001b[49m\u001b[43m*\u001b[49m\u001b[43m*\u001b[49m\u001b[43mkwargs\u001b[49m\u001b[43m)\u001b[49m\n\u001b[32m    138\u001b[39m \u001b[38;5;28;01mexcept\u001b[39;00m MilvusException \u001b[38;5;28;01mas\u001b[39;00m e:\n\u001b[32m    139\u001b[39m     record_dict[\u001b[33m\"\u001b[39m\u001b[33mRPC error\u001b[39m\u001b[33m\"\u001b[39m] = \u001b[38;5;28mstr\u001b[39m(datetime.datetime.now())\n",
      "\u001b[36mFile \u001b[39m\u001b[32m~/Documents/Workspace/Milvus_ollama_trial/.venv/lib/python3.12/site-packages/pymilvus/decorators.py:173\u001b[39m, in \u001b[36mtracing_request.<locals>.wrapper.<locals>.handler\u001b[39m\u001b[34m(self, *args, **kwargs)\u001b[39m\n\u001b[32m    171\u001b[39m \u001b[38;5;28;01mif\u001b[39;00m level:\n\u001b[32m    172\u001b[39m     \u001b[38;5;28mself\u001b[39m.set_onetime_loglevel(level)\n\u001b[32m--> \u001b[39m\u001b[32m173\u001b[39m \u001b[38;5;28;01mreturn\u001b[39;00m \u001b[43mfunc\u001b[49m\u001b[43m(\u001b[49m\u001b[38;5;28;43mself\u001b[39;49m\u001b[43m,\u001b[49m\u001b[43m \u001b[49m\u001b[43m*\u001b[49m\u001b[43margs\u001b[49m\u001b[43m,\u001b[49m\u001b[43m \u001b[49m\u001b[43m*\u001b[49m\u001b[43m*\u001b[49m\u001b[43mkwargs\u001b[49m\u001b[43m)\u001b[49m\n",
      "\u001b[36mFile \u001b[39m\u001b[32m~/Documents/Workspace/Milvus_ollama_trial/.venv/lib/python3.12/site-packages/pymilvus/decorators.py:116\u001b[39m, in \u001b[36mretry_on_rpc_failure.<locals>.wrapper.<locals>.handler\u001b[39m\u001b[34m(*args, **kwargs)\u001b[39m\n\u001b[32m    114\u001b[39m         back_off = \u001b[38;5;28mmin\u001b[39m(back_off * back_off_multiplier, max_back_off)\n\u001b[32m    115\u001b[39m     \u001b[38;5;28;01melse\u001b[39;00m:\n\u001b[32m--> \u001b[39m\u001b[32m116\u001b[39m         \u001b[38;5;28;01mraise\u001b[39;00m e \u001b[38;5;28;01mfrom\u001b[39;00m\u001b[38;5;250m \u001b[39m\u001b[34;01me\u001b[39;00m\n\u001b[32m    117\u001b[39m \u001b[38;5;28;01mexcept\u001b[39;00m \u001b[38;5;167;01mException\u001b[39;00m \u001b[38;5;28;01mas\u001b[39;00m e:\n\u001b[32m    118\u001b[39m     \u001b[38;5;28;01mraise\u001b[39;00m e \u001b[38;5;28;01mfrom\u001b[39;00m\u001b[38;5;250m \u001b[39m\u001b[34;01me\u001b[39;00m\n",
      "\u001b[36mFile \u001b[39m\u001b[32m~/Documents/Workspace/Milvus_ollama_trial/.venv/lib/python3.12/site-packages/pymilvus/decorators.py:86\u001b[39m, in \u001b[36mretry_on_rpc_failure.<locals>.wrapper.<locals>.handler\u001b[39m\u001b[34m(*args, **kwargs)\u001b[39m\n\u001b[32m     84\u001b[39m \u001b[38;5;28;01mwhile\u001b[39;00m \u001b[38;5;28;01mTrue\u001b[39;00m:\n\u001b[32m     85\u001b[39m     \u001b[38;5;28;01mtry\u001b[39;00m:\n\u001b[32m---> \u001b[39m\u001b[32m86\u001b[39m         \u001b[38;5;28;01mreturn\u001b[39;00m \u001b[43mfunc\u001b[49m\u001b[43m(\u001b[49m\u001b[43m*\u001b[49m\u001b[43margs\u001b[49m\u001b[43m,\u001b[49m\u001b[43m \u001b[49m\u001b[43m*\u001b[49m\u001b[43m*\u001b[49m\u001b[43mkwargs\u001b[49m\u001b[43m)\u001b[49m\n\u001b[32m     87\u001b[39m     \u001b[38;5;28;01mexcept\u001b[39;00m grpc.RpcError \u001b[38;5;28;01mas\u001b[39;00m e:\n\u001b[32m     88\u001b[39m         \u001b[38;5;66;03m# Do not retry on these codes\u001b[39;00m\n\u001b[32m     89\u001b[39m         \u001b[38;5;28;01mif\u001b[39;00m e.code() \u001b[38;5;129;01min\u001b[39;00m IGNORE_RETRY_CODES:\n",
      "\u001b[36mFile \u001b[39m\u001b[32m~/Documents/Workspace/Milvus_ollama_trial/.venv/lib/python3.12/site-packages/pymilvus/client/grpc_handler.py:970\u001b[39m, in \u001b[36mGrpcHandler.search\u001b[39m\u001b[34m(self, collection_name, data, anns_field, param, limit, expression, partition_names, output_fields, round_decimal, timeout, ranker, **kwargs)\u001b[39m\n\u001b[32m    946\u001b[39m check_pass_param(\n\u001b[32m    947\u001b[39m     limit=limit,\n\u001b[32m    948\u001b[39m     round_decimal=round_decimal,\n\u001b[32m   (...)\u001b[39m\u001b[32m    954\u001b[39m     timeout=timeout,\n\u001b[32m    955\u001b[39m )\n\u001b[32m    957\u001b[39m request = Prepare.search_requests_with_expr(\n\u001b[32m    958\u001b[39m     collection_name,\n\u001b[32m    959\u001b[39m     data,\n\u001b[32m   (...)\u001b[39m\u001b[32m    968\u001b[39m     **kwargs,\n\u001b[32m    969\u001b[39m )\n\u001b[32m--> \u001b[39m\u001b[32m970\u001b[39m \u001b[38;5;28;01mreturn\u001b[39;00m \u001b[38;5;28;43mself\u001b[39;49m\u001b[43m.\u001b[49m\u001b[43m_execute_search\u001b[49m\u001b[43m(\u001b[49m\u001b[43mrequest\u001b[49m\u001b[43m,\u001b[49m\u001b[43m \u001b[49m\u001b[43mtimeout\u001b[49m\u001b[43m,\u001b[49m\u001b[43m \u001b[49m\u001b[43mround_decimal\u001b[49m\u001b[43m=\u001b[49m\u001b[43mround_decimal\u001b[49m\u001b[43m,\u001b[49m\u001b[43m \u001b[49m\u001b[43m*\u001b[49m\u001b[43m*\u001b[49m\u001b[43mkwargs\u001b[49m\u001b[43m)\u001b[49m\n",
      "\u001b[36mFile \u001b[39m\u001b[32m~/Documents/Workspace/Milvus_ollama_trial/.venv/lib/python3.12/site-packages/pymilvus/client/grpc_handler.py:905\u001b[39m, in \u001b[36mGrpcHandler._execute_search\u001b[39m\u001b[34m(self, request, timeout, **kwargs)\u001b[39m\n\u001b[32m    903\u001b[39m \u001b[38;5;28;01mif\u001b[39;00m kwargs.get(\u001b[33m\"\u001b[39m\u001b[33m_async\u001b[39m\u001b[33m\"\u001b[39m, \u001b[38;5;28;01mFalse\u001b[39;00m):\n\u001b[32m    904\u001b[39m     \u001b[38;5;28;01mreturn\u001b[39;00m SearchFuture(\u001b[38;5;28;01mNone\u001b[39;00m, \u001b[38;5;28;01mNone\u001b[39;00m, e)\n\u001b[32m--> \u001b[39m\u001b[32m905\u001b[39m \u001b[38;5;28;01mraise\u001b[39;00m e \u001b[38;5;28;01mfrom\u001b[39;00m\u001b[38;5;250m \u001b[39m\u001b[34;01me\u001b[39;00m\n",
      "\u001b[36mFile \u001b[39m\u001b[32m~/Documents/Workspace/Milvus_ollama_trial/.venv/lib/python3.12/site-packages/pymilvus/client/grpc_handler.py:896\u001b[39m, in \u001b[36mGrpcHandler._execute_search\u001b[39m\u001b[34m(self, request, timeout, **kwargs)\u001b[39m\n\u001b[32m    894\u001b[39m     check_status(response.status)\n\u001b[32m    895\u001b[39m     round_decimal = kwargs.get(\u001b[33m\"\u001b[39m\u001b[33mround_decimal\u001b[39m\u001b[33m\"\u001b[39m, -\u001b[32m1\u001b[39m)\n\u001b[32m--> \u001b[39m\u001b[32m896\u001b[39m     \u001b[38;5;28;01mreturn\u001b[39;00m \u001b[43mSearchResult\u001b[49m\u001b[43m(\u001b[49m\n\u001b[32m    897\u001b[39m \u001b[43m        \u001b[49m\u001b[43mresponse\u001b[49m\u001b[43m.\u001b[49m\u001b[43mresults\u001b[49m\u001b[43m,\u001b[49m\n\u001b[32m    898\u001b[39m \u001b[43m        \u001b[49m\u001b[43mround_decimal\u001b[49m\u001b[43m,\u001b[49m\n\u001b[32m    899\u001b[39m \u001b[43m        \u001b[49m\u001b[43mstatus\u001b[49m\u001b[43m=\u001b[49m\u001b[43mresponse\u001b[49m\u001b[43m.\u001b[49m\u001b[43mstatus\u001b[49m\u001b[43m,\u001b[49m\n\u001b[32m    900\u001b[39m \u001b[43m        \u001b[49m\u001b[43msession_ts\u001b[49m\u001b[43m=\u001b[49m\u001b[43mresponse\u001b[49m\u001b[43m.\u001b[49m\u001b[43msession_ts\u001b[49m\u001b[43m,\u001b[49m\n\u001b[32m    901\u001b[39m \u001b[43m    \u001b[49m\u001b[43m)\u001b[49m\n\u001b[32m    902\u001b[39m \u001b[38;5;28;01mexcept\u001b[39;00m \u001b[38;5;167;01mException\u001b[39;00m \u001b[38;5;28;01mas\u001b[39;00m e:\n\u001b[32m    903\u001b[39m     \u001b[38;5;28;01mif\u001b[39;00m kwargs.get(\u001b[33m\"\u001b[39m\u001b[33m_async\u001b[39m\u001b[33m\"\u001b[39m, \u001b[38;5;28;01mFalse\u001b[39;00m):\n",
      "\u001b[36mFile \u001b[39m\u001b[32m~/Documents/Workspace/Milvus_ollama_trial/.venv/lib/python3.12/site-packages/pymilvus/client/search_result.py:215\u001b[39m, in \u001b[36mSearchResult.__init__\u001b[39m\u001b[34m(self, res, round_decimal, status, session_ts)\u001b[39m\n\u001b[32m    208\u001b[39m \u001b[38;5;28;01mdef\u001b[39;00m\u001b[38;5;250m \u001b[39m\u001b[34m__init__\u001b[39m(\n\u001b[32m    209\u001b[39m     \u001b[38;5;28mself\u001b[39m,\n\u001b[32m    210\u001b[39m     res: schema_pb2.SearchResultData,\n\u001b[32m   (...)\u001b[39m\u001b[32m    213\u001b[39m     session_ts: Optional[\u001b[38;5;28mint\u001b[39m] = \u001b[32m0\u001b[39m,\n\u001b[32m    214\u001b[39m ):\n\u001b[32m--> \u001b[39m\u001b[32m215\u001b[39m     _data = \u001b[38;5;28;43mself\u001b[39;49m\u001b[43m.\u001b[49m\u001b[43m_parse_search_result_data\u001b[49m\u001b[43m(\u001b[49m\u001b[43mres\u001b[49m\u001b[43m,\u001b[49m\u001b[43m \u001b[49m\u001b[43mround_decimal\u001b[49m\u001b[43m)\u001b[49m\n\u001b[32m    216\u001b[39m     \u001b[38;5;28msuper\u001b[39m().\u001b[34m__init__\u001b[39m(_data)\n\u001b[32m    218\u001b[39m     \u001b[38;5;66;03m# set recalls\u001b[39;00m\n",
      "\u001b[36mFile \u001b[39m\u001b[32m~/Documents/Workspace/Milvus_ollama_trial/.venv/lib/python3.12/site-packages/pymilvus/client/search_result.py:271\u001b[39m, in \u001b[36mSearchResult._parse_search_result_data\u001b[39m\u001b[34m(self, res, round_decimal)\u001b[39m\n\u001b[32m    268\u001b[39m \u001b[38;5;28;01mfor\u001b[39;00m topk \u001b[38;5;129;01min\u001b[39;00m res.topks:\n\u001b[32m    269\u001b[39m     start, end = nq_thres, nq_thres + topk\n\u001b[32m    270\u001b[39m     data.append(\n\u001b[32m--> \u001b[39m\u001b[32m271\u001b[39m         \u001b[43mHybridHits\u001b[49m\u001b[43m(\u001b[49m\n\u001b[32m    272\u001b[39m \u001b[43m            \u001b[49m\u001b[43mstart\u001b[49m\u001b[43m,\u001b[49m\n\u001b[32m    273\u001b[39m \u001b[43m            \u001b[49m\u001b[43mend\u001b[49m\u001b[43m,\u001b[49m\n\u001b[32m    274\u001b[39m \u001b[43m            \u001b[49m\u001b[43mall_pks\u001b[49m\u001b[43m,\u001b[49m\n\u001b[32m    275\u001b[39m \u001b[43m            \u001b[49m\u001b[43mall_scores\u001b[49m\u001b[43m,\u001b[49m\n\u001b[32m    276\u001b[39m \u001b[43m            \u001b[49m\u001b[43mres\u001b[49m\u001b[43m.\u001b[49m\u001b[43mfields_data\u001b[49m\u001b[43m,\u001b[49m\n\u001b[32m    277\u001b[39m \u001b[43m            \u001b[49m\u001b[43mres\u001b[49m\u001b[43m.\u001b[49m\u001b[43moutput_fields\u001b[49m\u001b[43m,\u001b[49m\n\u001b[32m    278\u001b[39m \u001b[43m            \u001b[49m\u001b[43m_pk_name\u001b[49m\u001b[43m,\u001b[49m\n\u001b[32m    279\u001b[39m \u001b[43m        \u001b[49m\u001b[43m)\u001b[49m\n\u001b[32m    280\u001b[39m     )\n\u001b[32m    281\u001b[39m     nq_thres += topk\n\u001b[32m    282\u001b[39m \u001b[38;5;28;01mreturn\u001b[39;00m data\n",
      "\u001b[36mFile \u001b[39m\u001b[32m~/Documents/Workspace/Milvus_ollama_trial/.venv/lib/python3.12/site-packages/pymilvus/client/search_result.py:47\u001b[39m, in \u001b[36mHybridHits.__init__\u001b[39m\u001b[34m(self, start, end, all_pks, all_scores, fields_data, output_fields, pk_name)\u001b[39m\n\u001b[32m     42\u001b[39m top_k_res = [\n\u001b[32m     43\u001b[39m     Hit({pk_name: all_pks[i], \u001b[33m\"\u001b[39m\u001b[33mdistance\u001b[39m\u001b[33m\"\u001b[39m: all_scores[i], \u001b[33m\"\u001b[39m\u001b[33mentity\u001b[39m\u001b[33m\"\u001b[39m: {}}, pk_name=pk_name)\n\u001b[32m     44\u001b[39m     \u001b[38;5;28;01mfor\u001b[39;00m i \u001b[38;5;129;01min\u001b[39;00m \u001b[38;5;28mrange\u001b[39m(start, end)\n\u001b[32m     45\u001b[39m ]\n\u001b[32m     46\u001b[39m \u001b[38;5;28;01mfor\u001b[39;00m field_data \u001b[38;5;129;01min\u001b[39;00m fields_data:\n\u001b[32m---> \u001b[39m\u001b[32m47\u001b[39m     data = \u001b[43mget_field_data\u001b[49m\u001b[43m(\u001b[49m\u001b[43mfield_data\u001b[49m\u001b[43m)\u001b[49m\n\u001b[32m     48\u001b[39m     has_valid = \u001b[38;5;28mlen\u001b[39m(field_data.valid_data) > \u001b[32m0\u001b[39m\n\u001b[32m     49\u001b[39m     \u001b[38;5;28;01mif\u001b[39;00m field_data.type \u001b[38;5;129;01min\u001b[39;00m [\n\u001b[32m     50\u001b[39m         DataType.BOOL,\n\u001b[32m     51\u001b[39m         DataType.INT8,\n\u001b[32m   (...)\u001b[39m\u001b[32m     57\u001b[39m         DataType.VARCHAR,\n\u001b[32m     58\u001b[39m     ]:\n",
      "\u001b[36mFile \u001b[39m\u001b[32m~/Documents/Workspace/Milvus_ollama_trial/.venv/lib/python3.12/site-packages/pymilvus/client/search_result.py:473\u001b[39m, in \u001b[36mget_field_data\u001b[39m\u001b[34m(field_data)\u001b[39m\n\u001b[32m    471\u001b[39m     \u001b[38;5;28;01mreturn\u001b[39;00m field_data.vectors.sparse_float_vector\n\u001b[32m    472\u001b[39m msg = \u001b[33mf\u001b[39m\u001b[33m\"\u001b[39m\u001b[33mUnsupported field type: \u001b[39m\u001b[38;5;132;01m{\u001b[39;00mfield_data.type\u001b[38;5;132;01m}\u001b[39;00m\u001b[33m\"\u001b[39m\n\u001b[32m--> \u001b[39m\u001b[32m473\u001b[39m \u001b[38;5;28;01mraise\u001b[39;00m MilvusException(msg)\n",
      "\u001b[31mMilvusException\u001b[39m: <MilvusException: (code=Unsupported field type: 0, message=)>"
     ]
    }
   ],
   "source": [
    "TOP_K = 3\n",
    "expression = \"\"\n",
    "expression='rating >= 6.5'\n",
    "\n",
    "expression=expression + ' && (genres[0] like \"Sci-Fi%\" || genres[1] like \"Sci-Fi%\" || genres[2] == \"Sci-Fi\")'\n",
    "\n",
    "print(f\"filter: {expression}\")\n",
    "\n",
    "start_time = time.time()\n",
    "formatted_results, contexts, context_metadata = \\\n",
    "    mc_run_search(SAMPLE_QUESTION, expression, TOP_K)\n",
    "elapsed_time = time.time() - start_time\n",
    "print(f\"Milvus Client search time for {len(dict_list)} vectors: {elapsed_time} seconds\")\n",
    "\n",
    "print(f\"type: {type(formatted_results)}, count: {len(formatted_results)}\")"
   ]
  },
  {
   "cell_type": "code",
   "execution_count": null,
   "id": "362b8d82",
   "metadata": {},
   "outputs": [],
   "source": [
    "from Ipython.display import Image\n",
    "from Ipython.display import display\n",
    "\n",
    "seen_movies = []\n",
    "\n",
    "for i in range(len(contexts)):\n",
    "    print(f\"Retrieved result #{i+1}\")\n",
    "    print(f\"distance = {formatted_results[i][0]}\")\n",
    "\n",
    "    movie_index = context_metadata[i]['movie_index']\n",
    "    print(f\"movie_index: {movie_index}\")\n",
    "\n",
    "    if movie_index in seen_movies:\n",
    "        continue\n",
    "    else:\n",
    "        seen_movies.append(movie_index)\n",
    "        x = Image(url = context_metadata[i]['poster_url'], width=150, height=200)\n",
    "        display(x)\n",
    "\n",
    "        pprint.pprint(f\"chunk: {contexts[i]}\")\n",
    "\n",
    "        for key, value in context_metadata[i].items():\n",
    "            if ((key != 'poster_url') and (key != 'movie_index')):\n",
    "                print(f\"{key}: {value}\")\n",
    "        print()\n",
    "\n",
    "\n",
    "\n"
   ]
  }
 ],
 "metadata": {
  "kernelspec": {
   "display_name": "Milvus_ollama_trial",
   "language": "python",
   "name": "python3"
  },
  "language_info": {
   "codemirror_mode": {
    "name": "ipython",
    "version": 3
   },
   "file_extension": ".py",
   "mimetype": "text/x-python",
   "name": "python",
   "nbconvert_exporter": "python",
   "pygments_lexer": "ipython3",
   "version": "3.12.2"
  }
 },
 "nbformat": 4,
 "nbformat_minor": 5
}

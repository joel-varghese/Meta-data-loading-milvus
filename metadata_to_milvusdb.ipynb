{
 "cells": [
  {
   "cell_type": "code",
   "execution_count": 1,
   "id": "e5baadac",
   "metadata": {},
   "outputs": [],
   "source": [
    "# Code is from \n",
    "# https://github.com/milvus-io/bootcamp/blob/master/bootcamp/Retrieval/imdb_metadata_filtering.ipynb\n",
    "# Joel J Varghese\n",
    "\n",
    "import sys, os, time, pprint\n",
    "import numpy as np\n",
    "import pandas as pd\n",
    "\n",
    "sys.path.append(\"..\")\n",
    "import milvus_utilities as _utils"
   ]
  },
  {
   "cell_type": "code",
<<<<<<< HEAD
   "execution_count": null,
=======
   "execution_count": 2,
>>>>>>> a4d1adae4206eff221511eab5e1a79d9c0838183
   "id": "dd96ffcf",
   "metadata": {},
   "outputs": [
    {
     "name": "stdout",
     "output_type": "stream",
     "text": [
      "100\n",
      "62\n",
      "Example text length: 6556\n",
      "('Example text: Sallie Gardner at a Gallop Sallie Gardner at a Gallop is a '\n",
      " 'short starring Gilbert Domm and Sallie Gardner. The clip shows a jockey, '\n",
      " 'Domm, riding a horse, Sally Gardner. The clip is not filmed but instead '\n",
      " 'consists of 24 individual photographs shot in rapid... Sometimes ascribed as '\n",
      " '\"The Father of the Motion Picture\", Eadweard Muybridge undeniably '\n",
      " 'accomplished exploiting and sometimes introducing a means of instantaneous '\n",
      " 'and serial images to analyze and synthesize animal locomotion. In part, the '\n",
      " \"reasons for and the claims made of his work support Virgilio Tosi's thesis \"\n",
      " 'that cinema was invented out of the needs of scientific research. '\n",
      " \"Conversely, they're informed by Muybridge's background as an artistic \"\n",
      " 'location photographer and, as Phillip Prodger suggests, in book sales and '\n",
      " 'more useful to art than to science, as Marta Braun has demonstrated (see '\n",
      " 'sources at bottom). Additionally, Muybridge quickly exploited their '\n",
      " 'entertainment value via projection to audiences across the U.S. and Europe. '\n",
      " 'Muybridge pursued both of these paths of invention: the path taken by Jules '\n",
      " 'Janssen, Étienne-Jules Marey and others for science and the path taken by '\n",
      " 'Ottomar Anschütz, Thomas Edison, the Lumiére brothers and others for fame '\n",
      " 'and profit.\\n'\n",
      " '\\n'\n",
      " 'Muybridge began taking instantaneous single photographs of multi-millionaire '\n",
      " \"railroad magnate Leland Stanford's horses in motion in 1872. It was disputed \"\n",
      " \"at the time whether all four of a horse's legs were off the ground \"\n",
      " 'simultaneously at any time while running. Although no surviving photographs '\n",
      " 'prove it, contemporary lithographs and paintings likely based on the '\n",
      " 'photographs, indeed, show the moment of \"unsupported transit\". In between '\n",
      " 'and interrupting these experiments, Muybridge was found not guilty of the '\n",
      " \"admittedly premeditated fatal shooting of his wife's lover and possibly her \"\n",
      " \"son's father.\\n\"\n",
      " '\\n'\n",
      " \"Publication of Marey's graphic measurements of a horse's movements reignited \"\n",
      " \"Stanford's interest in the gait of horses. In turn, Marey was convinced to \"\n",
      " \"switch to photography in his motion studies after witnessing Muybridge's \"\n",
      " 'work (see \"Falling Cat\" (1894)). This work in \"automatic '\n",
      " 'electro-photographs\" began in 1878 at Stanford\\'s Palo Alto Stock Farm. '\n",
      " 'Multiple cameras were stored in a shed parallel to a track. A series of '\n",
      " 'closing boards serving as shutters were triggered by tripped threads and '\n",
      " 'electrical means. The wet collodion process of the time, reportedly, could '\n",
      " 'need up to half a minute for an exposure. For the split-second shutter '\n",
      " 'speeds required here, a white canvas background and powdered lime on the '\n",
      " 'track provided more contrast to compensate for less light getting to the '\n",
      " \"glass plates. Employees of Stanford's Central Pacific Railroad and others \"\n",
      " 'helped in constructing this \"set\" and camera equipment.\\n'\n",
      " '\\n'\n",
      " 'Contrary to unattributed claims on the web, this so-called \"Sallie Gardner '\n",
      " 'at a Gallop\" wasn\\'t the first series photographed by Muybridge. Six series '\n",
      " 'of Muybridge\\'s first subjects were published on cards entitled \"The Horse '\n",
      " 'in Motion\". The first is of the horse Abe Edgington trotting on 11 June '\n",
      " '1878. Reporters were invited for the next two series on June 15th, and, as '\n",
      " 'they reported, again, Abe went first—trotting and pulling the driver behind '\n",
      " 'in a sulky, which is what tripped the threads. The second subject that day '\n",
      " 'was Sallie Gardner running and, thus, the mare had to trip the threads. '\n",
      " 'Reporters noted how this spooked her and how that was reflected in the '\n",
      " 'negatives developed on the spot. As one article said, she \"gave a wild bound '\n",
      " 'in the air, breaking the saddle girth as she left the ground.\" Based on such '\n",
      " \"descriptions, it doesn't seem that this series exists anymore. The \"\n",
      " 'animations on the web that are actually of Sallie are dated June 19th on '\n",
      " '\"The Horse in Motion\" card. Many animations claimed to be Sallie on YouTube, '\n",
      " 'Wikipedia and elsewhere, as of this date, are actually of a mare named Annie '\n",
      " \"G. and were part of Muybridge's University of Pennsylvania work published in \"\n",
      " '1887, as the Library of Congress and other reliable sources have made clear. '\n",
      " \"The early Palo Alto photographs aren't as detailed and are closer to \"\n",
      " \"silhouettes. The 12 images of Gardner also include one where she's \"\n",
      " \"stationary. The Morse's Gallery pictures are entirely in silhouette, while \"\n",
      " 'the La Nature engravings of these same images show the rider in a white '\n",
      " 'shirt.\\n'\n",
      " '\\n'\n",
      " 'The shot of the horse stationary, as Braun points out, was added later and '\n",
      " 'is indicative of the artistic and un-scientific assemblages Muybridge made '\n",
      " 'of his images—with the intent of publication, including in his own books. '\n",
      " 'This was especially prominent in his Pennsylvania work, which included many '\n",
      " 'nude models that were surely useful for art. Muybridge influenced artists '\n",
      " 'from Realists like Thomas Eakins and Meissonier, Impressionists like Edgar '\n",
      " 'Degas and Frederick Remington, to the more abstract works of Francis Bacon. '\n",
      " 'His precedence has also been cited in the photography of Steven Pippin and '\n",
      " 'Hollis Frampton, as well as the bullet-time effects in \"The Matrix\" (1999).\\n'\n",
      " '\\n'\n",
      " 'Muybridge lectured on this relationship with art when touring with his '\n",
      " 'Zoöpraxiscope, which was a combination of the magic lantern and '\n",
      " 'phenakistoscope. With it, he projected, from glass disks, facsimiles of his '\n",
      " 'photographs hand-painted by Erwin Faber. Without intermittent movement, the '\n",
      " 'Zoöpraxiscope compressed the images, so elongated drawings were used instead '\n",
      " 'of photographs. Muybridge and others also used his images for '\n",
      " 'phenakistoscopes and zoetropes. The first demonstration of the Zoöpraxiscope '\n",
      " 'was to Stanford and friends in the autumn of 1879. A public demonstration '\n",
      " 'was given on 4 May 1880 for the San Francisco art association, and Muybridge '\n",
      " 'continued these lectures for years—personally touring the U.S. and Europe. '\n",
      " 'Although there were predecessors in animated projections as far back as 1847 '\n",
      " 'by Leopold Ludwig Döbler, in 1853 by Franz von Uchatius, and with posed '\n",
      " 'photographs by Henry Heyl in 1870, the chronophotographic and artistic basis '\n",
      " \"offered some novelty for Muybridge's presentations. They also led him to \"\n",
      " 'meet Edison and Marey and inspire the likes of Anschütz and others—those who '\n",
      " 'took the next steps in the invention of movies.\\n'\n",
      " '\\n'\n",
      " '(Main Sources: \"The Inventor and the Tycoon\" by Edward Ball. \"Eadweard '\n",
      " 'Muybridge\" and \"Picturing Time\" by Marta Braun. \"The Man Who Stopped Time\" '\n",
      " 'by Brian Clegg. \"Man in Motion\" by Robert Bartlett Haas. \"The Father of the '\n",
      " 'Motion Picture\" by Gordon Hendricks. \"The Stanford Years, 1872-1882\" edited '\n",
      " 'by Anita Ventura Mozley. \"Time Stands Still\" by Phillip Prodger. \"Cinema '\n",
      " 'Before Cinema\" by Virgilio Tosi.)')\n",
      "id               int64\n",
      "url             object\n",
      "Name            object\n",
      "PosterLink      object\n",
      "Genres          object\n",
      "Actors          object\n",
      "Director        object\n",
      "Keywords        object\n",
      "RatingValue    float32\n",
      "text            object\n",
      "MovieYear        int64\n",
      "dtype: object\n"
     ]
    },
    {
     "data": {
      "text/html": [
       "<div>\n",
       "<style scoped>\n",
       "    .dataframe tbody tr th:only-of-type {\n",
       "        vertical-align: middle;\n",
       "    }\n",
       "\n",
       "    .dataframe tbody tr th {\n",
       "        vertical-align: top;\n",
       "    }\n",
       "\n",
       "    .dataframe thead th {\n",
       "        text-align: right;\n",
       "    }\n",
       "</style>\n",
       "<table border=\"1\" class=\"dataframe\">\n",
       "  <thead>\n",
       "    <tr style=\"text-align: right;\">\n",
       "      <th></th>\n",
       "      <th>id</th>\n",
       "      <th>url</th>\n",
       "      <th>Name</th>\n",
       "      <th>PosterLink</th>\n",
       "      <th>Genres</th>\n",
       "      <th>Actors</th>\n",
       "      <th>Director</th>\n",
       "      <th>Keywords</th>\n",
       "      <th>RatingValue</th>\n",
       "      <th>text</th>\n",
       "      <th>MovieYear</th>\n",
       "    </tr>\n",
       "  </thead>\n",
       "  <tbody>\n",
       "    <tr>\n",
       "      <th>0</th>\n",
       "      <td>0</td>\n",
       "      <td>https://www.imdb.com/title/tt2221420/</td>\n",
       "      <td>Sallie Gardner at a Gallop</td>\n",
       "      <td>https://m.media-amazon.com/images/M/MV5BMjk0Mz...</td>\n",
       "      <td>[Documentary, Short]</td>\n",
       "      <td>[Gilbert Domm, Sallie Gardner]</td>\n",
       "      <td>Eadweard Muybridge</td>\n",
       "      <td>[19th century, 1870s, nature, horse, horse rid...</td>\n",
       "      <td>7.4</td>\n",
       "      <td>Sallie Gardner at a Gallop Sallie Gardner at a...</td>\n",
       "      <td>1878</td>\n",
       "    </tr>\n",
       "    <tr>\n",
       "      <th>3</th>\n",
       "      <td>3</td>\n",
       "      <td>https://www.imdb.com/title/tt0343112/</td>\n",
       "      <td>Traffic Crossing Leeds Bridge</td>\n",
       "      <td>https://m.media-amazon.com/images/M/MV5BYjZhZj...</td>\n",
       "      <td>[Documentary, Short]</td>\n",
       "      <td>[Cj Pallister]</td>\n",
       "      <td>Louis Aimé Augustin Le Prince</td>\n",
       "      <td>[bridge, street life, 1880s, traffic, horse]</td>\n",
       "      <td>6.7</td>\n",
       "      <td>Traffic Crossing Leeds Bridge Traffic Crossing...</td>\n",
       "      <td>-1</td>\n",
       "    </tr>\n",
       "  </tbody>\n",
       "</table>\n",
       "</div>"
      ],
      "text/plain": [
       "   id                                    url                           Name  \\\n",
       "0   0  https://www.imdb.com/title/tt2221420/     Sallie Gardner at a Gallop   \n",
       "3   3  https://www.imdb.com/title/tt0343112/  Traffic Crossing Leeds Bridge   \n",
       "\n",
       "                                          PosterLink                Genres  \\\n",
       "0  https://m.media-amazon.com/images/M/MV5BMjk0Mz...  [Documentary, Short]   \n",
       "3  https://m.media-amazon.com/images/M/MV5BYjZhZj...  [Documentary, Short]   \n",
       "\n",
       "                           Actors                       Director  \\\n",
       "0  [Gilbert Domm, Sallie Gardner]             Eadweard Muybridge   \n",
       "3                  [Cj Pallister]  Louis Aimé Augustin Le Prince   \n",
       "\n",
       "                                            Keywords  RatingValue  \\\n",
       "0  [19th century, 1870s, nature, horse, horse rid...          7.4   \n",
       "3       [bridge, street life, 1880s, traffic, horse]          6.7   \n",
       "\n",
       "                                                text  MovieYear  \n",
       "0  Sallie Gardner at a Gallop Sallie Gardner at a...       1878  \n",
       "3  Traffic Crossing Leeds Bridge Traffic Crossing...         -1  "
      ]
     },
     "metadata": {},
     "output_type": "display_data"
    }
   ],
   "source": [
    "df = pd.read_csv(\"data/process.csv\")\n",
    "\n",
    "df['text'] = df['Name'] + ' ' + df['Description'] + ' ' + df['ReviewBody']\n",
    "\n",
    "print(df.shape[0])\n",
    "df = df.dropna(subset=['text'])\n",
    "print(df.shape[0])\n",
    "\n",
    "df['Genres'] = df['Genres'].str.split(',')\n",
<<<<<<< HEAD
    "df['Genres'] = df['Genres'].apply(lambda d: ', '.join(d) if isinstance(d, list) else '')\n",
=======
    "df['Genres'] = df['Genres'].apply(lambda d: d if isinstance(d, list) else [\"\"])\n",
>>>>>>> a4d1adae4206eff221511eab5e1a79d9c0838183
    "\n",
    "df['Actors'] = df['Actors'].str.split(',')\n",
    "df['Actors'] = df['Actors'].apply(lambda d: d if isinstance(d, list) else [\"\"])\n",
    "\n",
    "df['Keywords'] = df['Keywords'].str.split(',')\n",
    "df['Keywords'] = df['Keywords'].apply(lambda d: d if isinstance(d, list) else [\"\"])\n",
    "\n",
    "def extract_year(movie_date):\n",
    "    try:\n",
    "        return int(movie_date.split('-')[0])\n",
    "    except Exception:\n",
    "        return -1\n",
    "df['MovieYear'] = df.DatePublished.apply(extract_year)\n",
    "\n",
    "df['RatingValue'] = pd.to_numeric(df['RatingValue'], errors='coerce')\n",
    "df['RatingValue'] = df['RatingValue'].fillna(-1).astype('float32')\n",
    "\n",
    "df.drop(columns=['RatingCount', 'BestRating', 'WorstRating',\n",
    "                 'ReviewAurthor', 'ReviewDate', 'ReviewBody',\n",
    "                 'Description', 'duration', 'DatePublished'], inplace=True)\n",
    "\n",
    "print(f\"Example text length: {len(df.text[0])}\")\n",
    "pprint.pprint(f\"Example text: {df.text[0]}\")\n",
    "\n",
    "df = df.tail(250).copy()\n",
    "\n",
    "print(df.dtypes)\n",
    "display(df.head(2))"
   ]
  },
  {
   "cell_type": "code",
   "execution_count": 3,
   "id": "12688e7b",
   "metadata": {},
   "outputs": [],
   "source": [
    "# \n",
    "# \n",
    "# \n",
    "# Alright so you just can't start a docker container and expect milvus to be up and running \n",
    "# You need to run the code block below to connect pymilvus to the milvus server port that it is running on\n",
    "# This is cruicial to start the insert creation and list processes #\n",
    "# \n",
    "# \n",
    "# "
   ]
  },
  {
   "cell_type": "code",
<<<<<<< HEAD
   "execution_count": 5,
=======
   "execution_count": 6,
>>>>>>> a4d1adae4206eff221511eab5e1a79d9c0838183
   "id": "6e1d269f",
   "metadata": {},
   "outputs": [
    {
     "name": "stdout",
     "output_type": "stream",
     "text": [
<<<<<<< HEAD
      "pymilvus: 2.5.16\n",
=======
      "pymilvus: 2.6.2\n",
>>>>>>> a4d1adae4206eff221511eab5e1a79d9c0838183
      "Connected successfully.\n"
     ]
    }
   ],
   "source": [
    "import pymilvus\n",
    "from pymilvus import connections\n",
    "\n",
    "print(f\"pymilvus: {pymilvus.__version__}\")\n",
    "connections.connect(\"default\", host=\"localhost\", port=\"19530\")\n",
    "\n",
    "print(\"Connected successfully.\")"
   ]
  },
  {
   "cell_type": "code",
   "execution_count": 7,
<<<<<<< HEAD
   "id": "f3052907",
   "metadata": {},
   "outputs": [
    {
     "name": "stderr",
     "output_type": "stream",
     "text": [
      "/Users/joeljvarghese/Documents/Workspace/Milvus_ollama_trial/.venv/lib/python3.12/site-packages/milvus_lite/__init__.py:15: UserWarning: pkg_resources is deprecated as an API. See https://setuptools.pypa.io/en/latest/pkg_resources.html. The pkg_resources package is slated for removal as early as 2025-11-30. Refrain from using this package or pin to Setuptools<81.\n",
      "  from pkg_resources import DistributionNotFound, get_distribution\n"
     ]
    }
   ],
   "source": [
    "from pymilvus import MilvusClient\n",
    "mc = MilvusClient(\"milvus_demo.db\")"
=======
   "id": "9de20396",
   "metadata": {},
   "outputs": [],
   "source": [
    "from pymilvus import MilvusClient\n",
    "\n",
    "mc = MilvusClient(uri=\"http://localhost:19530\")"
>>>>>>> a4d1adae4206eff221511eab5e1a79d9c0838183
   ]
  },
  {
   "cell_type": "code",
<<<<<<< HEAD
   "execution_count": 6,
=======
   "execution_count": 8,
>>>>>>> a4d1adae4206eff221511eab5e1a79d9c0838183
   "id": "cd740bf4",
   "metadata": {},
   "outputs": [
    {
     "name": "stderr",
     "output_type": "stream",
     "text": [
      "/Users/joeljvarghese/Documents/Workspace/Milvus_ollama_trial/.venv/lib/python3.12/site-packages/tqdm/auto.py:21: TqdmWarning: IProgress not found. Please update jupyter and ipywidgets. See https://ipywidgets.readthedocs.io/en/stable/user_install.html\n",
      "  from .autonotebook import tqdm as notebook_tqdm\n"
     ]
    },
    {
     "name": "stdout",
     "output_type": "stream",
     "text": [
      "model_name: BAAI/bge-large-en-v1.5\n",
      "embedding_dim: 1024\n",
      "max_seq_length: 512\n"
     ]
    }
   ],
   "source": [
    "import torch \n",
    "from sentence_transformers import SentenceTransformer\n",
    "\n",
    "torch.backends.cudnn.deterministic = True\n",
    "DEVICE = torch.device('cuda:3' if torch.cuda.is_available() else 'cpu')\n",
    "\n",
    "model_name = \"BAAI/bge-large-en-v1.5\"\n",
    "encoder = SentenceTransformer(model_name, device=DEVICE)\n",
    "\n",
    "EMBEDDING_DIM = encoder.get_sentence_embedding_dimension()\n",
    "MAX_SEQ_LENGTH_IN_TOKENS = encoder.get_max_seq_length()\n",
    "\n",
    "MAX_SEQ_LENGTH = MAX_SEQ_LENGTH_IN_TOKENS * 3\n",
    "EOS_TOKEN_LENGTH = 1 * 3\n",
    "\n",
    "MAX_SEQ_LENGTH = MAX_SEQ_LENGTH_IN_TOKENS\n",
    "EOS_TOKEN_LENGTH = 1\n",
    "\n",
    "print(f\"model_name: {model_name}\")\n",
    "print(f\"embedding_dim: {EMBEDDING_DIM}\")\n",
    "print(f\"max_seq_length: {MAX_SEQ_LENGTH}\")"
   ]
  },
  {
   "cell_type": "code",
<<<<<<< HEAD
   "execution_count": 8,
=======
   "execution_count": 9,
>>>>>>> a4d1adae4206eff221511eab5e1a79d9c0838183
   "id": "a78b5f3a",
   "metadata": {},
   "outputs": [
    {
     "name": "stdout",
     "output_type": "stream",
     "text": [
<<<<<<< HEAD
=======
      "Successfully dropped collection: `Imdb_metadata`\n",
>>>>>>> a4d1adae4206eff221511eab5e1a79d9c0838183
      "Successfully created collection: `Imdb_metadata`\n"
     ]
    }
   ],
   "source": [
    "# Finishing up\n",
    "\n",
    "COLLECTION_NAME = \"Imdb_metadata\"\n",
    "\n",
    "if mc.has_collection(COLLECTION_NAME):\n",
    "    mc.drop_collection(COLLECTION_NAME)\n",
    "    print(f\"Successfully dropped collection: `{COLLECTION_NAME}`\")\n",
    "\n",
    "\n",
    "mc.create_collection(COLLECTION_NAME,\n",
    "                     EMBEDDING_DIM,\n",
    "                     consistency_level=\"Eventually\",\n",
    "                     auto_id=True,\n",
    "                     metric_type=\"IP\",\n",
    "                     overwrite=True,\n",
    "                     )\n",
    "print(f\"Successfully created collection: `{COLLECTION_NAME}`\")"
   ]
  },
  {
   "cell_type": "code",
<<<<<<< HEAD
   "execution_count": 12,
=======
   "execution_count": 10,
>>>>>>> a4d1adae4206eff221511eab5e1a79d9c0838183
   "id": "59d23352",
   "metadata": {},
   "outputs": [],
   "source": [
<<<<<<< HEAD
    "from langchain_text_splitters import RecursiveCharacterTextSplitter\n",
=======
    "from langchain.text_splitter import RecursiveCharacterTextSplitter\n",
>>>>>>> a4d1adae4206eff221511eab5e1a79d9c0838183
    "\n",
    "def recursive_splitter_wrapper(text, chunk_size):\n",
    "    chunk_overlap = np.round(chunk_size * 0.10, 0)\n",
    "    text_splitter = RecursiveCharacterTextSplitter(\n",
    "        chunk_size=chunk_size,\n",
    "        chunk_overlap=chunk_overlap,\n",
    "        length_function=len,\n",
    "    )\n",
    "    chunks = text_splitter.split_text(text)\n",
    "\n",
    "    chunks = [text.replace(\"<br /><br />\", \" \") for text in chunks]\n",
    "\n",
    "    return chunks\n",
    "\n",
    "def imdb_chunk_text(batch_size, df, chunk_size):\n",
    "    batch = df.head(batch_size).copy()\n",
    "    print(f\"chunk size: {chunk_size}\")\n",
    "    print(f\"original shape: {batch.shape}\")\n",
    "\n",
    "    print(f\"Also batch size may differ from {batch_size} to {len(df)}\")\n",
    "    \n",
    "    start_time = time.time()\n",
    "\n",
    "    batch['chunk'] = batch['text'].apply(recursive_splitter_wrapper, chunk_size=chunk_size)\n",
    "    batch = batch.explode('chunk', ignore_index=True)\n",
    "    print(f\"new shape: {batch.shape}\")\n",
    "\n",
    "    embeddings = torch.tensor(encoder.encode(batch['chunk']))\n",
    "    embeddings = np.array(embeddings / np.linalg.norm(embeddings))\n",
    "\n",
    "    converted_values = list(map(np.float32, embeddings))\n",
    "    batch['vector'] = converted_values\n",
    "\n",
    "    end_time = time.time()\n",
    "    print(f\"Chunking + embedding time for {batch_size} docs: {end_time - start_time} sec\")\n",
    "\n",
    "    assert len(batch.chunk[0]) <= MAX_SEQ_LENGTH-1\n",
    "    assert len(batch.vector[0] == EMBEDDING_DIM)\n",
    "    print(f\"type embeddings: {type(batch.vector)} of {type(batch.vector[0])}\")\n",
    "    print(f\"of numbers: {type(batch.vector[0][0])}\")\n",
    "\n",
    "    return batch"
   ]
  },
  {
   "cell_type": "code",
<<<<<<< HEAD
   "execution_count": 13,
=======
   "execution_count": 11,
>>>>>>> a4d1adae4206eff221511eab5e1a79d9c0838183
   "id": "f012f243",
   "metadata": {},
   "outputs": [
    {
     "name": "stdout",
     "output_type": "stream",
     "text": [
      "chunk size: 512\n",
      "original shape: (62, 11)\n",
      "Also batch size may differ from 800 to 62\n",
      "new shape: (254, 12)\n",
<<<<<<< HEAD
      "Chunking + embedding time for 800 docs: 55.74633598327637 sec\n",
=======
      "Chunking + embedding time for 800 docs: 76.06064295768738 sec\n",
>>>>>>> a4d1adae4206eff221511eab5e1a79d9c0838183
      "type embeddings: <class 'pandas.core.series.Series'> of <class 'numpy.ndarray'>\n",
      "of numbers: <class 'numpy.float32'>\n"
     ]
    },
    {
     "name": "stderr",
     "output_type": "stream",
     "text": [
<<<<<<< HEAD
      "/var/folders/r4/dp3q02rx14lcf4mg7lgqtnp80000gn/T/ipykernel_48012/2647135724.py:30: DeprecationWarning: __array__ implementation doesn't accept a copy keyword, so passing copy=False failed. __array__ must implement 'dtype' and 'copy' keyword arguments. To learn more, see the migration guide https://numpy.org/devdocs/numpy_2_0_migration_guide.html#adapting-to-changes-in-the-copy-keyword\n",
=======
      "/var/folders/r4/dp3q02rx14lcf4mg7lgqtnp80000gn/T/ipykernel_21527/986418545.py:30: DeprecationWarning: __array__ implementation doesn't accept a copy keyword, so passing copy=False failed. __array__ must implement 'dtype' and 'copy' keyword arguments. To learn more, see the migration guide https://numpy.org/devdocs/numpy_2_0_migration_guide.html#adapting-to-changes-in-the-copy-keyword\n",
>>>>>>> a4d1adae4206eff221511eab5e1a79d9c0838183
      "  embeddings = np.array(embeddings / np.linalg.norm(embeddings))\n"
     ]
    },
    {
     "data": {
      "text/html": [
       "<div>\n",
       "<style scoped>\n",
       "    .dataframe tbody tr th:only-of-type {\n",
       "        vertical-align: middle;\n",
       "    }\n",
       "\n",
       "    .dataframe tbody tr th {\n",
       "        vertical-align: top;\n",
       "    }\n",
       "\n",
       "    .dataframe thead th {\n",
       "        text-align: right;\n",
       "    }\n",
       "</style>\n",
       "<table border=\"1\" class=\"dataframe\">\n",
       "  <thead>\n",
       "    <tr style=\"text-align: right;\">\n",
       "      <th></th>\n",
       "      <th>id</th>\n",
       "      <th>url</th>\n",
       "      <th>Name</th>\n",
       "      <th>PosterLink</th>\n",
       "      <th>Genres</th>\n",
       "      <th>Actors</th>\n",
       "      <th>Director</th>\n",
       "      <th>Keywords</th>\n",
       "      <th>RatingValue</th>\n",
       "      <th>text</th>\n",
       "      <th>MovieYear</th>\n",
       "      <th>chunk</th>\n",
       "      <th>vector</th>\n",
       "    </tr>\n",
       "  </thead>\n",
       "  <tbody>\n",
       "    <tr>\n",
       "      <th>0</th>\n",
       "      <td>0</td>\n",
       "      <td>https://www.imdb.com/title/tt2221420/</td>\n",
       "      <td>Sallie Gardner at a Gallop</td>\n",
       "      <td>https://m.media-amazon.com/images/M/MV5BMjk0Mz...</td>\n",
       "      <td>[Documentary, Short]</td>\n",
       "      <td>[Gilbert Domm, Sallie Gardner]</td>\n",
       "      <td>Eadweard Muybridge</td>\n",
       "      <td>[19th century, 1870s, nature, horse, horse rid...</td>\n",
       "      <td>7.4</td>\n",
       "      <td>Sallie Gardner at a Gallop Sallie Gardner at a...</td>\n",
       "      <td>1878</td>\n",
       "      <td>Sallie Gardner at a Gallop Sallie Gardner at a...</td>\n",
       "      <td>[0.0017392188, 0.00088550965, 0.0044410275, -0...</td>\n",
       "    </tr>\n",
       "    <tr>\n",
       "      <th>1</th>\n",
       "      <td>0</td>\n",
       "      <td>https://www.imdb.com/title/tt2221420/</td>\n",
       "      <td>Sallie Gardner at a Gallop</td>\n",
       "      <td>https://m.media-amazon.com/images/M/MV5BMjk0Mz...</td>\n",
       "      <td>[Documentary, Short]</td>\n",
       "      <td>[Gilbert Domm, Sallie Gardner]</td>\n",
       "      <td>Eadweard Muybridge</td>\n",
       "      <td>[19th century, 1870s, nature, horse, horse rid...</td>\n",
       "      <td>7.4</td>\n",
       "      <td>Sallie Gardner at a Gallop Sallie Gardner at a...</td>\n",
       "      <td>1878</td>\n",
       "      <td>animal locomotion. In part, the reasons for an...</td>\n",
       "      <td>[0.0013205261, -7.3755305e-05, 0.0027188999, -...</td>\n",
       "    </tr>\n",
       "  </tbody>\n",
       "</table>\n",
       "</div>"
      ],
      "text/plain": [
       "   id                                    url                        Name  \\\n",
       "0   0  https://www.imdb.com/title/tt2221420/  Sallie Gardner at a Gallop   \n",
       "1   0  https://www.imdb.com/title/tt2221420/  Sallie Gardner at a Gallop   \n",
       "\n",
       "                                          PosterLink                Genres  \\\n",
       "0  https://m.media-amazon.com/images/M/MV5BMjk0Mz...  [Documentary, Short]   \n",
       "1  https://m.media-amazon.com/images/M/MV5BMjk0Mz...  [Documentary, Short]   \n",
       "\n",
       "                           Actors            Director  \\\n",
       "0  [Gilbert Domm, Sallie Gardner]  Eadweard Muybridge   \n",
       "1  [Gilbert Domm, Sallie Gardner]  Eadweard Muybridge   \n",
       "\n",
       "                                            Keywords  RatingValue  \\\n",
       "0  [19th century, 1870s, nature, horse, horse rid...          7.4   \n",
       "1  [19th century, 1870s, nature, horse, horse rid...          7.4   \n",
       "\n",
       "                                                text  MovieYear  \\\n",
       "0  Sallie Gardner at a Gallop Sallie Gardner at a...       1878   \n",
       "1  Sallie Gardner at a Gallop Sallie Gardner at a...       1878   \n",
       "\n",
       "                                               chunk  \\\n",
       "0  Sallie Gardner at a Gallop Sallie Gardner at a...   \n",
       "1  animal locomotion. In part, the reasons for an...   \n",
       "\n",
       "                                              vector  \n",
       "0  [0.0017392188, 0.00088550965, 0.0044410275, -0...  \n",
       "1  [0.0013205261, -7.3755305e-05, 0.0027188999, -...  "
      ]
     },
     "metadata": {},
     "output_type": "display_data"
    }
   ],
   "source": [
    "chunk_size =512\n",
    "chunk_overlap = np.round(chunk_size * 0.10, 0)\n",
    "\n",
    "BATCH_SIZE = 800\n",
    "batch = imdb_chunk_text(BATCH_SIZE, df, chunk_size)\n",
    "display(batch.head(2))\n",
    "\n",
    "batch.drop(columns=['id', 'text'], axis=1, inplace=True)"
   ]
  },
  {
   "cell_type": "code",
<<<<<<< HEAD
   "execution_count": 14,
=======
   "execution_count": 12,
>>>>>>> a4d1adae4206eff221511eab5e1a79d9c0838183
   "id": "5681a99c",
   "metadata": {},
   "outputs": [
    {
     "name": "stdout",
     "output_type": "stream",
     "text": [
      "url            0\n",
      "Name           0\n",
      "PosterLink     0\n",
      "Genres         0\n",
      "Actors         0\n",
      "Director       6\n",
      "Keywords       0\n",
      "RatingValue    0\n",
      "MovieYear      0\n",
      "chunk          0\n",
      "vector         0\n",
      "dtype: int64\n"
     ]
    }
   ],
   "source": [
    "print(batch.isnull().sum())\n",
    "\n",
    "batch.fillna('', inplace=True)"
   ]
  },
  {
   "cell_type": "code",
<<<<<<< HEAD
   "execution_count": 15,
=======
   "execution_count": 13,
>>>>>>> a4d1adae4206eff221511eab5e1a79d9c0838183
   "id": "d3626ca0",
   "metadata": {},
   "outputs": [
    {
     "name": "stdout",
     "output_type": "stream",
     "text": [
      "url            0\n",
      "Name           0\n",
      "PosterLink     0\n",
      "Genres         0\n",
      "Actors         0\n",
      "Director       0\n",
      "Keywords       0\n",
      "RatingValue    0\n",
      "MovieYear      0\n",
      "chunk          0\n",
      "vector         0\n",
      "dtype: int64\n"
     ]
    }
   ],
   "source": [
    "print(batch.isnull().sum())"
   ]
  },
  {
   "cell_type": "code",
<<<<<<< HEAD
   "execution_count": 16,
=======
   "execution_count": 14,
>>>>>>> a4d1adae4206eff221511eab5e1a79d9c0838183
   "id": "cd98b8df",
   "metadata": {},
   "outputs": [
    {
     "name": "stdout",
     "output_type": "stream",
     "text": [
      "Start inserting entities\n",
<<<<<<< HEAD
      "Milvus Client insert time for 254 vectors: 0.12086129188537598 seconds\n"
=======
      "Milvus Client insert time for 254 vectors: 0.10413789749145508 seconds\n"
>>>>>>> a4d1adae4206eff221511eab5e1a79d9c0838183
     ]
    }
   ],
   "source": [
    "dict_list = batch.to_dict(orient='records')\n",
    "\n",
    "print(\"Start inserting entities\")\n",
    "start_time = time.time()\n",
    "insert_result = mc.insert(\n",
    "    COLLECTION_NAME,\n",
    "    data=dict_list,\n",
    "    progress_bar=True\n",
    ")\n",
    "end_time = time.time()\n",
    "print(f\"Milvus Client insert time for {batch.shape[0]} vectors: {end_time - start_time} seconds\")"
   ]
  },
  {
   "cell_type": "code",
<<<<<<< HEAD
   "execution_count": 17,
=======
   "execution_count": 15,
>>>>>>> a4d1adae4206eff221511eab5e1a79d9c0838183
   "id": "ec084c1c",
   "metadata": {},
   "outputs": [
    {
     "name": "stdout",
     "output_type": "stream",
     "text": [
      "254\n",
      "<class 'dict'> 11\n",
      "{'Actors': ['Gilbert Domm', 'Sallie Gardner'],\n",
      " 'Director': 'Eadweard Muybridge',\n",
      " 'Genres': ['Documentary', 'Short'],\n",
      " 'Keywords': ['19th century', '1870s', 'nature', 'horse', 'horse riding'],\n",
      " 'MovieYear': 1878,\n",
      " 'Name': 'Sallie Gardner at a Gallop',\n",
      " 'PosterLink': 'https://m.media-amazon.com/images/M/MV5BMjk0MzM1NDUtMTIyNi00Y2Y3LWEwNzEtMDQ1NmU4YzgzYWU2XkEyXkFqcGdeQXVyMjM3NTU0NTQ@._V1_.jpg',\n",
      " 'RatingValue': 7.400000095367432,\n",
      " 'chunk': 'Sallie Gardner at a Gallop Sallie Gardner at a Gallop is a short '\n",
      "          'starring Gilbert Domm and Sallie Gardner. The clip shows a jockey, '\n",
      "          'Domm, riding a horse, Sally Gardner. The clip is not filmed but '\n",
      "          'instead consists of 24 individual photographs shot in rapid... '\n",
      "          'Sometimes ascribed as \"The Father of the Motion Picture\", Eadweard '\n",
      "          'Muybridge undeniably accomplished exploiting and sometimes '\n",
      "          'introducing a means of instantaneous and serial images to analyze '\n",
      "          'and synthesize animal locomotion. In part, the reasons for',\n",
      " 'url': 'https://www.imdb.com/title/tt2221420/',\n",
      " 'vector': array([ 0.00173922,  0.00088551,  0.00444103, ..., -0.00069028,\n",
      "        0.00055595, -0.00027699], shape=(1024,), dtype=float32)}\n"
     ]
    }
   ],
   "source": [
    "print(len(dict_list))\n",
    "print(type(dict_list[0]), len(dict_list[0]))\n",
    "pprint.pprint(dict_list[0])"
   ]
  },
  {
   "cell_type": "code",
<<<<<<< HEAD
   "execution_count": 18,
=======
   "execution_count": 16,
>>>>>>> a4d1adae4206eff221511eab5e1a79d9c0838183
   "id": "652c74a3",
   "metadata": {},
   "outputs": [
    {
     "name": "stdout",
     "output_type": "stream",
     "text": [
      "['url', 'Name', 'PosterLink', 'Genres', 'Actors', 'Director', 'Keywords', 'RatingValue', 'MovieYear', 'chunk']\n"
     ]
    }
   ],
   "source": [
    "OUTPUT_FIELDS = list(dict_list[0].keys())\n",
    "OUTPUT_FIELDS.remove('vector')\n",
    "print(OUTPUT_FIELDS)"
   ]
  },
  {
   "cell_type": "code",
<<<<<<< HEAD
   "execution_count": 19,
=======
   "execution_count": 17,
>>>>>>> a4d1adae4206eff221511eab5e1a79d9c0838183
   "id": "2c422da2",
   "metadata": {},
   "outputs": [
    {
     "name": "stdout",
     "output_type": "stream",
     "text": [
<<<<<<< HEAD
      "['Horror', 'Comedy', 'Music', 'Family', 'Sport', 'Drama', 'Romance', 'Action', 'Sci-Fi', 'History', 'Crime', 'Short', 'Biography', 'Documentary', 'Fantasy']\n"
=======
      "['Drama', 'Music', 'Action', 'Documentary', 'Fantasy', 'Sci-Fi', 'Horror', 'Comedy', 'Short', 'Romance', 'Biography', 'Crime', 'Family', 'History', 'Sport']\n"
>>>>>>> a4d1adae4206eff221511eab5e1a79d9c0838183
     ]
    }
   ],
   "source": [
    "GENRES = list(set([genre for genres in df['Genres'] for genre in genres]))\n",
    "print(GENRES)"
   ]
  },
  {
   "cell_type": "code",
<<<<<<< HEAD
   "execution_count": 20,
=======
   "execution_count": 18,
>>>>>>> a4d1adae4206eff221511eab5e1a79d9c0838183
   "id": "8053e836",
   "metadata": {},
   "outputs": [
    {
     "data": {
      "text/plain": [
       "<Axes: >"
      ]
     },
<<<<<<< HEAD
     "execution_count": 20,
=======
     "execution_count": 18,
>>>>>>> a4d1adae4206eff221511eab5e1a79d9c0838183
     "metadata": {},
     "output_type": "execute_result"
    },
    {
     "data": {
<<<<<<< HEAD
      "image/png": "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",
=======
      "image/png": "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",
>>>>>>> a4d1adae4206eff221511eab5e1a79d9c0838183
      "text/plain": [
       "<Figure size 400x200 with 1 Axes>"
      ]
     },
     "metadata": {},
     "output_type": "display_data"
    }
   ],
   "source": [
    "import matplotlib.pyplot as plt\n",
    "plt.figure(figsize=(4,2))\n",
    "df['RatingValue'].hist()"
   ]
  },
  {
   "cell_type": "code",
<<<<<<< HEAD
   "execution_count": 39,
=======
   "execution_count": 19,
>>>>>>> a4d1adae4206eff221511eab5e1a79d9c0838183
   "id": "6e221cc1",
   "metadata": {},
   "outputs": [],
   "source": [
<<<<<<< HEAD
    "SAMPLE_QUESTION = \"Documentary film\""
=======
    "SAMPLE_QUESTION = \"Dystopia science fiction with a robot.\""
>>>>>>> a4d1adae4206eff221511eab5e1a79d9c0838183
   ]
  },
  {
   "cell_type": "code",
<<<<<<< HEAD
   "execution_count": 40,
=======
   "execution_count": 20,
>>>>>>> a4d1adae4206eff221511eab5e1a79d9c0838183
   "id": "5ac28115",
   "metadata": {},
   "outputs": [],
   "source": [
    "def mc_run_search(question, filter_expression, top_k):\n",
    "    query_embeddings = _utils.embed_query(encoder, [question])\n",
    "\n",
<<<<<<< HEAD
=======
    "    print(\"embedding type:\", type(query_embeddings))\n",
    "    print(\"embedding length:\", len(query_embeddings))\n",
    "    print(\"embedding[0] type:\", type(query_embeddings[0]))\n",
    "    print(\"embedding[0] length:\", len(query_embeddings[0]))\n",
    "    print(\"embedding[0][:5]:\", query_embeddings[0][:5])\n",
    "\n",
    "\n",
>>>>>>> a4d1adae4206eff221511eab5e1a79d9c0838183
    "    results = mc.search(\n",
    "        COLLECTION_NAME,\n",
    "        data=query_embeddings,\n",
    "        vector_field='vector',\n",
    "        output_fields=OUTPUT_FIELDS,\n",
    "        filter=filter_expression,\n",
    "        limit=top_k,\n",
    "        consistency_level=\"Eventually\"\n",
    "    )\n",
    "\n",
    "    METADATA_FIELDS = [f for f in OUTPUT_FIELDS if f != 'chunk']\n",
    "    formatted_results, context, context_metadata = _utils.client_assemble_retrieved_context(\n",
    "        results, metadata_fields=METADATA_FIELDS, num_shot_answers=TOP_K\n",
    "    )\n",
    "\n",
    "    return formatted_results, context, context_metadata"
   ]
  },
  {
   "cell_type": "code",
<<<<<<< HEAD
   "execution_count": 41,
=======
   "execution_count": 21,
>>>>>>> a4d1adae4206eff221511eab5e1a79d9c0838183
   "id": "37ff53e2",
   "metadata": {},
   "outputs": [
    {
     "name": "stdout",
     "output_type": "stream",
     "text": [
      "{'auto_id': True, 'description': '', 'fields': [{'name': 'id', 'description': '', 'type': <DataType.INT64: 5>, 'is_primary': True, 'auto_id': True}, {'name': 'vector', 'description': '', 'type': <DataType.FLOAT_VECTOR: 101>, 'params': {'dim': 1024}}], 'enable_dynamic_field': True}\n"
     ]
    }
   ],
   "source": [
    "from pymilvus import Collection\n",
    "\n",
    "col = Collection(COLLECTION_NAME)\n",
    "print(col.schema)"
   ]
  },
  {
   "cell_type": "code",
<<<<<<< HEAD
   "execution_count": null,
=======
   "execution_count": 22,
>>>>>>> a4d1adae4206eff221511eab5e1a79d9c0838183
   "id": "fafa870e",
   "metadata": {},
   "outputs": [
    {
     "name": "stdout",
     "output_type": "stream",
     "text": [
<<<<<<< HEAD
      "filter: rating >= 6.5 && (genres[0] like \"Documentary%\" || genres[1] like \"Short%\")\n",
      "Milvus Client search time for 254 vectors: 3.2217540740966797 seconds\n",
      "type: <class 'list'>, count: 0\n"
=======
      "filter: rating >= 6.5 && (genres[0] like \"Sci-Fi%\" || genres[1] like \"Sci-Fi%\" || genres[2] == \"Sci-Fi\")\n"
     ]
    },
    {
     "name": "stderr",
     "output_type": "stream",
     "text": [
      "2025-10-20 17:20:08,366 [ERROR][handler]: RPC error: [search], <MilvusException: (code=Unsupported field type: 0, message=)>, <Time:{'RPC start': '2025-10-20 17:20:08.321878', 'RPC error': '2025-10-20 17:20:08.366019'}> (decorators.py:140)\n",
      "2025-10-20 17:20:08,373 [ERROR][search]: Failed to search collection: Imdb_metadata (milvus_client.py:425)\n"
     ]
    },
    {
     "name": "stdout",
     "output_type": "stream",
     "text": [
      "embedding type: <class 'list'>\n",
      "embedding length: 1\n",
      "embedding[0] type: <class 'list'>\n",
      "embedding[0] length: 1024\n",
      "embedding[0][:5]: [0.0034669949673116207, -0.0021061724983155727, -0.0036922909785062075, 0.005653412081301212, 0.028139423578977585]\n"
     ]
    },
    {
     "ename": "MilvusException",
     "evalue": "<MilvusException: (code=Unsupported field type: 0, message=)>",
     "output_type": "error",
     "traceback": [
      "\u001b[31m---------------------------------------------------------------------------\u001b[39m",
      "\u001b[31mMilvusException\u001b[39m                           Traceback (most recent call last)",
      "    \u001b[31m[... skipping hidden 1 frame]\u001b[39m\n",
      "\u001b[36mCell\u001b[39m\u001b[36m \u001b[39m\u001b[32mIn[22]\u001b[39m\u001b[32m, line 11\u001b[39m\n\u001b[32m      9\u001b[39m start_time = time.time()\n\u001b[32m     10\u001b[39m formatted_results, contexts, context_metadata = \\\n\u001b[32m---> \u001b[39m\u001b[32m11\u001b[39m     \u001b[43mmc_run_search\u001b[49m\u001b[43m(\u001b[49m\u001b[43mSAMPLE_QUESTION\u001b[49m\u001b[43m,\u001b[49m\u001b[43m \u001b[49m\u001b[43mexpression\u001b[49m\u001b[43m,\u001b[49m\u001b[43m \u001b[49m\u001b[43mTOP_K\u001b[49m\u001b[43m)\u001b[49m\n\u001b[32m     12\u001b[39m elapsed_time = time.time() - start_time\n",
      "\u001b[36mCell\u001b[39m\u001b[36m \u001b[39m\u001b[32mIn[20]\u001b[39m\u001b[32m, line 11\u001b[39m, in \u001b[36mmc_run_search\u001b[39m\u001b[34m(question, filter_expression, top_k)\u001b[39m\n\u001b[32m      8\u001b[39m \u001b[38;5;28mprint\u001b[39m(\u001b[33m\"\u001b[39m\u001b[33membedding[0][:5]:\u001b[39m\u001b[33m\"\u001b[39m, query_embeddings[\u001b[32m0\u001b[39m][:\u001b[32m5\u001b[39m])\n\u001b[32m---> \u001b[39m\u001b[32m11\u001b[39m results = \u001b[43mmc\u001b[49m\u001b[43m.\u001b[49m\u001b[43msearch\u001b[49m\u001b[43m(\u001b[49m\n\u001b[32m     12\u001b[39m \u001b[43m    \u001b[49m\u001b[43mCOLLECTION_NAME\u001b[49m\u001b[43m,\u001b[49m\n\u001b[32m     13\u001b[39m \u001b[43m    \u001b[49m\u001b[43mdata\u001b[49m\u001b[43m=\u001b[49m\u001b[43mquery_embeddings\u001b[49m\u001b[43m,\u001b[49m\n\u001b[32m     14\u001b[39m \u001b[43m    \u001b[49m\u001b[43mvector_field\u001b[49m\u001b[43m=\u001b[49m\u001b[33;43m'\u001b[39;49m\u001b[33;43mvector\u001b[39;49m\u001b[33;43m'\u001b[39;49m\u001b[43m,\u001b[49m\n\u001b[32m     15\u001b[39m \u001b[43m    \u001b[49m\u001b[43moutput_fields\u001b[49m\u001b[43m=\u001b[49m\u001b[43mOUTPUT_FIELDS\u001b[49m\u001b[43m,\u001b[49m\n\u001b[32m     16\u001b[39m \u001b[43m    \u001b[49m\u001b[38;5;28;43mfilter\u001b[39;49m\u001b[43m=\u001b[49m\u001b[43mfilter_expression\u001b[49m\u001b[43m,\u001b[49m\n\u001b[32m     17\u001b[39m \u001b[43m    \u001b[49m\u001b[43mlimit\u001b[49m\u001b[43m=\u001b[49m\u001b[43mtop_k\u001b[49m\u001b[43m,\u001b[49m\n\u001b[32m     18\u001b[39m \u001b[43m    \u001b[49m\u001b[43mconsistency_level\u001b[49m\u001b[43m=\u001b[49m\u001b[33;43m\"\u001b[39;49m\u001b[33;43mEventually\u001b[39;49m\u001b[33;43m\"\u001b[39;49m\n\u001b[32m     19\u001b[39m \u001b[43m\u001b[49m\u001b[43m)\u001b[49m\n\u001b[32m     21\u001b[39m METADATA_FIELDS = [f \u001b[38;5;28;01mfor\u001b[39;00m f \u001b[38;5;129;01min\u001b[39;00m OUTPUT_FIELDS \u001b[38;5;28;01mif\u001b[39;00m f != \u001b[33m'\u001b[39m\u001b[33mchunk\u001b[39m\u001b[33m'\u001b[39m]\n",
      "\u001b[36mFile \u001b[39m\u001b[32m~/Documents/Workspace/Milvus_ollama_trial/.venv/lib/python3.12/site-packages/pymilvus/milvus_client/milvus_client.py:426\u001b[39m, in \u001b[36mMilvusClient.search\u001b[39m\u001b[34m(self, collection_name, data, filter, limit, output_fields, search_params, timeout, partition_names, anns_field, ranker, **kwargs)\u001b[39m\n\u001b[32m    425\u001b[39m     logger.error(\u001b[33m\"\u001b[39m\u001b[33mFailed to search collection: \u001b[39m\u001b[38;5;132;01m%s\u001b[39;00m\u001b[33m\"\u001b[39m, collection_name)\n\u001b[32m--> \u001b[39m\u001b[32m426\u001b[39m     \u001b[38;5;28;01mraise\u001b[39;00m ex \u001b[38;5;28;01mfrom\u001b[39;00m\u001b[38;5;250m \u001b[39m\u001b[34;01mex\u001b[39;00m\n\u001b[32m    428\u001b[39m \u001b[38;5;28;01mreturn\u001b[39;00m res\n",
      "\u001b[36mFile \u001b[39m\u001b[32m~/Documents/Workspace/Milvus_ollama_trial/.venv/lib/python3.12/site-packages/pymilvus/milvus_client/milvus_client.py:410\u001b[39m, in \u001b[36mMilvusClient.search\u001b[39m\u001b[34m(self, collection_name, data, filter, limit, output_fields, search_params, timeout, partition_names, anns_field, ranker, **kwargs)\u001b[39m\n\u001b[32m    409\u001b[39m \u001b[38;5;28;01mtry\u001b[39;00m:\n\u001b[32m--> \u001b[39m\u001b[32m410\u001b[39m     res = \u001b[43mconn\u001b[49m\u001b[43m.\u001b[49m\u001b[43msearch\u001b[49m\u001b[43m(\u001b[49m\n\u001b[32m    411\u001b[39m \u001b[43m        \u001b[49m\u001b[43mcollection_name\u001b[49m\u001b[43m,\u001b[49m\n\u001b[32m    412\u001b[39m \u001b[43m        \u001b[49m\u001b[43mdata\u001b[49m\u001b[43m,\u001b[49m\n\u001b[32m    413\u001b[39m \u001b[43m        \u001b[49m\u001b[43manns_field\u001b[49m\u001b[43m \u001b[49m\u001b[38;5;129;43;01mor\u001b[39;49;00m\u001b[43m \u001b[49m\u001b[33;43m\"\u001b[39;49m\u001b[33;43m\"\u001b[39;49m\u001b[43m,\u001b[49m\n\u001b[32m    414\u001b[39m \u001b[43m        \u001b[49m\u001b[43msearch_params\u001b[49m\u001b[43m \u001b[49m\u001b[38;5;129;43;01mor\u001b[39;49;00m\u001b[43m \u001b[49m\u001b[43m{\u001b[49m\u001b[43m}\u001b[49m\u001b[43m,\u001b[49m\n\u001b[32m    415\u001b[39m \u001b[43m        \u001b[49m\u001b[43mexpression\u001b[49m\u001b[43m=\u001b[49m\u001b[38;5;28;43mfilter\u001b[39;49m\u001b[43m,\u001b[49m\n\u001b[32m    416\u001b[39m \u001b[43m        \u001b[49m\u001b[43mlimit\u001b[49m\u001b[43m=\u001b[49m\u001b[43mlimit\u001b[49m\u001b[43m,\u001b[49m\n\u001b[32m    417\u001b[39m \u001b[43m        \u001b[49m\u001b[43moutput_fields\u001b[49m\u001b[43m=\u001b[49m\u001b[43moutput_fields\u001b[49m\u001b[43m,\u001b[49m\n\u001b[32m    418\u001b[39m \u001b[43m        \u001b[49m\u001b[43mpartition_names\u001b[49m\u001b[43m=\u001b[49m\u001b[43mpartition_names\u001b[49m\u001b[43m,\u001b[49m\n\u001b[32m    419\u001b[39m \u001b[43m        \u001b[49m\u001b[43mexpr_params\u001b[49m\u001b[43m=\u001b[49m\u001b[43mkwargs\u001b[49m\u001b[43m.\u001b[49m\u001b[43mpop\u001b[49m\u001b[43m(\u001b[49m\u001b[33;43m\"\u001b[39;49m\u001b[33;43mfilter_params\u001b[39;49m\u001b[33;43m\"\u001b[39;49m\u001b[43m,\u001b[49m\u001b[43m \u001b[49m\u001b[43m{\u001b[49m\u001b[43m}\u001b[49m\u001b[43m)\u001b[49m\u001b[43m,\u001b[49m\n\u001b[32m    420\u001b[39m \u001b[43m        \u001b[49m\u001b[43mtimeout\u001b[49m\u001b[43m=\u001b[49m\u001b[43mtimeout\u001b[49m\u001b[43m,\u001b[49m\n\u001b[32m    421\u001b[39m \u001b[43m        \u001b[49m\u001b[43mranker\u001b[49m\u001b[43m=\u001b[49m\u001b[43mranker\u001b[49m\u001b[43m,\u001b[49m\n\u001b[32m    422\u001b[39m \u001b[43m        \u001b[49m\u001b[43m*\u001b[49m\u001b[43m*\u001b[49m\u001b[43mkwargs\u001b[49m\u001b[43m,\u001b[49m\n\u001b[32m    423\u001b[39m \u001b[43m    \u001b[49m\u001b[43m)\u001b[49m\n\u001b[32m    424\u001b[39m \u001b[38;5;28;01mexcept\u001b[39;00m \u001b[38;5;167;01mException\u001b[39;00m \u001b[38;5;28;01mas\u001b[39;00m ex:\n",
      "\u001b[36mFile \u001b[39m\u001b[32m~/Documents/Workspace/Milvus_ollama_trial/.venv/lib/python3.12/site-packages/pymilvus/decorators.py:141\u001b[39m, in \u001b[36merror_handler.<locals>.wrapper.<locals>.handler\u001b[39m\u001b[34m(*args, **kwargs)\u001b[39m\n\u001b[32m    140\u001b[39m     LOGGER.error(\u001b[33mf\u001b[39m\u001b[33m\"\u001b[39m\u001b[33mRPC error: [\u001b[39m\u001b[38;5;132;01m{\u001b[39;00minner_name\u001b[38;5;132;01m}\u001b[39;00m\u001b[33m], \u001b[39m\u001b[38;5;132;01m{\u001b[39;00me\u001b[38;5;132;01m}\u001b[39;00m\u001b[33m, <Time:\u001b[39m\u001b[38;5;132;01m{\u001b[39;00mrecord_dict\u001b[38;5;132;01m}\u001b[39;00m\u001b[33m>\u001b[39m\u001b[33m\"\u001b[39m)\n\u001b[32m--> \u001b[39m\u001b[32m141\u001b[39m     \u001b[38;5;28;01mraise\u001b[39;00m e \u001b[38;5;28;01mfrom\u001b[39;00m\u001b[38;5;250m \u001b[39m\u001b[34;01me\u001b[39;00m\n\u001b[32m    142\u001b[39m \u001b[38;5;28;01mexcept\u001b[39;00m grpc.FutureTimeoutError \u001b[38;5;28;01mas\u001b[39;00m e:\n",
      "\u001b[36mFile \u001b[39m\u001b[32m~/Documents/Workspace/Milvus_ollama_trial/.venv/lib/python3.12/site-packages/pymilvus/decorators.py:137\u001b[39m, in \u001b[36merror_handler.<locals>.wrapper.<locals>.handler\u001b[39m\u001b[34m(*args, **kwargs)\u001b[39m\n\u001b[32m    136\u001b[39m     record_dict[\u001b[33m\"\u001b[39m\u001b[33mRPC start\u001b[39m\u001b[33m\"\u001b[39m] = \u001b[38;5;28mstr\u001b[39m(datetime.datetime.now())\n\u001b[32m--> \u001b[39m\u001b[32m137\u001b[39m     \u001b[38;5;28;01mreturn\u001b[39;00m \u001b[43mfunc\u001b[49m\u001b[43m(\u001b[49m\u001b[43m*\u001b[49m\u001b[43margs\u001b[49m\u001b[43m,\u001b[49m\u001b[43m \u001b[49m\u001b[43m*\u001b[49m\u001b[43m*\u001b[49m\u001b[43mkwargs\u001b[49m\u001b[43m)\u001b[49m\n\u001b[32m    138\u001b[39m \u001b[38;5;28;01mexcept\u001b[39;00m MilvusException \u001b[38;5;28;01mas\u001b[39;00m e:\n",
      "\u001b[36mFile \u001b[39m\u001b[32m~/Documents/Workspace/Milvus_ollama_trial/.venv/lib/python3.12/site-packages/pymilvus/decorators.py:173\u001b[39m, in \u001b[36mtracing_request.<locals>.wrapper.<locals>.handler\u001b[39m\u001b[34m(self, *args, **kwargs)\u001b[39m\n\u001b[32m    172\u001b[39m     \u001b[38;5;28mself\u001b[39m.set_onetime_loglevel(level)\n\u001b[32m--> \u001b[39m\u001b[32m173\u001b[39m \u001b[38;5;28;01mreturn\u001b[39;00m \u001b[43mfunc\u001b[49m\u001b[43m(\u001b[49m\u001b[38;5;28;43mself\u001b[39;49m\u001b[43m,\u001b[49m\u001b[43m \u001b[49m\u001b[43m*\u001b[49m\u001b[43margs\u001b[49m\u001b[43m,\u001b[49m\u001b[43m \u001b[49m\u001b[43m*\u001b[49m\u001b[43m*\u001b[49m\u001b[43mkwargs\u001b[49m\u001b[43m)\u001b[49m\n",
      "\u001b[36mFile \u001b[39m\u001b[32m~/Documents/Workspace/Milvus_ollama_trial/.venv/lib/python3.12/site-packages/pymilvus/decorators.py:116\u001b[39m, in \u001b[36mretry_on_rpc_failure.<locals>.wrapper.<locals>.handler\u001b[39m\u001b[34m(*args, **kwargs)\u001b[39m\n\u001b[32m    115\u001b[39m     \u001b[38;5;28;01melse\u001b[39;00m:\n\u001b[32m--> \u001b[39m\u001b[32m116\u001b[39m         \u001b[38;5;28;01mraise\u001b[39;00m e \u001b[38;5;28;01mfrom\u001b[39;00m\u001b[38;5;250m \u001b[39m\u001b[34;01me\u001b[39;00m\n\u001b[32m    117\u001b[39m \u001b[38;5;28;01mexcept\u001b[39;00m \u001b[38;5;167;01mException\u001b[39;00m \u001b[38;5;28;01mas\u001b[39;00m e:\n",
      "\u001b[36mFile \u001b[39m\u001b[32m~/Documents/Workspace/Milvus_ollama_trial/.venv/lib/python3.12/site-packages/pymilvus/decorators.py:86\u001b[39m, in \u001b[36mretry_on_rpc_failure.<locals>.wrapper.<locals>.handler\u001b[39m\u001b[34m(*args, **kwargs)\u001b[39m\n\u001b[32m     85\u001b[39m \u001b[38;5;28;01mtry\u001b[39;00m:\n\u001b[32m---> \u001b[39m\u001b[32m86\u001b[39m     \u001b[38;5;28;01mreturn\u001b[39;00m \u001b[43mfunc\u001b[49m\u001b[43m(\u001b[49m\u001b[43m*\u001b[49m\u001b[43margs\u001b[49m\u001b[43m,\u001b[49m\u001b[43m \u001b[49m\u001b[43m*\u001b[49m\u001b[43m*\u001b[49m\u001b[43mkwargs\u001b[49m\u001b[43m)\u001b[49m\n\u001b[32m     87\u001b[39m \u001b[38;5;28;01mexcept\u001b[39;00m grpc.RpcError \u001b[38;5;28;01mas\u001b[39;00m e:\n\u001b[32m     88\u001b[39m     \u001b[38;5;66;03m# Do not retry on these codes\u001b[39;00m\n",
      "\u001b[36mFile \u001b[39m\u001b[32m~/Documents/Workspace/Milvus_ollama_trial/.venv/lib/python3.12/site-packages/pymilvus/client/grpc_handler.py:970\u001b[39m, in \u001b[36mGrpcHandler.search\u001b[39m\u001b[34m(self, collection_name, data, anns_field, param, limit, expression, partition_names, output_fields, round_decimal, timeout, ranker, **kwargs)\u001b[39m\n\u001b[32m    957\u001b[39m request = Prepare.search_requests_with_expr(\n\u001b[32m    958\u001b[39m     collection_name,\n\u001b[32m    959\u001b[39m     data,\n\u001b[32m   (...)\u001b[39m\u001b[32m    968\u001b[39m     **kwargs,\n\u001b[32m    969\u001b[39m )\n\u001b[32m--> \u001b[39m\u001b[32m970\u001b[39m \u001b[38;5;28;01mreturn\u001b[39;00m \u001b[38;5;28;43mself\u001b[39;49m\u001b[43m.\u001b[49m\u001b[43m_execute_search\u001b[49m\u001b[43m(\u001b[49m\u001b[43mrequest\u001b[49m\u001b[43m,\u001b[49m\u001b[43m \u001b[49m\u001b[43mtimeout\u001b[49m\u001b[43m,\u001b[49m\u001b[43m \u001b[49m\u001b[43mround_decimal\u001b[49m\u001b[43m=\u001b[49m\u001b[43mround_decimal\u001b[49m\u001b[43m,\u001b[49m\u001b[43m \u001b[49m\u001b[43m*\u001b[49m\u001b[43m*\u001b[49m\u001b[43mkwargs\u001b[49m\u001b[43m)\u001b[49m\n",
      "\u001b[36mFile \u001b[39m\u001b[32m~/Documents/Workspace/Milvus_ollama_trial/.venv/lib/python3.12/site-packages/pymilvus/client/grpc_handler.py:905\u001b[39m, in \u001b[36mGrpcHandler._execute_search\u001b[39m\u001b[34m(self, request, timeout, **kwargs)\u001b[39m\n\u001b[32m    904\u001b[39m     \u001b[38;5;28;01mreturn\u001b[39;00m SearchFuture(\u001b[38;5;28;01mNone\u001b[39;00m, \u001b[38;5;28;01mNone\u001b[39;00m, e)\n\u001b[32m--> \u001b[39m\u001b[32m905\u001b[39m \u001b[38;5;28;01mraise\u001b[39;00m e \u001b[38;5;28;01mfrom\u001b[39;00m\u001b[38;5;250m \u001b[39m\u001b[34;01me\u001b[39;00m\n",
      "\u001b[36mFile \u001b[39m\u001b[32m~/Documents/Workspace/Milvus_ollama_trial/.venv/lib/python3.12/site-packages/pymilvus/client/grpc_handler.py:896\u001b[39m, in \u001b[36mGrpcHandler._execute_search\u001b[39m\u001b[34m(self, request, timeout, **kwargs)\u001b[39m\n\u001b[32m    895\u001b[39m     round_decimal = kwargs.get(\u001b[33m\"\u001b[39m\u001b[33mround_decimal\u001b[39m\u001b[33m\"\u001b[39m, -\u001b[32m1\u001b[39m)\n\u001b[32m--> \u001b[39m\u001b[32m896\u001b[39m     \u001b[38;5;28;01mreturn\u001b[39;00m \u001b[43mSearchResult\u001b[49m\u001b[43m(\u001b[49m\n\u001b[32m    897\u001b[39m \u001b[43m        \u001b[49m\u001b[43mresponse\u001b[49m\u001b[43m.\u001b[49m\u001b[43mresults\u001b[49m\u001b[43m,\u001b[49m\n\u001b[32m    898\u001b[39m \u001b[43m        \u001b[49m\u001b[43mround_decimal\u001b[49m\u001b[43m,\u001b[49m\n\u001b[32m    899\u001b[39m \u001b[43m        \u001b[49m\u001b[43mstatus\u001b[49m\u001b[43m=\u001b[49m\u001b[43mresponse\u001b[49m\u001b[43m.\u001b[49m\u001b[43mstatus\u001b[49m\u001b[43m,\u001b[49m\n\u001b[32m    900\u001b[39m \u001b[43m        \u001b[49m\u001b[43msession_ts\u001b[49m\u001b[43m=\u001b[49m\u001b[43mresponse\u001b[49m\u001b[43m.\u001b[49m\u001b[43msession_ts\u001b[49m\u001b[43m,\u001b[49m\n\u001b[32m    901\u001b[39m \u001b[43m    \u001b[49m\u001b[43m)\u001b[49m\n\u001b[32m    902\u001b[39m \u001b[38;5;28;01mexcept\u001b[39;00m \u001b[38;5;167;01mException\u001b[39;00m \u001b[38;5;28;01mas\u001b[39;00m e:\n",
      "\u001b[36mFile \u001b[39m\u001b[32m~/Documents/Workspace/Milvus_ollama_trial/.venv/lib/python3.12/site-packages/pymilvus/client/search_result.py:215\u001b[39m, in \u001b[36mSearchResult.__init__\u001b[39m\u001b[34m(self, res, round_decimal, status, session_ts)\u001b[39m\n\u001b[32m    208\u001b[39m \u001b[38;5;28;01mdef\u001b[39;00m\u001b[38;5;250m \u001b[39m\u001b[34m__init__\u001b[39m(\n\u001b[32m    209\u001b[39m     \u001b[38;5;28mself\u001b[39m,\n\u001b[32m    210\u001b[39m     res: schema_pb2.SearchResultData,\n\u001b[32m   (...)\u001b[39m\u001b[32m    213\u001b[39m     session_ts: Optional[\u001b[38;5;28mint\u001b[39m] = \u001b[32m0\u001b[39m,\n\u001b[32m    214\u001b[39m ):\n\u001b[32m--> \u001b[39m\u001b[32m215\u001b[39m     _data = \u001b[38;5;28;43mself\u001b[39;49m\u001b[43m.\u001b[49m\u001b[43m_parse_search_result_data\u001b[49m\u001b[43m(\u001b[49m\u001b[43mres\u001b[49m\u001b[43m,\u001b[49m\u001b[43m \u001b[49m\u001b[43mround_decimal\u001b[49m\u001b[43m)\u001b[49m\n\u001b[32m    216\u001b[39m     \u001b[38;5;28msuper\u001b[39m().\u001b[34m__init__\u001b[39m(_data)\n",
      "\u001b[36mFile \u001b[39m\u001b[32m~/Documents/Workspace/Milvus_ollama_trial/.venv/lib/python3.12/site-packages/pymilvus/client/search_result.py:271\u001b[39m, in \u001b[36mSearchResult._parse_search_result_data\u001b[39m\u001b[34m(self, res, round_decimal)\u001b[39m\n\u001b[32m    269\u001b[39m start, end = nq_thres, nq_thres + topk\n\u001b[32m    270\u001b[39m data.append(\n\u001b[32m--> \u001b[39m\u001b[32m271\u001b[39m     \u001b[43mHybridHits\u001b[49m\u001b[43m(\u001b[49m\n\u001b[32m    272\u001b[39m \u001b[43m        \u001b[49m\u001b[43mstart\u001b[49m\u001b[43m,\u001b[49m\n\u001b[32m    273\u001b[39m \u001b[43m        \u001b[49m\u001b[43mend\u001b[49m\u001b[43m,\u001b[49m\n\u001b[32m    274\u001b[39m \u001b[43m        \u001b[49m\u001b[43mall_pks\u001b[49m\u001b[43m,\u001b[49m\n\u001b[32m    275\u001b[39m \u001b[43m        \u001b[49m\u001b[43mall_scores\u001b[49m\u001b[43m,\u001b[49m\n\u001b[32m    276\u001b[39m \u001b[43m        \u001b[49m\u001b[43mres\u001b[49m\u001b[43m.\u001b[49m\u001b[43mfields_data\u001b[49m\u001b[43m,\u001b[49m\n\u001b[32m    277\u001b[39m \u001b[43m        \u001b[49m\u001b[43mres\u001b[49m\u001b[43m.\u001b[49m\u001b[43moutput_fields\u001b[49m\u001b[43m,\u001b[49m\n\u001b[32m    278\u001b[39m \u001b[43m        \u001b[49m\u001b[43m_pk_name\u001b[49m\u001b[43m,\u001b[49m\n\u001b[32m    279\u001b[39m \u001b[43m    \u001b[49m\u001b[43m)\u001b[49m\n\u001b[32m    280\u001b[39m )\n\u001b[32m    281\u001b[39m nq_thres += topk\n",
      "\u001b[36mFile \u001b[39m\u001b[32m~/Documents/Workspace/Milvus_ollama_trial/.venv/lib/python3.12/site-packages/pymilvus/client/search_result.py:47\u001b[39m, in \u001b[36mHybridHits.__init__\u001b[39m\u001b[34m(self, start, end, all_pks, all_scores, fields_data, output_fields, pk_name)\u001b[39m\n\u001b[32m     46\u001b[39m \u001b[38;5;28;01mfor\u001b[39;00m field_data \u001b[38;5;129;01min\u001b[39;00m fields_data:\n\u001b[32m---> \u001b[39m\u001b[32m47\u001b[39m     data = \u001b[43mget_field_data\u001b[49m\u001b[43m(\u001b[49m\u001b[43mfield_data\u001b[49m\u001b[43m)\u001b[49m\n\u001b[32m     48\u001b[39m     has_valid = \u001b[38;5;28mlen\u001b[39m(field_data.valid_data) > \u001b[32m0\u001b[39m\n",
      "\u001b[36mFile \u001b[39m\u001b[32m~/Documents/Workspace/Milvus_ollama_trial/.venv/lib/python3.12/site-packages/pymilvus/client/search_result.py:473\u001b[39m, in \u001b[36mget_field_data\u001b[39m\u001b[34m(field_data)\u001b[39m\n\u001b[32m    472\u001b[39m msg = \u001b[33mf\u001b[39m\u001b[33m\"\u001b[39m\u001b[33mUnsupported field type: \u001b[39m\u001b[38;5;132;01m{\u001b[39;00mfield_data.type\u001b[38;5;132;01m}\u001b[39;00m\u001b[33m\"\u001b[39m\n\u001b[32m--> \u001b[39m\u001b[32m473\u001b[39m \u001b[38;5;28;01mraise\u001b[39;00m MilvusException(msg)\n",
      "\u001b[31mMilvusException\u001b[39m: <MilvusException: (code=Unsupported field type: 0, message=)>",
      "\nThe above exception was the direct cause of the following exception:\n",
      "\u001b[31mMilvusException\u001b[39m                           Traceback (most recent call last)",
      "    \u001b[31m[... skipping hidden 1 frame]\u001b[39m\n",
      "\u001b[36mCell\u001b[39m\u001b[36m \u001b[39m\u001b[32mIn[22]\u001b[39m\u001b[32m, line 11\u001b[39m\n\u001b[32m      9\u001b[39m start_time = time.time()\n\u001b[32m     10\u001b[39m formatted_results, contexts, context_metadata = \\\n\u001b[32m---> \u001b[39m\u001b[32m11\u001b[39m     \u001b[43mmc_run_search\u001b[49m\u001b[43m(\u001b[49m\u001b[43mSAMPLE_QUESTION\u001b[49m\u001b[43m,\u001b[49m\u001b[43m \u001b[49m\u001b[43mexpression\u001b[49m\u001b[43m,\u001b[49m\u001b[43m \u001b[49m\u001b[43mTOP_K\u001b[49m\u001b[43m)\u001b[49m\n\u001b[32m     12\u001b[39m elapsed_time = time.time() - start_time\n",
      "\u001b[36mCell\u001b[39m\u001b[36m \u001b[39m\u001b[32mIn[20]\u001b[39m\u001b[32m, line 11\u001b[39m, in \u001b[36mmc_run_search\u001b[39m\u001b[34m(question, filter_expression, top_k)\u001b[39m\n\u001b[32m      8\u001b[39m \u001b[38;5;28mprint\u001b[39m(\u001b[33m\"\u001b[39m\u001b[33membedding[0][:5]:\u001b[39m\u001b[33m\"\u001b[39m, query_embeddings[\u001b[32m0\u001b[39m][:\u001b[32m5\u001b[39m])\n\u001b[32m---> \u001b[39m\u001b[32m11\u001b[39m results = \u001b[43mmc\u001b[49m\u001b[43m.\u001b[49m\u001b[43msearch\u001b[49m\u001b[43m(\u001b[49m\n\u001b[32m     12\u001b[39m \u001b[43m    \u001b[49m\u001b[43mCOLLECTION_NAME\u001b[49m\u001b[43m,\u001b[49m\n\u001b[32m     13\u001b[39m \u001b[43m    \u001b[49m\u001b[43mdata\u001b[49m\u001b[43m=\u001b[49m\u001b[43mquery_embeddings\u001b[49m\u001b[43m,\u001b[49m\n\u001b[32m     14\u001b[39m \u001b[43m    \u001b[49m\u001b[43mvector_field\u001b[49m\u001b[43m=\u001b[49m\u001b[33;43m'\u001b[39;49m\u001b[33;43mvector\u001b[39;49m\u001b[33;43m'\u001b[39;49m\u001b[43m,\u001b[49m\n\u001b[32m     15\u001b[39m \u001b[43m    \u001b[49m\u001b[43moutput_fields\u001b[49m\u001b[43m=\u001b[49m\u001b[43mOUTPUT_FIELDS\u001b[49m\u001b[43m,\u001b[49m\n\u001b[32m     16\u001b[39m \u001b[43m    \u001b[49m\u001b[38;5;28;43mfilter\u001b[39;49m\u001b[43m=\u001b[49m\u001b[43mfilter_expression\u001b[49m\u001b[43m,\u001b[49m\n\u001b[32m     17\u001b[39m \u001b[43m    \u001b[49m\u001b[43mlimit\u001b[49m\u001b[43m=\u001b[49m\u001b[43mtop_k\u001b[49m\u001b[43m,\u001b[49m\n\u001b[32m     18\u001b[39m \u001b[43m    \u001b[49m\u001b[43mconsistency_level\u001b[49m\u001b[43m=\u001b[49m\u001b[33;43m\"\u001b[39;49m\u001b[33;43mEventually\u001b[39;49m\u001b[33;43m\"\u001b[39;49m\n\u001b[32m     19\u001b[39m \u001b[43m\u001b[49m\u001b[43m)\u001b[49m\n\u001b[32m     21\u001b[39m METADATA_FIELDS = [f \u001b[38;5;28;01mfor\u001b[39;00m f \u001b[38;5;129;01min\u001b[39;00m OUTPUT_FIELDS \u001b[38;5;28;01mif\u001b[39;00m f != \u001b[33m'\u001b[39m\u001b[33mchunk\u001b[39m\u001b[33m'\u001b[39m]\n",
      "\u001b[36mFile \u001b[39m\u001b[32m~/Documents/Workspace/Milvus_ollama_trial/.venv/lib/python3.12/site-packages/pymilvus/milvus_client/milvus_client.py:426\u001b[39m, in \u001b[36mMilvusClient.search\u001b[39m\u001b[34m(self, collection_name, data, filter, limit, output_fields, search_params, timeout, partition_names, anns_field, ranker, **kwargs)\u001b[39m\n\u001b[32m    425\u001b[39m     logger.error(\u001b[33m\"\u001b[39m\u001b[33mFailed to search collection: \u001b[39m\u001b[38;5;132;01m%s\u001b[39;00m\u001b[33m\"\u001b[39m, collection_name)\n\u001b[32m--> \u001b[39m\u001b[32m426\u001b[39m     \u001b[38;5;28;01mraise\u001b[39;00m ex \u001b[38;5;28;01mfrom\u001b[39;00m\u001b[38;5;250m \u001b[39m\u001b[34;01mex\u001b[39;00m\n\u001b[32m    428\u001b[39m \u001b[38;5;28;01mreturn\u001b[39;00m res\n",
      "\u001b[36mFile \u001b[39m\u001b[32m~/Documents/Workspace/Milvus_ollama_trial/.venv/lib/python3.12/site-packages/pymilvus/milvus_client/milvus_client.py:410\u001b[39m, in \u001b[36mMilvusClient.search\u001b[39m\u001b[34m(self, collection_name, data, filter, limit, output_fields, search_params, timeout, partition_names, anns_field, ranker, **kwargs)\u001b[39m\n\u001b[32m    409\u001b[39m \u001b[38;5;28;01mtry\u001b[39;00m:\n\u001b[32m--> \u001b[39m\u001b[32m410\u001b[39m     res = \u001b[43mconn\u001b[49m\u001b[43m.\u001b[49m\u001b[43msearch\u001b[49m\u001b[43m(\u001b[49m\n\u001b[32m    411\u001b[39m \u001b[43m        \u001b[49m\u001b[43mcollection_name\u001b[49m\u001b[43m,\u001b[49m\n\u001b[32m    412\u001b[39m \u001b[43m        \u001b[49m\u001b[43mdata\u001b[49m\u001b[43m,\u001b[49m\n\u001b[32m    413\u001b[39m \u001b[43m        \u001b[49m\u001b[43manns_field\u001b[49m\u001b[43m \u001b[49m\u001b[38;5;129;43;01mor\u001b[39;49;00m\u001b[43m \u001b[49m\u001b[33;43m\"\u001b[39;49m\u001b[33;43m\"\u001b[39;49m\u001b[43m,\u001b[49m\n\u001b[32m    414\u001b[39m \u001b[43m        \u001b[49m\u001b[43msearch_params\u001b[49m\u001b[43m \u001b[49m\u001b[38;5;129;43;01mor\u001b[39;49;00m\u001b[43m \u001b[49m\u001b[43m{\u001b[49m\u001b[43m}\u001b[49m\u001b[43m,\u001b[49m\n\u001b[32m    415\u001b[39m \u001b[43m        \u001b[49m\u001b[43mexpression\u001b[49m\u001b[43m=\u001b[49m\u001b[38;5;28;43mfilter\u001b[39;49m\u001b[43m,\u001b[49m\n\u001b[32m    416\u001b[39m \u001b[43m        \u001b[49m\u001b[43mlimit\u001b[49m\u001b[43m=\u001b[49m\u001b[43mlimit\u001b[49m\u001b[43m,\u001b[49m\n\u001b[32m    417\u001b[39m \u001b[43m        \u001b[49m\u001b[43moutput_fields\u001b[49m\u001b[43m=\u001b[49m\u001b[43moutput_fields\u001b[49m\u001b[43m,\u001b[49m\n\u001b[32m    418\u001b[39m \u001b[43m        \u001b[49m\u001b[43mpartition_names\u001b[49m\u001b[43m=\u001b[49m\u001b[43mpartition_names\u001b[49m\u001b[43m,\u001b[49m\n\u001b[32m    419\u001b[39m \u001b[43m        \u001b[49m\u001b[43mexpr_params\u001b[49m\u001b[43m=\u001b[49m\u001b[43mkwargs\u001b[49m\u001b[43m.\u001b[49m\u001b[43mpop\u001b[49m\u001b[43m(\u001b[49m\u001b[33;43m\"\u001b[39;49m\u001b[33;43mfilter_params\u001b[39;49m\u001b[33;43m\"\u001b[39;49m\u001b[43m,\u001b[49m\u001b[43m \u001b[49m\u001b[43m{\u001b[49m\u001b[43m}\u001b[49m\u001b[43m)\u001b[49m\u001b[43m,\u001b[49m\n\u001b[32m    420\u001b[39m \u001b[43m        \u001b[49m\u001b[43mtimeout\u001b[49m\u001b[43m=\u001b[49m\u001b[43mtimeout\u001b[49m\u001b[43m,\u001b[49m\n\u001b[32m    421\u001b[39m \u001b[43m        \u001b[49m\u001b[43mranker\u001b[49m\u001b[43m=\u001b[49m\u001b[43mranker\u001b[49m\u001b[43m,\u001b[49m\n\u001b[32m    422\u001b[39m \u001b[43m        \u001b[49m\u001b[43m*\u001b[49m\u001b[43m*\u001b[49m\u001b[43mkwargs\u001b[49m\u001b[43m,\u001b[49m\n\u001b[32m    423\u001b[39m \u001b[43m    \u001b[49m\u001b[43m)\u001b[49m\n\u001b[32m    424\u001b[39m \u001b[38;5;28;01mexcept\u001b[39;00m \u001b[38;5;167;01mException\u001b[39;00m \u001b[38;5;28;01mas\u001b[39;00m ex:\n",
      "\u001b[36mFile \u001b[39m\u001b[32m~/Documents/Workspace/Milvus_ollama_trial/.venv/lib/python3.12/site-packages/pymilvus/decorators.py:141\u001b[39m, in \u001b[36merror_handler.<locals>.wrapper.<locals>.handler\u001b[39m\u001b[34m(*args, **kwargs)\u001b[39m\n\u001b[32m    140\u001b[39m     LOGGER.error(\u001b[33mf\u001b[39m\u001b[33m\"\u001b[39m\u001b[33mRPC error: [\u001b[39m\u001b[38;5;132;01m{\u001b[39;00minner_name\u001b[38;5;132;01m}\u001b[39;00m\u001b[33m], \u001b[39m\u001b[38;5;132;01m{\u001b[39;00me\u001b[38;5;132;01m}\u001b[39;00m\u001b[33m, <Time:\u001b[39m\u001b[38;5;132;01m{\u001b[39;00mrecord_dict\u001b[38;5;132;01m}\u001b[39;00m\u001b[33m>\u001b[39m\u001b[33m\"\u001b[39m)\n\u001b[32m--> \u001b[39m\u001b[32m141\u001b[39m     \u001b[38;5;28;01mraise\u001b[39;00m e \u001b[38;5;28;01mfrom\u001b[39;00m\u001b[38;5;250m \u001b[39m\u001b[34;01me\u001b[39;00m\n\u001b[32m    142\u001b[39m \u001b[38;5;28;01mexcept\u001b[39;00m grpc.FutureTimeoutError \u001b[38;5;28;01mas\u001b[39;00m e:\n",
      "\u001b[36mFile \u001b[39m\u001b[32m~/Documents/Workspace/Milvus_ollama_trial/.venv/lib/python3.12/site-packages/pymilvus/decorators.py:137\u001b[39m, in \u001b[36merror_handler.<locals>.wrapper.<locals>.handler\u001b[39m\u001b[34m(*args, **kwargs)\u001b[39m\n\u001b[32m    136\u001b[39m     record_dict[\u001b[33m\"\u001b[39m\u001b[33mRPC start\u001b[39m\u001b[33m\"\u001b[39m] = \u001b[38;5;28mstr\u001b[39m(datetime.datetime.now())\n\u001b[32m--> \u001b[39m\u001b[32m137\u001b[39m     \u001b[38;5;28;01mreturn\u001b[39;00m \u001b[43mfunc\u001b[49m\u001b[43m(\u001b[49m\u001b[43m*\u001b[49m\u001b[43margs\u001b[49m\u001b[43m,\u001b[49m\u001b[43m \u001b[49m\u001b[43m*\u001b[49m\u001b[43m*\u001b[49m\u001b[43mkwargs\u001b[49m\u001b[43m)\u001b[49m\n\u001b[32m    138\u001b[39m \u001b[38;5;28;01mexcept\u001b[39;00m MilvusException \u001b[38;5;28;01mas\u001b[39;00m e:\n",
      "\u001b[36mFile \u001b[39m\u001b[32m~/Documents/Workspace/Milvus_ollama_trial/.venv/lib/python3.12/site-packages/pymilvus/decorators.py:173\u001b[39m, in \u001b[36mtracing_request.<locals>.wrapper.<locals>.handler\u001b[39m\u001b[34m(self, *args, **kwargs)\u001b[39m\n\u001b[32m    172\u001b[39m     \u001b[38;5;28mself\u001b[39m.set_onetime_loglevel(level)\n\u001b[32m--> \u001b[39m\u001b[32m173\u001b[39m \u001b[38;5;28;01mreturn\u001b[39;00m \u001b[43mfunc\u001b[49m\u001b[43m(\u001b[49m\u001b[38;5;28;43mself\u001b[39;49m\u001b[43m,\u001b[49m\u001b[43m \u001b[49m\u001b[43m*\u001b[49m\u001b[43margs\u001b[49m\u001b[43m,\u001b[49m\u001b[43m \u001b[49m\u001b[43m*\u001b[49m\u001b[43m*\u001b[49m\u001b[43mkwargs\u001b[49m\u001b[43m)\u001b[49m\n",
      "\u001b[36mFile \u001b[39m\u001b[32m~/Documents/Workspace/Milvus_ollama_trial/.venv/lib/python3.12/site-packages/pymilvus/decorators.py:116\u001b[39m, in \u001b[36mretry_on_rpc_failure.<locals>.wrapper.<locals>.handler\u001b[39m\u001b[34m(*args, **kwargs)\u001b[39m\n\u001b[32m    115\u001b[39m     \u001b[38;5;28;01melse\u001b[39;00m:\n\u001b[32m--> \u001b[39m\u001b[32m116\u001b[39m         \u001b[38;5;28;01mraise\u001b[39;00m e \u001b[38;5;28;01mfrom\u001b[39;00m\u001b[38;5;250m \u001b[39m\u001b[34;01me\u001b[39;00m\n\u001b[32m    117\u001b[39m \u001b[38;5;28;01mexcept\u001b[39;00m \u001b[38;5;167;01mException\u001b[39;00m \u001b[38;5;28;01mas\u001b[39;00m e:\n",
      "\u001b[36mFile \u001b[39m\u001b[32m~/Documents/Workspace/Milvus_ollama_trial/.venv/lib/python3.12/site-packages/pymilvus/decorators.py:86\u001b[39m, in \u001b[36mretry_on_rpc_failure.<locals>.wrapper.<locals>.handler\u001b[39m\u001b[34m(*args, **kwargs)\u001b[39m\n\u001b[32m     85\u001b[39m \u001b[38;5;28;01mtry\u001b[39;00m:\n\u001b[32m---> \u001b[39m\u001b[32m86\u001b[39m     \u001b[38;5;28;01mreturn\u001b[39;00m \u001b[43mfunc\u001b[49m\u001b[43m(\u001b[49m\u001b[43m*\u001b[49m\u001b[43margs\u001b[49m\u001b[43m,\u001b[49m\u001b[43m \u001b[49m\u001b[43m*\u001b[49m\u001b[43m*\u001b[49m\u001b[43mkwargs\u001b[49m\u001b[43m)\u001b[49m\n\u001b[32m     87\u001b[39m \u001b[38;5;28;01mexcept\u001b[39;00m grpc.RpcError \u001b[38;5;28;01mas\u001b[39;00m e:\n\u001b[32m     88\u001b[39m     \u001b[38;5;66;03m# Do not retry on these codes\u001b[39;00m\n",
      "\u001b[36mFile \u001b[39m\u001b[32m~/Documents/Workspace/Milvus_ollama_trial/.venv/lib/python3.12/site-packages/pymilvus/client/grpc_handler.py:970\u001b[39m, in \u001b[36mGrpcHandler.search\u001b[39m\u001b[34m(self, collection_name, data, anns_field, param, limit, expression, partition_names, output_fields, round_decimal, timeout, ranker, **kwargs)\u001b[39m\n\u001b[32m    957\u001b[39m request = Prepare.search_requests_with_expr(\n\u001b[32m    958\u001b[39m     collection_name,\n\u001b[32m    959\u001b[39m     data,\n\u001b[32m   (...)\u001b[39m\u001b[32m    968\u001b[39m     **kwargs,\n\u001b[32m    969\u001b[39m )\n\u001b[32m--> \u001b[39m\u001b[32m970\u001b[39m \u001b[38;5;28;01mreturn\u001b[39;00m \u001b[38;5;28;43mself\u001b[39;49m\u001b[43m.\u001b[49m\u001b[43m_execute_search\u001b[49m\u001b[43m(\u001b[49m\u001b[43mrequest\u001b[49m\u001b[43m,\u001b[49m\u001b[43m \u001b[49m\u001b[43mtimeout\u001b[49m\u001b[43m,\u001b[49m\u001b[43m \u001b[49m\u001b[43mround_decimal\u001b[49m\u001b[43m=\u001b[49m\u001b[43mround_decimal\u001b[49m\u001b[43m,\u001b[49m\u001b[43m \u001b[49m\u001b[43m*\u001b[49m\u001b[43m*\u001b[49m\u001b[43mkwargs\u001b[49m\u001b[43m)\u001b[49m\n",
      "\u001b[36mFile \u001b[39m\u001b[32m~/Documents/Workspace/Milvus_ollama_trial/.venv/lib/python3.12/site-packages/pymilvus/client/grpc_handler.py:905\u001b[39m, in \u001b[36mGrpcHandler._execute_search\u001b[39m\u001b[34m(self, request, timeout, **kwargs)\u001b[39m\n\u001b[32m    904\u001b[39m     \u001b[38;5;28;01mreturn\u001b[39;00m SearchFuture(\u001b[38;5;28;01mNone\u001b[39;00m, \u001b[38;5;28;01mNone\u001b[39;00m, e)\n\u001b[32m--> \u001b[39m\u001b[32m905\u001b[39m \u001b[38;5;28;01mraise\u001b[39;00m e \u001b[38;5;28;01mfrom\u001b[39;00m\u001b[38;5;250m \u001b[39m\u001b[34;01me\u001b[39;00m\n",
      "\u001b[36mFile \u001b[39m\u001b[32m~/Documents/Workspace/Milvus_ollama_trial/.venv/lib/python3.12/site-packages/pymilvus/client/grpc_handler.py:896\u001b[39m, in \u001b[36mGrpcHandler._execute_search\u001b[39m\u001b[34m(self, request, timeout, **kwargs)\u001b[39m\n\u001b[32m    895\u001b[39m     round_decimal = kwargs.get(\u001b[33m\"\u001b[39m\u001b[33mround_decimal\u001b[39m\u001b[33m\"\u001b[39m, -\u001b[32m1\u001b[39m)\n\u001b[32m--> \u001b[39m\u001b[32m896\u001b[39m     \u001b[38;5;28;01mreturn\u001b[39;00m \u001b[43mSearchResult\u001b[49m\u001b[43m(\u001b[49m\n\u001b[32m    897\u001b[39m \u001b[43m        \u001b[49m\u001b[43mresponse\u001b[49m\u001b[43m.\u001b[49m\u001b[43mresults\u001b[49m\u001b[43m,\u001b[49m\n\u001b[32m    898\u001b[39m \u001b[43m        \u001b[49m\u001b[43mround_decimal\u001b[49m\u001b[43m,\u001b[49m\n\u001b[32m    899\u001b[39m \u001b[43m        \u001b[49m\u001b[43mstatus\u001b[49m\u001b[43m=\u001b[49m\u001b[43mresponse\u001b[49m\u001b[43m.\u001b[49m\u001b[43mstatus\u001b[49m\u001b[43m,\u001b[49m\n\u001b[32m    900\u001b[39m \u001b[43m        \u001b[49m\u001b[43msession_ts\u001b[49m\u001b[43m=\u001b[49m\u001b[43mresponse\u001b[49m\u001b[43m.\u001b[49m\u001b[43msession_ts\u001b[49m\u001b[43m,\u001b[49m\n\u001b[32m    901\u001b[39m \u001b[43m    \u001b[49m\u001b[43m)\u001b[49m\n\u001b[32m    902\u001b[39m \u001b[38;5;28;01mexcept\u001b[39;00m \u001b[38;5;167;01mException\u001b[39;00m \u001b[38;5;28;01mas\u001b[39;00m e:\n",
      "\u001b[36mFile \u001b[39m\u001b[32m~/Documents/Workspace/Milvus_ollama_trial/.venv/lib/python3.12/site-packages/pymilvus/client/search_result.py:215\u001b[39m, in \u001b[36mSearchResult.__init__\u001b[39m\u001b[34m(self, res, round_decimal, status, session_ts)\u001b[39m\n\u001b[32m    208\u001b[39m \u001b[38;5;28;01mdef\u001b[39;00m\u001b[38;5;250m \u001b[39m\u001b[34m__init__\u001b[39m(\n\u001b[32m    209\u001b[39m     \u001b[38;5;28mself\u001b[39m,\n\u001b[32m    210\u001b[39m     res: schema_pb2.SearchResultData,\n\u001b[32m   (...)\u001b[39m\u001b[32m    213\u001b[39m     session_ts: Optional[\u001b[38;5;28mint\u001b[39m] = \u001b[32m0\u001b[39m,\n\u001b[32m    214\u001b[39m ):\n\u001b[32m--> \u001b[39m\u001b[32m215\u001b[39m     _data = \u001b[38;5;28;43mself\u001b[39;49m\u001b[43m.\u001b[49m\u001b[43m_parse_search_result_data\u001b[49m\u001b[43m(\u001b[49m\u001b[43mres\u001b[49m\u001b[43m,\u001b[49m\u001b[43m \u001b[49m\u001b[43mround_decimal\u001b[49m\u001b[43m)\u001b[49m\n\u001b[32m    216\u001b[39m     \u001b[38;5;28msuper\u001b[39m().\u001b[34m__init__\u001b[39m(_data)\n",
      "\u001b[36mFile \u001b[39m\u001b[32m~/Documents/Workspace/Milvus_ollama_trial/.venv/lib/python3.12/site-packages/pymilvus/client/search_result.py:271\u001b[39m, in \u001b[36mSearchResult._parse_search_result_data\u001b[39m\u001b[34m(self, res, round_decimal)\u001b[39m\n\u001b[32m    269\u001b[39m start, end = nq_thres, nq_thres + topk\n\u001b[32m    270\u001b[39m data.append(\n\u001b[32m--> \u001b[39m\u001b[32m271\u001b[39m     \u001b[43mHybridHits\u001b[49m\u001b[43m(\u001b[49m\n\u001b[32m    272\u001b[39m \u001b[43m        \u001b[49m\u001b[43mstart\u001b[49m\u001b[43m,\u001b[49m\n\u001b[32m    273\u001b[39m \u001b[43m        \u001b[49m\u001b[43mend\u001b[49m\u001b[43m,\u001b[49m\n\u001b[32m    274\u001b[39m \u001b[43m        \u001b[49m\u001b[43mall_pks\u001b[49m\u001b[43m,\u001b[49m\n\u001b[32m    275\u001b[39m \u001b[43m        \u001b[49m\u001b[43mall_scores\u001b[49m\u001b[43m,\u001b[49m\n\u001b[32m    276\u001b[39m \u001b[43m        \u001b[49m\u001b[43mres\u001b[49m\u001b[43m.\u001b[49m\u001b[43mfields_data\u001b[49m\u001b[43m,\u001b[49m\n\u001b[32m    277\u001b[39m \u001b[43m        \u001b[49m\u001b[43mres\u001b[49m\u001b[43m.\u001b[49m\u001b[43moutput_fields\u001b[49m\u001b[43m,\u001b[49m\n\u001b[32m    278\u001b[39m \u001b[43m        \u001b[49m\u001b[43m_pk_name\u001b[49m\u001b[43m,\u001b[49m\n\u001b[32m    279\u001b[39m \u001b[43m    \u001b[49m\u001b[43m)\u001b[49m\n\u001b[32m    280\u001b[39m )\n\u001b[32m    281\u001b[39m nq_thres += topk\n",
      "\u001b[36mFile \u001b[39m\u001b[32m~/Documents/Workspace/Milvus_ollama_trial/.venv/lib/python3.12/site-packages/pymilvus/client/search_result.py:47\u001b[39m, in \u001b[36mHybridHits.__init__\u001b[39m\u001b[34m(self, start, end, all_pks, all_scores, fields_data, output_fields, pk_name)\u001b[39m\n\u001b[32m     46\u001b[39m \u001b[38;5;28;01mfor\u001b[39;00m field_data \u001b[38;5;129;01min\u001b[39;00m fields_data:\n\u001b[32m---> \u001b[39m\u001b[32m47\u001b[39m     data = \u001b[43mget_field_data\u001b[49m\u001b[43m(\u001b[49m\u001b[43mfield_data\u001b[49m\u001b[43m)\u001b[49m\n\u001b[32m     48\u001b[39m     has_valid = \u001b[38;5;28mlen\u001b[39m(field_data.valid_data) > \u001b[32m0\u001b[39m\n",
      "\u001b[36mFile \u001b[39m\u001b[32m~/Documents/Workspace/Milvus_ollama_trial/.venv/lib/python3.12/site-packages/pymilvus/client/search_result.py:473\u001b[39m, in \u001b[36mget_field_data\u001b[39m\u001b[34m(field_data)\u001b[39m\n\u001b[32m    472\u001b[39m msg = \u001b[33mf\u001b[39m\u001b[33m\"\u001b[39m\u001b[33mUnsupported field type: \u001b[39m\u001b[38;5;132;01m{\u001b[39;00mfield_data.type\u001b[38;5;132;01m}\u001b[39;00m\u001b[33m\"\u001b[39m\n\u001b[32m--> \u001b[39m\u001b[32m473\u001b[39m \u001b[38;5;28;01mraise\u001b[39;00m MilvusException(msg)\n",
      "\u001b[31mMilvusException\u001b[39m: <MilvusException: (code=Unsupported field type: 0, message=)>",
      "\nThe above exception was the direct cause of the following exception:\n",
      "\u001b[31mMilvusException\u001b[39m                           Traceback (most recent call last)",
      "\u001b[36mCell\u001b[39m\u001b[36m \u001b[39m\u001b[32mIn[22]\u001b[39m\u001b[32m, line 11\u001b[39m\n\u001b[32m      7\u001b[39m \u001b[38;5;28mprint\u001b[39m(\u001b[33mf\u001b[39m\u001b[33m\"\u001b[39m\u001b[33mfilter: \u001b[39m\u001b[38;5;132;01m{\u001b[39;00mexpression\u001b[38;5;132;01m}\u001b[39;00m\u001b[33m\"\u001b[39m)\n\u001b[32m      9\u001b[39m start_time = time.time()\n\u001b[32m     10\u001b[39m formatted_results, contexts, context_metadata = \\\n\u001b[32m---> \u001b[39m\u001b[32m11\u001b[39m     \u001b[43mmc_run_search\u001b[49m\u001b[43m(\u001b[49m\u001b[43mSAMPLE_QUESTION\u001b[49m\u001b[43m,\u001b[49m\u001b[43m \u001b[49m\u001b[43mexpression\u001b[49m\u001b[43m,\u001b[49m\u001b[43m \u001b[49m\u001b[43mTOP_K\u001b[49m\u001b[43m)\u001b[49m\n\u001b[32m     12\u001b[39m elapsed_time = time.time() - start_time\n\u001b[32m     13\u001b[39m \u001b[38;5;28mprint\u001b[39m(\u001b[33mf\u001b[39m\u001b[33m\"\u001b[39m\u001b[33mMilvus Client search time for \u001b[39m\u001b[38;5;132;01m{\u001b[39;00m\u001b[38;5;28mlen\u001b[39m(dict_list)\u001b[38;5;132;01m}\u001b[39;00m\u001b[33m vectors: \u001b[39m\u001b[38;5;132;01m{\u001b[39;00melapsed_time\u001b[38;5;132;01m}\u001b[39;00m\u001b[33m seconds\u001b[39m\u001b[33m\"\u001b[39m)\n",
      "\u001b[36mCell\u001b[39m\u001b[36m \u001b[39m\u001b[32mIn[20]\u001b[39m\u001b[32m, line 11\u001b[39m, in \u001b[36mmc_run_search\u001b[39m\u001b[34m(question, filter_expression, top_k)\u001b[39m\n\u001b[32m      7\u001b[39m \u001b[38;5;28mprint\u001b[39m(\u001b[33m\"\u001b[39m\u001b[33membedding[0] length:\u001b[39m\u001b[33m\"\u001b[39m, \u001b[38;5;28mlen\u001b[39m(query_embeddings[\u001b[32m0\u001b[39m]))\n\u001b[32m      8\u001b[39m \u001b[38;5;28mprint\u001b[39m(\u001b[33m\"\u001b[39m\u001b[33membedding[0][:5]:\u001b[39m\u001b[33m\"\u001b[39m, query_embeddings[\u001b[32m0\u001b[39m][:\u001b[32m5\u001b[39m])\n\u001b[32m---> \u001b[39m\u001b[32m11\u001b[39m results = \u001b[43mmc\u001b[49m\u001b[43m.\u001b[49m\u001b[43msearch\u001b[49m\u001b[43m(\u001b[49m\n\u001b[32m     12\u001b[39m \u001b[43m    \u001b[49m\u001b[43mCOLLECTION_NAME\u001b[49m\u001b[43m,\u001b[49m\n\u001b[32m     13\u001b[39m \u001b[43m    \u001b[49m\u001b[43mdata\u001b[49m\u001b[43m=\u001b[49m\u001b[43mquery_embeddings\u001b[49m\u001b[43m,\u001b[49m\n\u001b[32m     14\u001b[39m \u001b[43m    \u001b[49m\u001b[43mvector_field\u001b[49m\u001b[43m=\u001b[49m\u001b[33;43m'\u001b[39;49m\u001b[33;43mvector\u001b[39;49m\u001b[33;43m'\u001b[39;49m\u001b[43m,\u001b[49m\n\u001b[32m     15\u001b[39m \u001b[43m    \u001b[49m\u001b[43moutput_fields\u001b[49m\u001b[43m=\u001b[49m\u001b[43mOUTPUT_FIELDS\u001b[49m\u001b[43m,\u001b[49m\n\u001b[32m     16\u001b[39m \u001b[43m    \u001b[49m\u001b[38;5;28;43mfilter\u001b[39;49m\u001b[43m=\u001b[49m\u001b[43mfilter_expression\u001b[49m\u001b[43m,\u001b[49m\n\u001b[32m     17\u001b[39m \u001b[43m    \u001b[49m\u001b[43mlimit\u001b[49m\u001b[43m=\u001b[49m\u001b[43mtop_k\u001b[49m\u001b[43m,\u001b[49m\n\u001b[32m     18\u001b[39m \u001b[43m    \u001b[49m\u001b[43mconsistency_level\u001b[49m\u001b[43m=\u001b[49m\u001b[33;43m\"\u001b[39;49m\u001b[33;43mEventually\u001b[39;49m\u001b[33;43m\"\u001b[39;49m\n\u001b[32m     19\u001b[39m \u001b[43m\u001b[49m\u001b[43m)\u001b[49m\n\u001b[32m     21\u001b[39m METADATA_FIELDS = [f \u001b[38;5;28;01mfor\u001b[39;00m f \u001b[38;5;129;01min\u001b[39;00m OUTPUT_FIELDS \u001b[38;5;28;01mif\u001b[39;00m f != \u001b[33m'\u001b[39m\u001b[33mchunk\u001b[39m\u001b[33m'\u001b[39m]\n\u001b[32m     22\u001b[39m formatted_results, context, context_metadata = _utils.client_assemble_retrieved_context(\n\u001b[32m     23\u001b[39m     results, metadata_fields=METADATA_FIELDS, num_shot_answers=TOP_K\n\u001b[32m     24\u001b[39m )\n",
      "\u001b[36mFile \u001b[39m\u001b[32m~/Documents/Workspace/Milvus_ollama_trial/.venv/lib/python3.12/site-packages/pymilvus/milvus_client/milvus_client.py:426\u001b[39m, in \u001b[36mMilvusClient.search\u001b[39m\u001b[34m(self, collection_name, data, filter, limit, output_fields, search_params, timeout, partition_names, anns_field, ranker, **kwargs)\u001b[39m\n\u001b[32m    424\u001b[39m \u001b[38;5;28;01mexcept\u001b[39;00m \u001b[38;5;167;01mException\u001b[39;00m \u001b[38;5;28;01mas\u001b[39;00m ex:\n\u001b[32m    425\u001b[39m     logger.error(\u001b[33m\"\u001b[39m\u001b[33mFailed to search collection: \u001b[39m\u001b[38;5;132;01m%s\u001b[39;00m\u001b[33m\"\u001b[39m, collection_name)\n\u001b[32m--> \u001b[39m\u001b[32m426\u001b[39m     \u001b[38;5;28;01mraise\u001b[39;00m ex \u001b[38;5;28;01mfrom\u001b[39;00m\u001b[38;5;250m \u001b[39m\u001b[34;01mex\u001b[39;00m\n\u001b[32m    428\u001b[39m \u001b[38;5;28;01mreturn\u001b[39;00m res\n",
      "\u001b[36mFile \u001b[39m\u001b[32m~/Documents/Workspace/Milvus_ollama_trial/.venv/lib/python3.12/site-packages/pymilvus/milvus_client/milvus_client.py:410\u001b[39m, in \u001b[36mMilvusClient.search\u001b[39m\u001b[34m(self, collection_name, data, filter, limit, output_fields, search_params, timeout, partition_names, anns_field, ranker, **kwargs)\u001b[39m\n\u001b[32m    408\u001b[39m conn = \u001b[38;5;28mself\u001b[39m._get_connection()\n\u001b[32m    409\u001b[39m \u001b[38;5;28;01mtry\u001b[39;00m:\n\u001b[32m--> \u001b[39m\u001b[32m410\u001b[39m     res = \u001b[43mconn\u001b[49m\u001b[43m.\u001b[49m\u001b[43msearch\u001b[49m\u001b[43m(\u001b[49m\n\u001b[32m    411\u001b[39m \u001b[43m        \u001b[49m\u001b[43mcollection_name\u001b[49m\u001b[43m,\u001b[49m\n\u001b[32m    412\u001b[39m \u001b[43m        \u001b[49m\u001b[43mdata\u001b[49m\u001b[43m,\u001b[49m\n\u001b[32m    413\u001b[39m \u001b[43m        \u001b[49m\u001b[43manns_field\u001b[49m\u001b[43m \u001b[49m\u001b[38;5;129;43;01mor\u001b[39;49;00m\u001b[43m \u001b[49m\u001b[33;43m\"\u001b[39;49m\u001b[33;43m\"\u001b[39;49m\u001b[43m,\u001b[49m\n\u001b[32m    414\u001b[39m \u001b[43m        \u001b[49m\u001b[43msearch_params\u001b[49m\u001b[43m \u001b[49m\u001b[38;5;129;43;01mor\u001b[39;49;00m\u001b[43m \u001b[49m\u001b[43m{\u001b[49m\u001b[43m}\u001b[49m\u001b[43m,\u001b[49m\n\u001b[32m    415\u001b[39m \u001b[43m        \u001b[49m\u001b[43mexpression\u001b[49m\u001b[43m=\u001b[49m\u001b[38;5;28;43mfilter\u001b[39;49m\u001b[43m,\u001b[49m\n\u001b[32m    416\u001b[39m \u001b[43m        \u001b[49m\u001b[43mlimit\u001b[49m\u001b[43m=\u001b[49m\u001b[43mlimit\u001b[49m\u001b[43m,\u001b[49m\n\u001b[32m    417\u001b[39m \u001b[43m        \u001b[49m\u001b[43moutput_fields\u001b[49m\u001b[43m=\u001b[49m\u001b[43moutput_fields\u001b[49m\u001b[43m,\u001b[49m\n\u001b[32m    418\u001b[39m \u001b[43m        \u001b[49m\u001b[43mpartition_names\u001b[49m\u001b[43m=\u001b[49m\u001b[43mpartition_names\u001b[49m\u001b[43m,\u001b[49m\n\u001b[32m    419\u001b[39m \u001b[43m        \u001b[49m\u001b[43mexpr_params\u001b[49m\u001b[43m=\u001b[49m\u001b[43mkwargs\u001b[49m\u001b[43m.\u001b[49m\u001b[43mpop\u001b[49m\u001b[43m(\u001b[49m\u001b[33;43m\"\u001b[39;49m\u001b[33;43mfilter_params\u001b[39;49m\u001b[33;43m\"\u001b[39;49m\u001b[43m,\u001b[49m\u001b[43m \u001b[49m\u001b[43m{\u001b[49m\u001b[43m}\u001b[49m\u001b[43m)\u001b[49m\u001b[43m,\u001b[49m\n\u001b[32m    420\u001b[39m \u001b[43m        \u001b[49m\u001b[43mtimeout\u001b[49m\u001b[43m=\u001b[49m\u001b[43mtimeout\u001b[49m\u001b[43m,\u001b[49m\n\u001b[32m    421\u001b[39m \u001b[43m        \u001b[49m\u001b[43mranker\u001b[49m\u001b[43m=\u001b[49m\u001b[43mranker\u001b[49m\u001b[43m,\u001b[49m\n\u001b[32m    422\u001b[39m \u001b[43m        \u001b[49m\u001b[43m*\u001b[49m\u001b[43m*\u001b[49m\u001b[43mkwargs\u001b[49m\u001b[43m,\u001b[49m\n\u001b[32m    423\u001b[39m \u001b[43m    \u001b[49m\u001b[43m)\u001b[49m\n\u001b[32m    424\u001b[39m \u001b[38;5;28;01mexcept\u001b[39;00m \u001b[38;5;167;01mException\u001b[39;00m \u001b[38;5;28;01mas\u001b[39;00m ex:\n\u001b[32m    425\u001b[39m     logger.error(\u001b[33m\"\u001b[39m\u001b[33mFailed to search collection: \u001b[39m\u001b[38;5;132;01m%s\u001b[39;00m\u001b[33m\"\u001b[39m, collection_name)\n",
      "\u001b[36mFile \u001b[39m\u001b[32m~/Documents/Workspace/Milvus_ollama_trial/.venv/lib/python3.12/site-packages/pymilvus/decorators.py:141\u001b[39m, in \u001b[36merror_handler.<locals>.wrapper.<locals>.handler\u001b[39m\u001b[34m(*args, **kwargs)\u001b[39m\n\u001b[32m    139\u001b[39m     record_dict[\u001b[33m\"\u001b[39m\u001b[33mRPC error\u001b[39m\u001b[33m\"\u001b[39m] = \u001b[38;5;28mstr\u001b[39m(datetime.datetime.now())\n\u001b[32m    140\u001b[39m     LOGGER.error(\u001b[33mf\u001b[39m\u001b[33m\"\u001b[39m\u001b[33mRPC error: [\u001b[39m\u001b[38;5;132;01m{\u001b[39;00minner_name\u001b[38;5;132;01m}\u001b[39;00m\u001b[33m], \u001b[39m\u001b[38;5;132;01m{\u001b[39;00me\u001b[38;5;132;01m}\u001b[39;00m\u001b[33m, <Time:\u001b[39m\u001b[38;5;132;01m{\u001b[39;00mrecord_dict\u001b[38;5;132;01m}\u001b[39;00m\u001b[33m>\u001b[39m\u001b[33m\"\u001b[39m)\n\u001b[32m--> \u001b[39m\u001b[32m141\u001b[39m     \u001b[38;5;28;01mraise\u001b[39;00m e \u001b[38;5;28;01mfrom\u001b[39;00m\u001b[38;5;250m \u001b[39m\u001b[34;01me\u001b[39;00m\n\u001b[32m    142\u001b[39m \u001b[38;5;28;01mexcept\u001b[39;00m grpc.FutureTimeoutError \u001b[38;5;28;01mas\u001b[39;00m e:\n\u001b[32m    143\u001b[39m     record_dict[\u001b[33m\"\u001b[39m\u001b[33mgRPC timeout\u001b[39m\u001b[33m\"\u001b[39m] = \u001b[38;5;28mstr\u001b[39m(datetime.datetime.now())\n",
      "\u001b[36mFile \u001b[39m\u001b[32m~/Documents/Workspace/Milvus_ollama_trial/.venv/lib/python3.12/site-packages/pymilvus/decorators.py:137\u001b[39m, in \u001b[36merror_handler.<locals>.wrapper.<locals>.handler\u001b[39m\u001b[34m(*args, **kwargs)\u001b[39m\n\u001b[32m    135\u001b[39m \u001b[38;5;28;01mtry\u001b[39;00m:\n\u001b[32m    136\u001b[39m     record_dict[\u001b[33m\"\u001b[39m\u001b[33mRPC start\u001b[39m\u001b[33m\"\u001b[39m] = \u001b[38;5;28mstr\u001b[39m(datetime.datetime.now())\n\u001b[32m--> \u001b[39m\u001b[32m137\u001b[39m     \u001b[38;5;28;01mreturn\u001b[39;00m \u001b[43mfunc\u001b[49m\u001b[43m(\u001b[49m\u001b[43m*\u001b[49m\u001b[43margs\u001b[49m\u001b[43m,\u001b[49m\u001b[43m \u001b[49m\u001b[43m*\u001b[49m\u001b[43m*\u001b[49m\u001b[43mkwargs\u001b[49m\u001b[43m)\u001b[49m\n\u001b[32m    138\u001b[39m \u001b[38;5;28;01mexcept\u001b[39;00m MilvusException \u001b[38;5;28;01mas\u001b[39;00m e:\n\u001b[32m    139\u001b[39m     record_dict[\u001b[33m\"\u001b[39m\u001b[33mRPC error\u001b[39m\u001b[33m\"\u001b[39m] = \u001b[38;5;28mstr\u001b[39m(datetime.datetime.now())\n",
      "\u001b[36mFile \u001b[39m\u001b[32m~/Documents/Workspace/Milvus_ollama_trial/.venv/lib/python3.12/site-packages/pymilvus/decorators.py:173\u001b[39m, in \u001b[36mtracing_request.<locals>.wrapper.<locals>.handler\u001b[39m\u001b[34m(self, *args, **kwargs)\u001b[39m\n\u001b[32m    171\u001b[39m \u001b[38;5;28;01mif\u001b[39;00m level:\n\u001b[32m    172\u001b[39m     \u001b[38;5;28mself\u001b[39m.set_onetime_loglevel(level)\n\u001b[32m--> \u001b[39m\u001b[32m173\u001b[39m \u001b[38;5;28;01mreturn\u001b[39;00m \u001b[43mfunc\u001b[49m\u001b[43m(\u001b[49m\u001b[38;5;28;43mself\u001b[39;49m\u001b[43m,\u001b[49m\u001b[43m \u001b[49m\u001b[43m*\u001b[49m\u001b[43margs\u001b[49m\u001b[43m,\u001b[49m\u001b[43m \u001b[49m\u001b[43m*\u001b[49m\u001b[43m*\u001b[49m\u001b[43mkwargs\u001b[49m\u001b[43m)\u001b[49m\n",
      "\u001b[36mFile \u001b[39m\u001b[32m~/Documents/Workspace/Milvus_ollama_trial/.venv/lib/python3.12/site-packages/pymilvus/decorators.py:116\u001b[39m, in \u001b[36mretry_on_rpc_failure.<locals>.wrapper.<locals>.handler\u001b[39m\u001b[34m(*args, **kwargs)\u001b[39m\n\u001b[32m    114\u001b[39m         back_off = \u001b[38;5;28mmin\u001b[39m(back_off * back_off_multiplier, max_back_off)\n\u001b[32m    115\u001b[39m     \u001b[38;5;28;01melse\u001b[39;00m:\n\u001b[32m--> \u001b[39m\u001b[32m116\u001b[39m         \u001b[38;5;28;01mraise\u001b[39;00m e \u001b[38;5;28;01mfrom\u001b[39;00m\u001b[38;5;250m \u001b[39m\u001b[34;01me\u001b[39;00m\n\u001b[32m    117\u001b[39m \u001b[38;5;28;01mexcept\u001b[39;00m \u001b[38;5;167;01mException\u001b[39;00m \u001b[38;5;28;01mas\u001b[39;00m e:\n\u001b[32m    118\u001b[39m     \u001b[38;5;28;01mraise\u001b[39;00m e \u001b[38;5;28;01mfrom\u001b[39;00m\u001b[38;5;250m \u001b[39m\u001b[34;01me\u001b[39;00m\n",
      "\u001b[36mFile \u001b[39m\u001b[32m~/Documents/Workspace/Milvus_ollama_trial/.venv/lib/python3.12/site-packages/pymilvus/decorators.py:86\u001b[39m, in \u001b[36mretry_on_rpc_failure.<locals>.wrapper.<locals>.handler\u001b[39m\u001b[34m(*args, **kwargs)\u001b[39m\n\u001b[32m     84\u001b[39m \u001b[38;5;28;01mwhile\u001b[39;00m \u001b[38;5;28;01mTrue\u001b[39;00m:\n\u001b[32m     85\u001b[39m     \u001b[38;5;28;01mtry\u001b[39;00m:\n\u001b[32m---> \u001b[39m\u001b[32m86\u001b[39m         \u001b[38;5;28;01mreturn\u001b[39;00m \u001b[43mfunc\u001b[49m\u001b[43m(\u001b[49m\u001b[43m*\u001b[49m\u001b[43margs\u001b[49m\u001b[43m,\u001b[49m\u001b[43m \u001b[49m\u001b[43m*\u001b[49m\u001b[43m*\u001b[49m\u001b[43mkwargs\u001b[49m\u001b[43m)\u001b[49m\n\u001b[32m     87\u001b[39m     \u001b[38;5;28;01mexcept\u001b[39;00m grpc.RpcError \u001b[38;5;28;01mas\u001b[39;00m e:\n\u001b[32m     88\u001b[39m         \u001b[38;5;66;03m# Do not retry on these codes\u001b[39;00m\n\u001b[32m     89\u001b[39m         \u001b[38;5;28;01mif\u001b[39;00m e.code() \u001b[38;5;129;01min\u001b[39;00m IGNORE_RETRY_CODES:\n",
      "\u001b[36mFile \u001b[39m\u001b[32m~/Documents/Workspace/Milvus_ollama_trial/.venv/lib/python3.12/site-packages/pymilvus/client/grpc_handler.py:970\u001b[39m, in \u001b[36mGrpcHandler.search\u001b[39m\u001b[34m(self, collection_name, data, anns_field, param, limit, expression, partition_names, output_fields, round_decimal, timeout, ranker, **kwargs)\u001b[39m\n\u001b[32m    946\u001b[39m check_pass_param(\n\u001b[32m    947\u001b[39m     limit=limit,\n\u001b[32m    948\u001b[39m     round_decimal=round_decimal,\n\u001b[32m   (...)\u001b[39m\u001b[32m    954\u001b[39m     timeout=timeout,\n\u001b[32m    955\u001b[39m )\n\u001b[32m    957\u001b[39m request = Prepare.search_requests_with_expr(\n\u001b[32m    958\u001b[39m     collection_name,\n\u001b[32m    959\u001b[39m     data,\n\u001b[32m   (...)\u001b[39m\u001b[32m    968\u001b[39m     **kwargs,\n\u001b[32m    969\u001b[39m )\n\u001b[32m--> \u001b[39m\u001b[32m970\u001b[39m \u001b[38;5;28;01mreturn\u001b[39;00m \u001b[38;5;28;43mself\u001b[39;49m\u001b[43m.\u001b[49m\u001b[43m_execute_search\u001b[49m\u001b[43m(\u001b[49m\u001b[43mrequest\u001b[49m\u001b[43m,\u001b[49m\u001b[43m \u001b[49m\u001b[43mtimeout\u001b[49m\u001b[43m,\u001b[49m\u001b[43m \u001b[49m\u001b[43mround_decimal\u001b[49m\u001b[43m=\u001b[49m\u001b[43mround_decimal\u001b[49m\u001b[43m,\u001b[49m\u001b[43m \u001b[49m\u001b[43m*\u001b[49m\u001b[43m*\u001b[49m\u001b[43mkwargs\u001b[49m\u001b[43m)\u001b[49m\n",
      "\u001b[36mFile \u001b[39m\u001b[32m~/Documents/Workspace/Milvus_ollama_trial/.venv/lib/python3.12/site-packages/pymilvus/client/grpc_handler.py:905\u001b[39m, in \u001b[36mGrpcHandler._execute_search\u001b[39m\u001b[34m(self, request, timeout, **kwargs)\u001b[39m\n\u001b[32m    903\u001b[39m \u001b[38;5;28;01mif\u001b[39;00m kwargs.get(\u001b[33m\"\u001b[39m\u001b[33m_async\u001b[39m\u001b[33m\"\u001b[39m, \u001b[38;5;28;01mFalse\u001b[39;00m):\n\u001b[32m    904\u001b[39m     \u001b[38;5;28;01mreturn\u001b[39;00m SearchFuture(\u001b[38;5;28;01mNone\u001b[39;00m, \u001b[38;5;28;01mNone\u001b[39;00m, e)\n\u001b[32m--> \u001b[39m\u001b[32m905\u001b[39m \u001b[38;5;28;01mraise\u001b[39;00m e \u001b[38;5;28;01mfrom\u001b[39;00m\u001b[38;5;250m \u001b[39m\u001b[34;01me\u001b[39;00m\n",
      "\u001b[36mFile \u001b[39m\u001b[32m~/Documents/Workspace/Milvus_ollama_trial/.venv/lib/python3.12/site-packages/pymilvus/client/grpc_handler.py:896\u001b[39m, in \u001b[36mGrpcHandler._execute_search\u001b[39m\u001b[34m(self, request, timeout, **kwargs)\u001b[39m\n\u001b[32m    894\u001b[39m     check_status(response.status)\n\u001b[32m    895\u001b[39m     round_decimal = kwargs.get(\u001b[33m\"\u001b[39m\u001b[33mround_decimal\u001b[39m\u001b[33m\"\u001b[39m, -\u001b[32m1\u001b[39m)\n\u001b[32m--> \u001b[39m\u001b[32m896\u001b[39m     \u001b[38;5;28;01mreturn\u001b[39;00m \u001b[43mSearchResult\u001b[49m\u001b[43m(\u001b[49m\n\u001b[32m    897\u001b[39m \u001b[43m        \u001b[49m\u001b[43mresponse\u001b[49m\u001b[43m.\u001b[49m\u001b[43mresults\u001b[49m\u001b[43m,\u001b[49m\n\u001b[32m    898\u001b[39m \u001b[43m        \u001b[49m\u001b[43mround_decimal\u001b[49m\u001b[43m,\u001b[49m\n\u001b[32m    899\u001b[39m \u001b[43m        \u001b[49m\u001b[43mstatus\u001b[49m\u001b[43m=\u001b[49m\u001b[43mresponse\u001b[49m\u001b[43m.\u001b[49m\u001b[43mstatus\u001b[49m\u001b[43m,\u001b[49m\n\u001b[32m    900\u001b[39m \u001b[43m        \u001b[49m\u001b[43msession_ts\u001b[49m\u001b[43m=\u001b[49m\u001b[43mresponse\u001b[49m\u001b[43m.\u001b[49m\u001b[43msession_ts\u001b[49m\u001b[43m,\u001b[49m\n\u001b[32m    901\u001b[39m \u001b[43m    \u001b[49m\u001b[43m)\u001b[49m\n\u001b[32m    902\u001b[39m \u001b[38;5;28;01mexcept\u001b[39;00m \u001b[38;5;167;01mException\u001b[39;00m \u001b[38;5;28;01mas\u001b[39;00m e:\n\u001b[32m    903\u001b[39m     \u001b[38;5;28;01mif\u001b[39;00m kwargs.get(\u001b[33m\"\u001b[39m\u001b[33m_async\u001b[39m\u001b[33m\"\u001b[39m, \u001b[38;5;28;01mFalse\u001b[39;00m):\n",
      "\u001b[36mFile \u001b[39m\u001b[32m~/Documents/Workspace/Milvus_ollama_trial/.venv/lib/python3.12/site-packages/pymilvus/client/search_result.py:215\u001b[39m, in \u001b[36mSearchResult.__init__\u001b[39m\u001b[34m(self, res, round_decimal, status, session_ts)\u001b[39m\n\u001b[32m    208\u001b[39m \u001b[38;5;28;01mdef\u001b[39;00m\u001b[38;5;250m \u001b[39m\u001b[34m__init__\u001b[39m(\n\u001b[32m    209\u001b[39m     \u001b[38;5;28mself\u001b[39m,\n\u001b[32m    210\u001b[39m     res: schema_pb2.SearchResultData,\n\u001b[32m   (...)\u001b[39m\u001b[32m    213\u001b[39m     session_ts: Optional[\u001b[38;5;28mint\u001b[39m] = \u001b[32m0\u001b[39m,\n\u001b[32m    214\u001b[39m ):\n\u001b[32m--> \u001b[39m\u001b[32m215\u001b[39m     _data = \u001b[38;5;28;43mself\u001b[39;49m\u001b[43m.\u001b[49m\u001b[43m_parse_search_result_data\u001b[49m\u001b[43m(\u001b[49m\u001b[43mres\u001b[49m\u001b[43m,\u001b[49m\u001b[43m \u001b[49m\u001b[43mround_decimal\u001b[49m\u001b[43m)\u001b[49m\n\u001b[32m    216\u001b[39m     \u001b[38;5;28msuper\u001b[39m().\u001b[34m__init__\u001b[39m(_data)\n\u001b[32m    218\u001b[39m     \u001b[38;5;66;03m# set recalls\u001b[39;00m\n",
      "\u001b[36mFile \u001b[39m\u001b[32m~/Documents/Workspace/Milvus_ollama_trial/.venv/lib/python3.12/site-packages/pymilvus/client/search_result.py:271\u001b[39m, in \u001b[36mSearchResult._parse_search_result_data\u001b[39m\u001b[34m(self, res, round_decimal)\u001b[39m\n\u001b[32m    268\u001b[39m \u001b[38;5;28;01mfor\u001b[39;00m topk \u001b[38;5;129;01min\u001b[39;00m res.topks:\n\u001b[32m    269\u001b[39m     start, end = nq_thres, nq_thres + topk\n\u001b[32m    270\u001b[39m     data.append(\n\u001b[32m--> \u001b[39m\u001b[32m271\u001b[39m         \u001b[43mHybridHits\u001b[49m\u001b[43m(\u001b[49m\n\u001b[32m    272\u001b[39m \u001b[43m            \u001b[49m\u001b[43mstart\u001b[49m\u001b[43m,\u001b[49m\n\u001b[32m    273\u001b[39m \u001b[43m            \u001b[49m\u001b[43mend\u001b[49m\u001b[43m,\u001b[49m\n\u001b[32m    274\u001b[39m \u001b[43m            \u001b[49m\u001b[43mall_pks\u001b[49m\u001b[43m,\u001b[49m\n\u001b[32m    275\u001b[39m \u001b[43m            \u001b[49m\u001b[43mall_scores\u001b[49m\u001b[43m,\u001b[49m\n\u001b[32m    276\u001b[39m \u001b[43m            \u001b[49m\u001b[43mres\u001b[49m\u001b[43m.\u001b[49m\u001b[43mfields_data\u001b[49m\u001b[43m,\u001b[49m\n\u001b[32m    277\u001b[39m \u001b[43m            \u001b[49m\u001b[43mres\u001b[49m\u001b[43m.\u001b[49m\u001b[43moutput_fields\u001b[49m\u001b[43m,\u001b[49m\n\u001b[32m    278\u001b[39m \u001b[43m            \u001b[49m\u001b[43m_pk_name\u001b[49m\u001b[43m,\u001b[49m\n\u001b[32m    279\u001b[39m \u001b[43m        \u001b[49m\u001b[43m)\u001b[49m\n\u001b[32m    280\u001b[39m     )\n\u001b[32m    281\u001b[39m     nq_thres += topk\n\u001b[32m    282\u001b[39m \u001b[38;5;28;01mreturn\u001b[39;00m data\n",
      "\u001b[36mFile \u001b[39m\u001b[32m~/Documents/Workspace/Milvus_ollama_trial/.venv/lib/python3.12/site-packages/pymilvus/client/search_result.py:47\u001b[39m, in \u001b[36mHybridHits.__init__\u001b[39m\u001b[34m(self, start, end, all_pks, all_scores, fields_data, output_fields, pk_name)\u001b[39m\n\u001b[32m     42\u001b[39m top_k_res = [\n\u001b[32m     43\u001b[39m     Hit({pk_name: all_pks[i], \u001b[33m\"\u001b[39m\u001b[33mdistance\u001b[39m\u001b[33m\"\u001b[39m: all_scores[i], \u001b[33m\"\u001b[39m\u001b[33mentity\u001b[39m\u001b[33m\"\u001b[39m: {}}, pk_name=pk_name)\n\u001b[32m     44\u001b[39m     \u001b[38;5;28;01mfor\u001b[39;00m i \u001b[38;5;129;01min\u001b[39;00m \u001b[38;5;28mrange\u001b[39m(start, end)\n\u001b[32m     45\u001b[39m ]\n\u001b[32m     46\u001b[39m \u001b[38;5;28;01mfor\u001b[39;00m field_data \u001b[38;5;129;01min\u001b[39;00m fields_data:\n\u001b[32m---> \u001b[39m\u001b[32m47\u001b[39m     data = \u001b[43mget_field_data\u001b[49m\u001b[43m(\u001b[49m\u001b[43mfield_data\u001b[49m\u001b[43m)\u001b[49m\n\u001b[32m     48\u001b[39m     has_valid = \u001b[38;5;28mlen\u001b[39m(field_data.valid_data) > \u001b[32m0\u001b[39m\n\u001b[32m     49\u001b[39m     \u001b[38;5;28;01mif\u001b[39;00m field_data.type \u001b[38;5;129;01min\u001b[39;00m [\n\u001b[32m     50\u001b[39m         DataType.BOOL,\n\u001b[32m     51\u001b[39m         DataType.INT8,\n\u001b[32m   (...)\u001b[39m\u001b[32m     57\u001b[39m         DataType.VARCHAR,\n\u001b[32m     58\u001b[39m     ]:\n",
      "\u001b[36mFile \u001b[39m\u001b[32m~/Documents/Workspace/Milvus_ollama_trial/.venv/lib/python3.12/site-packages/pymilvus/client/search_result.py:473\u001b[39m, in \u001b[36mget_field_data\u001b[39m\u001b[34m(field_data)\u001b[39m\n\u001b[32m    471\u001b[39m     \u001b[38;5;28;01mreturn\u001b[39;00m field_data.vectors.sparse_float_vector\n\u001b[32m    472\u001b[39m msg = \u001b[33mf\u001b[39m\u001b[33m\"\u001b[39m\u001b[33mUnsupported field type: \u001b[39m\u001b[38;5;132;01m{\u001b[39;00mfield_data.type\u001b[38;5;132;01m}\u001b[39;00m\u001b[33m\"\u001b[39m\n\u001b[32m--> \u001b[39m\u001b[32m473\u001b[39m \u001b[38;5;28;01mraise\u001b[39;00m MilvusException(msg)\n",
      "\u001b[31mMilvusException\u001b[39m: <MilvusException: (code=Unsupported field type: 0, message=)>"
>>>>>>> a4d1adae4206eff221511eab5e1a79d9c0838183
     ]
    }
   ],
   "source": [
    "TOP_K = 3\n",
    "expression = \"\"\n",
<<<<<<< HEAD
    "expression='RatingValue >= 6.5 and'\n",
    "\n",
    "expression=expression + ' (Genres like \"Documentary%\" or Genres like \"Short%\")'\n",
=======
    "expression='rating >= 6.5'\n",
    "\n",
    "expression=expression + ' && (genres[0] like \"Sci-Fi%\" || genres[1] like \"Sci-Fi%\" || genres[2] == \"Sci-Fi\")'\n",
>>>>>>> a4d1adae4206eff221511eab5e1a79d9c0838183
    "\n",
    "print(f\"filter: {expression}\")\n",
    "\n",
    "start_time = time.time()\n",
    "formatted_results, contexts, context_metadata = \\\n",
    "    mc_run_search(SAMPLE_QUESTION, expression, TOP_K)\n",
    "elapsed_time = time.time() - start_time\n",
    "print(f\"Milvus Client search time for {len(dict_list)} vectors: {elapsed_time} seconds\")\n",
    "\n",
    "print(f\"type: {type(formatted_results)}, count: {len(formatted_results)}\")"
   ]
  },
  {
   "cell_type": "code",
<<<<<<< HEAD
   "execution_count": 35,
   "id": "3af3b9df",
   "metadata": {},
   "outputs": [
    {
     "name": "stdout",
     "output_type": "stream",
     "text": [
      "[]\n"
     ]
    }
   ],
   "source": [
    "print(formatted_results)"
   ]
  },
  {
   "cell_type": "code",
   "execution_count": 33,
=======
   "execution_count": null,
>>>>>>> a4d1adae4206eff221511eab5e1a79d9c0838183
   "id": "362b8d82",
   "metadata": {},
   "outputs": [],
   "source": [
<<<<<<< HEAD
    "from IPython.display import Image\n",
    "from IPython.display import display\n",
=======
    "from Ipython.display import Image\n",
    "from Ipython.display import display\n",
>>>>>>> a4d1adae4206eff221511eab5e1a79d9c0838183
    "\n",
    "seen_movies = []\n",
    "\n",
    "for i in range(len(contexts)):\n",
    "    print(f\"Retrieved result #{i+1}\")\n",
    "    print(f\"distance = {formatted_results[i][0]}\")\n",
    "\n",
    "    movie_index = context_metadata[i]['movie_index']\n",
    "    print(f\"movie_index: {movie_index}\")\n",
    "\n",
    "    if movie_index in seen_movies:\n",
    "        continue\n",
    "    else:\n",
    "        seen_movies.append(movie_index)\n",
    "        x = Image(url = context_metadata[i]['poster_url'], width=150, height=200)\n",
    "        display(x)\n",
    "\n",
    "        pprint.pprint(f\"chunk: {contexts[i]}\")\n",
    "\n",
    "        for key, value in context_metadata[i].items():\n",
    "            if ((key != 'poster_url') and (key != 'movie_index')):\n",
    "                print(f\"{key}: {value}\")\n",
    "        print()\n",
    "\n",
    "\n",
    "\n"
   ]
<<<<<<< HEAD
  },
  {
   "cell_type": "code",
   "execution_count": 44,
   "id": "31baa59f",
   "metadata": {},
   "outputs": [
    {
     "name": "stdout",
     "output_type": "stream",
     "text": [
      "{'row_count': 254}\n"
     ]
    }
   ],
   "source": [
    "print(mc.get_collection_stats(COLLECTION_NAME))\n"
   ]
  },
  {
   "cell_type": "code",
   "execution_count": null,
   "id": "ff513e1a",
   "metadata": {},
   "outputs": [],
   "source": []
=======
>>>>>>> a4d1adae4206eff221511eab5e1a79d9c0838183
  }
 ],
 "metadata": {
  "kernelspec": {
   "display_name": "Milvus_ollama_trial",
   "language": "python",
   "name": "python3"
  },
  "language_info": {
   "codemirror_mode": {
    "name": "ipython",
    "version": 3
   },
   "file_extension": ".py",
   "mimetype": "text/x-python",
   "name": "python",
   "nbconvert_exporter": "python",
   "pygments_lexer": "ipython3",
   "version": "3.12.2"
  }
 },
 "nbformat": 4,
 "nbformat_minor": 5
}
